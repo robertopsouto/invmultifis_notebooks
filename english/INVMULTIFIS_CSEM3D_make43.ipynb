{
  "nbformat": 4,
  "nbformat_minor": 0,
  "metadata": {
    "colab": {
      "provenance": [],
      "machine_shape": "hm",
      "gpuType": "V100",
      "include_colab_link": true
    },
    "kernelspec": {
      "name": "python3",
      "display_name": "Python 3"
    },
    "language_info": {
      "name": "python"
    },
    "accelerator": "GPU",
    "gpuClass": "standard"
  },
  "cells": [
    {
      "cell_type": "markdown",
      "metadata": {
        "id": "view-in-github",
        "colab_type": "text"
      },
      "source": [
        "<a href=\"https://colab.research.google.com/github/robertopsouto/invmultifis_notebooks/blob/main/english/INVMULTIFIS_CSEM3D_make43.ipynb\" target=\"_parent\"><img src=\"https://colab.research.google.com/assets/colab-badge.svg\" alt=\"Open In Colab\"/></a>"
      ]
    },
    {
      "cell_type": "markdown",
      "source": [
        "# **INVMULTIFIS Project: Development of multi-physics data inversion software with optimization via artificial intelligence**\n",
        "\n",
        "The project proposes the development of an innovative inversion technology for the characterization and monitoring of deep water reservoirs for Petrobras (the Brazilian Oil Company) using CSEM (Controlled-Source Electromagnetic Methods), a robust risk reduction tool in the drilling of oil basins, using multiphysics data in the 3D domain. One of the main objectives of this project is to develop, optimize and parallelize CSEM codes, aiming at improving their performance. "
      ],
      "metadata": {
        "id": "ND2kYHItEyQr"
      }
    },
    {
      "cell_type": "markdown",
      "source": [
        "# Steps to install CSEM3D program"
      ],
      "metadata": {
        "id": "kmLuqCjxcuSh"
      }
    },
    {
      "cell_type": "markdown",
      "source": [
        "### Installing GNU Make v4.3 to correct deal with CSEM3D `makefile`"
      ],
      "metadata": {
        "id": "8tYlZFTsgWUl"
      }
    },
    {
      "cell_type": "code",
      "source": [
        "%%bash\n",
        "wget https://ftp.gnu.org/gnu/make/make-4.3.tar.gz\n",
        "tar xfz make-4.3.tar.gz"
      ],
      "metadata": {
        "id": "6HlBN7NR61Cw"
      },
      "execution_count": null,
      "outputs": []
    },
    {
      "cell_type": "code",
      "source": [
        "%%bash\n",
        "cd make-4.3\n",
        "mkdir -p /content/usr/local\n",
        "./configure --prefix=/content/usr/local\n",
        "make\n",
        "make install"
      ],
      "metadata": {
        "id": "Wypy9Zi3AKYE"
      },
      "execution_count": null,
      "outputs": []
    },
    {
      "cell_type": "markdown",
      "source": [
        "##   Creating user, once OpenMPI does not recommend run MPI with `root` user\n",
        "\n"
      ],
      "metadata": {
        "id": "ZauSBltE7BRz"
      }
    },
    {
      "cell_type": "code",
      "source": [
        "%%bash\n",
        "adduser csem"
      ],
      "metadata": {
        "id": "OpsXjBevpynC"
      },
      "execution_count": null,
      "outputs": []
    },
    {
      "cell_type": "markdown",
      "source": [
        "## PETSC v3.18.4"
      ],
      "metadata": {
        "id": "_T7fMY7E-_yg"
      }
    },
    {
      "cell_type": "markdown",
      "source": [
        "### Download, extract the source code file and run `configure` file"
      ],
      "metadata": {
        "id": "7f14F4LpkoAv"
      }
    },
    {
      "cell_type": "code",
      "source": [
        "%%bash\n",
        "su csem\n",
        "mkdir -p ${HOME}/petsc/gnu\n",
        "cd ${HOME}/petsc/gnu\n",
        "wget https://gitlab.com/petsc/petsc/-/archive/v3.18.4/petsc-v3.18.4.tar.gz\n",
        "tar zxvf petsc-v3.18.4.tar.gz\n",
        "cd petsc-v3.18.4\n",
        "./configure \\\n",
        " --prefix=${PWD}/installdir \\\n",
        " --with-fortran \\\n",
        " --with-fortran-kernels=true \\\n",
        " --with-cuda \\\n",
        " --download-fblaslapack \\\n",
        " --with-scalar-type=complex \\\n",
        " --with-precision=double \\\n",
        " --with-debugging=0 \\\n",
        " --with-x=0 \\\n",
        " --with-gnu-compilers=1 \\\n",
        " --with-cc=mpicc \\\n",
        " --with-cxx=mpicxx \\\n",
        " --with-fc=mpif90 \\\n",
        " --with-make-exec=make \\\n",
        " 2>&1 | tee ../configure.out"
      ],
      "metadata": {
        "id": "RoiHpJRYghSv"
      },
      "execution_count": null,
      "outputs": []
    },
    {
      "cell_type": "markdown",
      "source": [
        "### Run `make all` phase. \n",
        "```bash\n",
        "If it is successfully finished, this message must appear:\n",
        "\n",
        "=========================================\n",
        "Now to install the libraries do:\n",
        "make PETSC_DIR=/home/csem/petsc/gnu/petsc-v3.18.4 PETSC_ARCH=arch-linux-c-opt install\n",
        "=========================================\n",
        "```"
      ],
      "metadata": {
        "id": "tKQfmqxN8XYJ"
      }
    },
    {
      "cell_type": "code",
      "source": [
        "%%bash\n",
        "su csem\n",
        "cd /home/csem/petsc/gnu/petsc-v3.18.4\n",
        "make PETSC_DIR=/home/csem/petsc/gnu/petsc-v3.18.4 PETSC_ARCH=arch-linux-c-opt all"
      ],
      "metadata": {
        "id": "l77hzqGPU9o7"
      },
      "execution_count": null,
      "outputs": []
    },
    {
      "cell_type": "markdown",
      "source": [
        "### Run `make install` phase\n",
        "```bash\n",
        "If it is successfully finished, this message must appear:\n",
        "\n",
        "====================================\n",
        "Install complete.\n",
        "Now to check if the libraries are working do (in current directory):\n",
        "make PETSC_DIR=/home/csem/petsc/gnu/petsc-v3.18.4/installdir PETSC_ARCH=\"\" check\n",
        "====================================\n",
        "```"
      ],
      "metadata": {
        "id": "8D-wCIYI9tgu"
      }
    },
    {
      "cell_type": "code",
      "source": [
        "%%bash\n",
        "su csem\n",
        "cd /home/csem/petsc/gnu/petsc-v3.18.4\n",
        "make PETSC_DIR=/home/csem/petsc/gnu/petsc-v3.18.4 PETSC_ARCH=arch-linux-c-opt install"
      ],
      "metadata": {
        "id": "quwqTfSiougo"
      },
      "execution_count": null,
      "outputs": []
    },
    {
      "cell_type": "markdown",
      "source": [
        "### Run `make check` phase\n",
        "```bash\n",
        "If it is successfully finished, this message must appear:\n",
        "\n",
        "Running check examples to verify correct installation\n",
        "Using PETSC_DIR=/home/csem/petsc/gnu/petsc-v3.18.4/installdir and PETSC_ARCH=\n",
        "C/C++ example src/snes/tutorials/ex19 run successfully with 1 MPI process\n",
        "C/C++ example src/snes/tutorials/ex19 run successfully with 2 MPI processes\n",
        "C/C++ example src/snes/tutorials/ex19 run successfully with cuda\n",
        "Fortran example src/snes/tutorials/ex5f run successfully with 1 MPI process\n",
        "Completed test examples\n",
        "```"
      ],
      "metadata": {
        "id": "2Yt-DGeJ-UTa"
      }
    },
    {
      "cell_type": "code",
      "source": [
        "%%bash\n",
        "su csem\n",
        "cd /home/csem/petsc/gnu/petsc-v3.18.4\n",
        "make PETSC_DIR=/home/csem/petsc/gnu/petsc-v3.18.4/installdir PETSC_ARCH=\"\" check"
      ],
      "metadata": {
        "id": "trURj4-HpH5Y"
      },
      "execution_count": null,
      "outputs": []
    },
    {
      "cell_type": "markdown",
      "source": [
        "## `CSEM3D` program"
      ],
      "metadata": {
        "id": "x7i-RDy0_OcN"
      }
    },
    {
      "cell_type": "markdown",
      "source": [
        "### Download the source code files of `CSEM3D` program in the `root` area."
      ],
      "metadata": {
        "id": "HesBtLZL_h4h"
      }
    },
    {
      "cell_type": "code",
      "source": [
        "%%bash\n",
        "wget --no-check-certificate 'https://docs.google.com/uc?export=download&id=10WfuzFuv9bfr9MTeyphTyRM7i9rjGlxf' -O csem3d_w-v1.0.2.tar.gz"
      ],
      "metadata": {
        "id": "5SKaW3GplOUU"
      },
      "execution_count": null,
      "outputs": []
    },
    {
      "cell_type": "markdown",
      "source": [
        "### Copy the tarball file to `csem` user account area, and change the onwer of this file to `csem` user."
      ],
      "metadata": {
        "id": "7UCV-R5fARWv"
      }
    },
    {
      "cell_type": "code",
      "source": [
        "%%bash\n",
        "cp csem3d_w-v1.0.2.tar.gz /home/csem/\n",
        "chown csem:csem /home/csem/csem3d_w-v1.0.2.tar.gz"
      ],
      "metadata": {
        "id": "ZttctxX4lfBy"
      },
      "execution_count": null,
      "outputs": []
    },
    {
      "cell_type": "markdown",
      "source": [
        "### Unpacking the tarball file"
      ],
      "metadata": {
        "id": "Nuz-Z1RRA9Wf"
      }
    },
    {
      "cell_type": "code",
      "source": [
        "%%bash\n",
        "su csem\n",
        "cd /home/csem\n",
        "tar zxvf csem3d_w-v1.0.2.tar.gz"
      ],
      "metadata": {
        "id": "k0b5ZF1imGY6"
      },
      "execution_count": null,
      "outputs": []
    },
    {
      "cell_type": "markdown",
      "source": [
        "### Run `make all` to install the `CSEM3D` program\n",
        "```bash\n",
        "If it is successfully finished, this message must appear:\n",
        "\n",
        "mpif90 -o CSEM3D_W outfields_E_Tx.o spline.o bottom.o allvars.o intpol1.o biprho.o dimped.o in3dmod.o compute_src_wts.o set_resist_vector.o locals.o kinds.o outfields_B_Tx.o B_Tx_B_Rx.o dimens.o set_P.o set_bv_e.o d1imped.o set_src.o grid.o in3drho.o CSEM3D_mod.o CSEM3D_W.o set_bv_h.o bipole2.o set_A.o chk_rx_tx.o set_1d_resist.o txrx.o splint.o set_rhs.o blocks.o E_Tx_E_Rx.o convres.o abs_to_rel.o B_Tx_E_Rx.o E_Tx_B_Rx.o addair.o -L/home/csem/petsc/gnu/petsc-v3.18.4/installdir/lib -lpetsc  \n",
        "```"
      ],
      "metadata": {
        "id": "LriJdUisBJKC"
      }
    },
    {
      "cell_type": "code",
      "source": [
        "%%bash\n",
        "su csem\n",
        "cd /home/csem/csem3d_w-v1.0.2/CSEM3D_W/CSEM3D_W\n",
        "make PETSC_DIR=${HOME}/petsc/gnu/petsc-v3.18.4/installdir -f scripts/makefile_gnu clean"
      ],
      "metadata": {
        "id": "cflx5G_EoLl0"
      },
      "execution_count": null,
      "outputs": []
    },
    {
      "cell_type": "code",
      "source": [
        "%%bash\n",
        "su csem\n",
        "cd /home/csem/csem3d_w-v1.0.2/CSEM3D_W/CSEM3D_W\n",
        "make PETSC_DIR=${HOME}/petsc/gnu/petsc-v3.18.4/installdir -f scripts/makefile_gnu all"
      ],
      "metadata": {
        "id": "-sBQCQXapf4C"
      },
      "execution_count": null,
      "outputs": []
    },
    {
      "cell_type": "markdown",
      "source": [
        "### Run this bash `script` to execute the generated `CSEM3D_W` binary file.\n",
        "\n",
        "```bash\n",
        "If it is successfully finished, a similar message like below must appear:\n",
        "\n",
        " 16 KSP preconditioned resid norm 3.863008301354e-18 true resid norm 1.284864871592e-05 ||r(i)||/||b|| 3.405644702963e-01\n",
        " 17 KSP preconditioned resid norm 2.061402843466e-18 true resid norm 1.054741071689e-05 ||r(i)||/||b|| 2.795681805313e-01\n",
        " 18 KSP preconditioned resid norm 1.062033155132e-18 true resid norm 3.992776343547e-06 ||r(i)||/||b|| 1.058319664983e-01\n",
        " converged reason            2\n",
        " total number of relaxations           18\n",
        " ========================================\n",
        "\n",
        " \n",
        " ************************************************\n",
        "  3D finished\n",
        "  Total CPU time:    18.7500000      seconds\n",
        " ************************************************\n",
        " \n",
        " total cpu time:    18.7500000      seconds\n",
        " CSEM3D_W finished\n",
        "```\n",
        "\n"
      ],
      "metadata": {
        "id": "hRhpojxUB_xZ"
      }
    },
    {
      "cell_type": "code",
      "source": [
        "%%bash\n",
        "su csem\n",
        "cd /home/csem/csem3d_w-v1.0.2/CSEM3D_W/CSEM3D_W\n",
        "\n",
        "PETSC_DIR=${HOME}/petsc/gnu/petsc-v3.18.4/installdir\n",
        "\n",
        "dataset=Sintetico\n",
        "ntasks=1\n",
        "nnodes=1\n",
        "\n",
        "TIMESTART=$(date +%Y%m%d%H%M%S)\n",
        "\n",
        "if [[ -L ${dataset} ]]\n",
        "then\n",
        "    echo \"Link já existe para o dataset ${dataset}\"\n",
        "else\n",
        "    ln -s dataset/${dataset}\n",
        "fi\n",
        "sed 's/\\.\\//'${dataset}'\\//g' ${dataset}/Parameters.inp | \\\n",
        "sed 's/'${dataset}'\\/OutData/OutData/g' > Parameters.inp\n",
        "\n",
        "outputdir=\"OutData\"\n",
        "if [[ -d ${outputdir} ]]\n",
        "then\n",
        "    echo \"OutData já existe.\"\n",
        "    rm -fr ${outputdir}\n",
        "fi\n",
        "mkdir ${outputdir}\n",
        "\n",
        "\n",
        "resultsdir=results/${dataset}/NUMNODES-${nnodes}/MPI-${ntasks}/EXECSTART-${TIMESTART}\n",
        "mkdir -p ${resultsdir}\n",
        "\n",
        "export LD_LIBRARY_PATH=${LD_LIBRARY_PATH}:${PETSC_DIR}/lib\n",
        "\n",
        "executable=CSEM3D_W\n",
        "\n",
        "echo \"mpirun -np $ntasks ./${executable}\"\n",
        "mpirun -np $ntasks ./${executable} \\\n",
        " -A_mat_type mpiaij \\\n",
        " -P_mat_type mpiaij \\\n",
        " -em_ksp_monitor_true_residual \\\n",
        " -em_ksp_type bcgs \\\n",
        " -em_pc_type bjacobi \\\n",
        " -em_sub_pc_type ilu \\\n",
        " -em_sub_pc_factor_levels 3 \\\n",
        " -em_sub_pc_factor_fill 6 \\\n",
        " < ./Parameters.inp \\\n",
        " 2>&1 | tee csem3d_w-${TIMESTART}.out\n",
        "\n",
        "mv $outputdir/ ${resultsdir}/\n",
        "cp csem3d_w-${TIMESTART}.out ${resultsdir}/\n"
      ],
      "metadata": {
        "id": "t83IHP-iZd-t"
      },
      "execution_count": null,
      "outputs": []
    }
  ]
}