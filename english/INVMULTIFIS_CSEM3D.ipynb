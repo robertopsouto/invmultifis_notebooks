{
  "nbformat": 4,
  "nbformat_minor": 0,
  "metadata": {
    "colab": {
      "provenance": [],
      "machine_shape": "hm",
      "gpuType": "V100"
    },
    "kernelspec": {
      "name": "python3",
      "display_name": "Python 3"
    },
    "language_info": {
      "name": "python"
    },
    "accelerator": "GPU",
    "gpuClass": "standard"
  },
  "cells": [
    {
      "cell_type": "markdown",
      "source": [
        "# Installing PETSC v3.18.4\n",
        "\n",
        "---\n",
        "\n"
      ],
      "metadata": {
        "id": "kmLuqCjxcuSh"
      }
    },
    {
      "cell_type": "code",
      "source": [
        "%%bash\n",
        "adduser csem"
      ],
      "metadata": {
        "id": "OpsXjBevpynC"
      },
      "execution_count": null,
      "outputs": []
    },
    {
      "cell_type": "code",
      "source": [
        "%%bash\n",
        "su csem\n",
        "echo $HOME\n"
      ],
      "metadata": {
        "id": "Lb4hsOuRqRTg"
      },
      "execution_count": null,
      "outputs": []
    },
    {
      "cell_type": "markdown",
      "source": [
        "## Download and extract the source code file."
      ],
      "metadata": {
        "id": "7f14F4LpkoAv"
      }
    },
    {
      "cell_type": "code",
      "source": [
        "%%bash\n",
        "su csem\n",
        "mkdir -p ${HOME}/petsc/gnu\n",
        "cd ${HOME}/petsc/gnu\n",
        "wget https://gitlab.com/petsc/petsc/-/archive/v3.18.4/petsc-v3.18.4.tar.gz\n",
        "tar zxvf petsc-v3.18.4.tar.gz\n",
        "cd petsc-v3.18.4\n",
        "./configure \\\n",
        " --prefix=${PWD}/installdir \\\n",
        " --with-fortran \\\n",
        " --with-fortran-kernels=true \\\n",
        " --with-cuda \\\n",
        " --download-fblaslapack \\\n",
        " --with-scalar-type=complex \\\n",
        " --with-precision=double \\\n",
        " --with-debugging=0 \\\n",
        " --with-x=0 \\\n",
        " --with-gnu-compilers=1 \\\n",
        " --with-cc=mpicc \\\n",
        " --with-cxx=mpicxx \\\n",
        " --with-fc=mpif90 \\\n",
        " --with-make-exec=make \\\n",
        " 2>&1 | tee ../configure.out"
      ],
      "metadata": {
        "id": "RoiHpJRYghSv"
      },
      "execution_count": null,
      "outputs": []
    },
    {
      "cell_type": "code",
      "source": [
        "%%bash\n",
        "su csem\n",
        "cd /home/csem/petsc/gnu/petsc-v3.18.4\n",
        "make PETSC_DIR=/home/csem/petsc/gnu/petsc-v3.18.4 PETSC_ARCH=arch-linux-c-opt all"
      ],
      "metadata": {
        "id": "l77hzqGPU9o7"
      },
      "execution_count": null,
      "outputs": []
    },
    {
      "cell_type": "code",
      "source": [
        "%%bash\n",
        "su csem\n",
        "cd /home/csem/petsc/gnu/petsc-v3.18.4\n",
        "make PETSC_DIR=/home/csem/petsc/gnu/petsc-v3.18.4 PETSC_ARCH=arch-linux-c-opt install"
      ],
      "metadata": {
        "id": "quwqTfSiougo"
      },
      "execution_count": null,
      "outputs": []
    },
    {
      "cell_type": "code",
      "source": [
        "%%bash\n",
        "su csem\n",
        "cd /home/csem/petsc/gnu/petsc-v3.18.4\n",
        "make PETSC_DIR=/home/csem/petsc/gnu/petsc-v3.18.4/installdir PETSC_ARCH=\"\" check"
      ],
      "metadata": {
        "id": "trURj4-HpH5Y"
      },
      "execution_count": null,
      "outputs": []
    },
    {
      "cell_type": "code",
      "source": [
        "%%bash\n",
        "wget --no-check-certificate 'https://docs.google.com/uc?export=download&id=10WfuzFuv9bfr9MTeyphTyRM7i9rjGlxf' -O csem3d_w-v1.0.2.tar.gz"
      ],
      "metadata": {
        "id": "5SKaW3GplOUU"
      },
      "execution_count": null,
      "outputs": []
    },
    {
      "cell_type": "code",
      "source": [
        "%%bash\n",
        "cp csem3d_w-v1.0.2.tar.gz /home/csem/\n",
        "chown csem:csem /home/csem/csem3d_w-v1.0.2.tar.gz"
      ],
      "metadata": {
        "id": "ZttctxX4lfBy"
      },
      "execution_count": null,
      "outputs": []
    },
    {
      "cell_type": "code",
      "source": [
        "%%bash\n",
        "su csem\n",
        "cd /home/csem\n",
        "tar zxvf csem3d_w-v1.0.2.tar.gz"
      ],
      "metadata": {
        "id": "k0b5ZF1imGY6"
      },
      "execution_count": null,
      "outputs": []
    },
    {
      "cell_type": "code",
      "source": [
        "%%bash\n",
        "su csem\n",
        "cd /home/csem/csem3d_w-v1.0.2/CSEM3D_W/CSEM3D_W\n",
        "make PETSC_DIR=${HOME}/petsc/gnu/petsc-v3.18.4/installdir -f scripts/makefile_gnu clean"
      ],
      "metadata": {
        "id": "cflx5G_EoLl0"
      },
      "execution_count": null,
      "outputs": []
    },
    {
      "cell_type": "code",
      "source": [
        "%%bash\n",
        "su csem\n",
        "cd /home/csem/csem3d_w-v1.0.2/CSEM3D_W/CSEM3D_W\n",
        "make PETSC_DIR=${HOME}/petsc/gnu/petsc-v3.18.4/installdir -f scripts/makefile_gnu all"
      ],
      "metadata": {
        "id": "-sBQCQXapf4C"
      },
      "execution_count": null,
      "outputs": []
    },
    {
      "cell_type": "code",
      "source": [
        "%%bash\n",
        "su csem\n",
        "cd /home/csem/csem3d_w-v1.0.2/CSEM3D_W/CSEM3D_W\n",
        "\n",
        "PETSC_DIR=${HOME}/petsc/gnu/petsc-v3.18.4/installdir\n",
        "\n",
        "dataset=Sintetico\n",
        "ntasks=1\n",
        "nnodes=1\n",
        "\n",
        "TIMESTART=$(date +%Y%m%d%H%M%S)\n",
        "\n",
        "if [[ -L ${dataset} ]]\n",
        "then\n",
        "    echo \"Link já existe para o dataset ${dataset}\"\n",
        "else\n",
        "    ln -s dataset/${dataset}\n",
        "fi\n",
        "sed 's/\\.\\//'${dataset}'\\//g' ${dataset}/Parameters.inp | \\\n",
        "sed 's/'${dataset}'\\/OutData/OutData/g' > Parameters.inp\n",
        "\n",
        "outputdir=\"OutData\"\n",
        "if [[ -d ${outputdir} ]]\n",
        "then\n",
        "    echo \"OutData já existe.\"\n",
        "    rm -fr ${outputdir}\n",
        "fi\n",
        "mkdir ${outputdir}\n",
        "\n",
        "\n",
        "resultsdir=results/${dataset}/NUMNODES-${nnodes}/MPI-${ntasks}/EXECSTART-${TIMESTART}\n",
        "mkdir -p ${resultsdir}\n",
        "\n",
        "export LD_LIBRARY_PATH=${LD_LIBRARY_PATH}:${PETSC_DIR}/lib\n",
        "\n",
        "executable=CSEM3D_W\n",
        "\n",
        "echo \"mpirun -np $ntasks ./${executable}\"\n",
        "mpirun -np $ntasks ./${executable} \\\n",
        " -A_mat_type mpiaij \\\n",
        " -P_mat_type mpiaij \\\n",
        " -em_ksp_monitor_true_residual \\\n",
        " -em_ksp_type bcgs \\\n",
        " -em_pc_type bjacobi \\\n",
        " -em_sub_pc_type ilu \\\n",
        " -em_sub_pc_factor_levels 3 \\\n",
        " -em_sub_pc_factor_fill 6 \\\n",
        " < ./Parameters.inp \\\n",
        " 2>&1 | tee csem3d_w-${TIMESTART}.out\n",
        "\n",
        "mv $outputdir/ ${resultsdir}/\n",
        "cp csem3d_w-${TIMESTART}.out ${resultsdir}/\n"
      ],
      "metadata": {
        "id": "t83IHP-iZd-t"
      },
      "execution_count": null,
      "outputs": []
    }
  ]
}