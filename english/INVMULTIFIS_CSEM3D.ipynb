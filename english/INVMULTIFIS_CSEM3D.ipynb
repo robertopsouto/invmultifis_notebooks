{
  "nbformat": 4,
  "nbformat_minor": 0,
  "metadata": {
    "colab": {
      "provenance": [],
      "machine_shape": "hm",
      "gpuType": "V100",
      "include_colab_link": true
    },
    "kernelspec": {
      "name": "python3",
      "display_name": "Python 3"
    },
    "language_info": {
      "name": "python"
    },
    "accelerator": "GPU",
    "gpuClass": "standard"
  },
  "cells": [
    {
      "cell_type": "markdown",
      "metadata": {
        "id": "view-in-github",
        "colab_type": "text"
      },
      "source": [
        "<a href=\"https://colab.research.google.com/github/robertopsouto/invmultifis_notebooks/blob/main/english/INVMULTIFIS_CSEM3D.ipynb\" target=\"_parent\"><img src=\"https://colab.research.google.com/assets/colab-badge.svg\" alt=\"Open In Colab\"/></a>"
      ]
    },
    {
      "cell_type": "markdown",
      "source": [
        "# **INVMULTIFIS Project: Development of multi-physics data inversion software with optimization via artificial intelligence**\n",
        "\n",
        "The project proposes the development of an innovative inversion technology for the characterization and monitoring of deep water reservoirs for Petrobras (the Brazilian Oil Company) using CSEM (Controlled-Source Electromagnetic Methods), a robust risk reduction tool in the drilling of oil basins, using multiphysics data in the 3D domain. One of the main objectives of this project is to develop, optimize and parallelize CSEM codes, aiming at improving their performance. "
      ],
      "metadata": {
        "id": "ND2kYHItEyQr"
      }
    },
    {
      "cell_type": "markdown",
      "source": [
        "# Steps to install CSEM3D program"
      ],
      "metadata": {
        "id": "kmLuqCjxcuSh"
      }
    },
    {
      "cell_type": "markdown",
      "source": [
        "### Installing GNU Make v4.3 to correct deal with CSEM3D `makefile`"
      ],
      "metadata": {
        "id": "8tYlZFTsgWUl"
      }
    },
    {
      "cell_type": "code",
      "source": [
        "%%bash\n",
        "wget https://ftp.gnu.org/gnu/make/make-4.3.tar.gz\n",
        "tar xfz make-4.3.tar.gz"
      ],
      "metadata": {
        "id": "6HlBN7NR61Cw"
      },
      "execution_count": null,
      "outputs": []
    },
    {
      "cell_type": "code",
      "source": [
        "%%bash\n",
        "cd make-4.3\n",
        "./configure\n",
        "make\n",
        "make install"
      ],
      "metadata": {
        "id": "Wypy9Zi3AKYE"
      },
      "execution_count": null,
      "outputs": []
    },
    {
      "cell_type": "code",
      "source": [
        "%%bash\n",
        "make -v"
      ],
      "metadata": {
        "colab": {
          "base_uri": "https://localhost:8080/"
        },
        "id": "-y-pfI7whQPg",
        "outputId": "c784fe07-f280-4216-fa05-ed87d87d436d"
      },
      "execution_count": 3,
      "outputs": [
        {
          "output_type": "stream",
          "name": "stdout",
          "text": [
            "GNU Make 4.3\n",
            "Built for x86_64-pc-linux-gnu\n",
            "Copyright (C) 1988-2020 Free Software Foundation, Inc.\n",
            "License GPLv3+: GNU GPL version 3 or later <http://gnu.org/licenses/gpl.html>\n",
            "This is free software: you are free to change and redistribute it.\n",
            "There is NO WARRANTY, to the extent permitted by law.\n"
          ]
        }
      ]
    },
    {
      "cell_type": "markdown",
      "source": [
        "##   Creating user, once OpenMPI does not recommend run MPI with `root` user\n",
        "\n"
      ],
      "metadata": {
        "id": "ZauSBltE7BRz"
      }
    },
    {
      "cell_type": "code",
      "source": [
        "%%bash\n",
        "adduser csem"
      ],
      "metadata": {
        "id": "OpsXjBevpynC"
      },
      "execution_count": null,
      "outputs": []
    },
    {
      "cell_type": "markdown",
      "source": [
        "## PETSC v3.18.4"
      ],
      "metadata": {
        "id": "_T7fMY7E-_yg"
      }
    },
    {
      "cell_type": "markdown",
      "source": [
        "### Download, extract the source code file and run `configure` file"
      ],
      "metadata": {
        "id": "7f14F4LpkoAv"
      }
    },
    {
      "cell_type": "code",
      "source": [
        "%%bash\n",
        "su csem\n",
        "mkdir -p ${HOME}/petsc/gnu\n",
        "cd ${HOME}/petsc/gnu\n",
        "wget https://gitlab.com/petsc/petsc/-/archive/v3.18.4/petsc-v3.18.4.tar.gz\n",
        "tar zxvf petsc-v3.18.4.tar.gz\n",
        "cd petsc-v3.18.4\n",
        "./configure \\\n",
        " --prefix=${PWD}/installdir \\\n",
        " --with-fortran \\\n",
        " --with-fortran-kernels=true \\\n",
        " --with-cuda \\\n",
        " --download-fblaslapack \\\n",
        " --with-scalar-type=complex \\\n",
        " --with-precision=double \\\n",
        " --with-debugging=0 \\\n",
        " --with-x=0 \\\n",
        " --with-gnu-compilers=1 \\\n",
        " --with-cc=mpicc \\\n",
        " --with-cxx=mpicxx \\\n",
        " --with-fc=mpif90 \\\n",
        " --with-make-exec=make \\\n",
        " 2>&1 | tee ../configure.out"
      ],
      "metadata": {
        "id": "RoiHpJRYghSv"
      },
      "execution_count": null,
      "outputs": []
    },
    {
      "cell_type": "markdown",
      "source": [
        "### Run `make all` phase. \n",
        "```bash\n",
        "If it is successfully finished, this message must appear:\n",
        "\n",
        "=========================================\n",
        "Now to install the libraries do:\n",
        "make PETSC_DIR=/home/csem/petsc/gnu/petsc-v3.18.4 PETSC_ARCH=arch-linux-c-opt install\n",
        "=========================================\n",
        "```"
      ],
      "metadata": {
        "id": "tKQfmqxN8XYJ"
      }
    },
    {
      "cell_type": "code",
      "source": [
        "%%bash\n",
        "su csem\n",
        "cd /home/csem/petsc/gnu/petsc-v3.18.4\n",
        "make PETSC_DIR=/home/csem/petsc/gnu/petsc-v3.18.4 PETSC_ARCH=arch-linux-c-opt all"
      ],
      "metadata": {
        "id": "l77hzqGPU9o7"
      },
      "execution_count": null,
      "outputs": []
    },
    {
      "cell_type": "markdown",
      "source": [
        "### Run `make install` phase\n",
        "```bash\n",
        "If it is successfully finished, this message must appear:\n",
        "\n",
        "====================================\n",
        "Install complete.\n",
        "Now to check if the libraries are working do (in current directory):\n",
        "make PETSC_DIR=/home/csem/petsc/gnu/petsc-v3.18.4/installdir PETSC_ARCH=\"\" check\n",
        "====================================\n",
        "```"
      ],
      "metadata": {
        "id": "8D-wCIYI9tgu"
      }
    },
    {
      "cell_type": "code",
      "source": [
        "%%bash\n",
        "su csem\n",
        "cd /home/csem/petsc/gnu/petsc-v3.18.4\n",
        "make PETSC_DIR=/home/csem/petsc/gnu/petsc-v3.18.4 PETSC_ARCH=arch-linux-c-opt install"
      ],
      "metadata": {
        "id": "quwqTfSiougo"
      },
      "execution_count": null,
      "outputs": []
    },
    {
      "cell_type": "markdown",
      "source": [
        "### Run `make check` phase\n",
        "```bash\n",
        "If it is successfully finished, this message must appear:\n",
        "\n",
        "Running check examples to verify correct installation\n",
        "Using PETSC_DIR=/home/csem/petsc/gnu/petsc-v3.18.4/installdir and PETSC_ARCH=\n",
        "C/C++ example src/snes/tutorials/ex19 run successfully with 1 MPI process\n",
        "C/C++ example src/snes/tutorials/ex19 run successfully with 2 MPI processes\n",
        "C/C++ example src/snes/tutorials/ex19 run successfully with cuda\n",
        "Fortran example src/snes/tutorials/ex5f run successfully with 1 MPI process\n",
        "Completed test examples\n",
        "```"
      ],
      "metadata": {
        "id": "2Yt-DGeJ-UTa"
      }
    },
    {
      "cell_type": "code",
      "source": [
        "%%bash\n",
        "su csem\n",
        "cd /home/csem/petsc/gnu/petsc-v3.18.4\n",
        "make PETSC_DIR=/home/csem/petsc/gnu/petsc-v3.18.4/installdir PETSC_ARCH=\"\" check"
      ],
      "metadata": {
        "id": "trURj4-HpH5Y"
      },
      "execution_count": null,
      "outputs": []
    },
    {
      "cell_type": "markdown",
      "source": [
        "### Test an example performing complex numbers (`ex11f.F90`)"
      ],
      "metadata": {
        "id": "7mk78mlItJGo"
      }
    },
    {
      "cell_type": "code",
      "source": [
        "%%bash\n",
        "su csem\n",
        "cd /home/csem/petsc/gnu/petsc-v3.18.4/src/ksp/ksp/tutorials\n",
        "make ex11f\n",
        "mpirun -n 1 ./ex11f -norandom -pc_type none -ksp_monitor_short -ksp_gmres_cgs_refinement_type refine_always"
      ],
      "metadata": {
        "id": "ckgggNZ2jJI6"
      },
      "execution_count": null,
      "outputs": []
    },
    {
      "cell_type": "markdown",
      "source": [
        "### Check with reference output (`output/ex11f_1.out`)"
      ],
      "metadata": {
        "id": "3Ybo2a-eu1ce"
      }
    },
    {
      "cell_type": "code",
      "source": [
        "%%bash\n",
        "su csem\n",
        "cd /home/csem/petsc/gnu/petsc-v3.18.4/src/ksp/ksp/tutorials\n",
        "cat output/ex11f_1.out"
      ],
      "metadata": {
        "id": "dWgJ8b6Oupva"
      },
      "execution_count": null,
      "outputs": []
    },
    {
      "cell_type": "markdown",
      "source": [
        "### Following instructions in https://petsc.org/release/developers/testing/ to run an example that requires CUDA."
      ],
      "metadata": {
        "id": "7aywCjpyC5Jr"
      }
    },
    {
      "cell_type": "code",
      "source": [
        "%%bash\n",
        "su csem\n",
        "cd /home/csem/petsc/gnu/petsc-v3.18.4/\n",
        "make print-test query='suffix' queryval='2_aijcusparse'"
      ],
      "metadata": {
        "colab": {
          "base_uri": "https://localhost:8080/"
        },
        "id": "7yZsTeL36oGw",
        "outputId": "7f3e9484-824a-4db4-aaae-1846296d714f"
      },
      "execution_count": 21,
      "outputs": [
        {
          "output_type": "stream",
          "name": "stdout",
          "text": [
            "ksp_ksp_tutorials-ex1_2_aijcusparse\n"
          ]
        }
      ]
    },
    {
      "cell_type": "code",
      "source": [
        "%%bash\n",
        "su csem\n",
        "cd /home/csem/petsc/gnu/petsc-v3.18.4/\n",
        "make test search=ksp_ksp_tutorials-ex1_2_aijcusparse"
      ],
      "metadata": {
        "colab": {
          "base_uri": "https://localhost:8080/"
        },
        "id": "vDjjGJof68oV",
        "outputId": "edc3ce37-706c-4f0d-ce93-30619b44bbd9"
      },
      "execution_count": 22,
      "outputs": [
        {
          "output_type": "stream",
          "name": "stdout",
          "text": [
            "Using MAKEFLAGS: -- search=ksp_ksp_tutorials-ex1_2_aijcusparse\n",
            "          CC arch-linux-c-opt/tests/ksp/ksp/tutorials/ex1.o\n",
            "     CLINKER arch-linux-c-opt/tests/ksp/ksp/tutorials/ex1\n",
            "        TEST arch-linux-c-opt/tests/counts/ksp_ksp_tutorials-ex1_2_aijcusparse.counts\n",
            " ok ksp_ksp_tutorials-ex1_2_aijcusparse\n",
            " ok diff-ksp_ksp_tutorials-ex1_2_aijcusparse\n"
          ]
        }
      ]
    },
    {
      "cell_type": "code",
      "source": [
        "%%bash\n",
        "su csem\n",
        "cd /home/csem/petsc/gnu/petsc-v3.18.4/\n",
        "cat arch-linux-c-opt/tests/ksp/ksp/tutorials/runex1_2_aijcusparse/ksp_ksp_tutorials-ex1_2_aijcusparse.sh"
      ],
      "metadata": {
        "colab": {
          "base_uri": "https://localhost:8080/"
        },
        "id": "jfJg6dB_7aTR",
        "outputId": "1ece9965-e7c0-47f5-d296-164d18a7a8f9"
      },
      "execution_count": 27,
      "outputs": [
        {
          "output_type": "stream",
          "name": "stdout",
          "text": [
            "/usr/bin/mpiexec --oversubscribe  -n 1 ../ex1 -petsc_ci -pc_type sor -pc_sor_symmetric -ksp_monitor_short -ksp_gmres_cgs_refinement_type refine_always -mat_type aijcusparse -vec_type cuda  > ex1_2_aijcusparse.tmp 2> runex1_2_aijcusparse.err\n"
          ]
        }
      ]
    },
    {
      "cell_type": "code",
      "source": [
        "%%bash\n",
        "su csem\n",
        "cd /home/csem/petsc/gnu/petsc-v3.18.4/\n",
        "cd src/ksp/ksp/tutorials/\n",
        "make ex1\n",
        "/usr/bin/mpiexec --oversubscribe  -n 1  ./ex1 \\\n",
        "-petsc_ci \\\n",
        "-pc_type sor \\\n",
        "-pc_sor_symmetric \\\n",
        "-ksp_monitor_short \\\n",
        "-ksp_gmres_cgs_refinement_type refine_always \\\n",
        "-mat_type aijcusparse \\\n",
        "-vec_type cuda \\\n",
        "-use_gpu_aware_mpi 0\n"
      ],
      "metadata": {
        "id": "CX6DBBNz92No"
      },
      "execution_count": null,
      "outputs": []
    },
    {
      "cell_type": "markdown",
      "source": [
        "If it is successfully finished, this output must appear:\n",
        "```bash\n",
        "  0 KSP Residual norm 0.968764 \n",
        "  1 KSP Residual norm 0.361001 \n",
        "  2 KSP Residual norm 0.247329 \n",
        "  3 KSP Residual norm 0.0808915 \n",
        "  4 KSP Residual norm 0.01289 \n",
        "  5 KSP Residual norm 0.00375064 \n",
        "  6 KSP Residual norm 0.000294092 \n",
        "  7 KSP Residual norm 1.40861e-05 \n",
        "  8 KSP Residual norm 3.48863e-07 \n",
        "KSP Object: 1 MPI process\n",
        "  type: gmres\n",
        "    restart=30, using Classical (unmodified) Gram-Schmidt Orthogonalization with one step of iterative refinement\n",
        "    happy breakdown tolerance 1e-30\n",
        "  maximum iterations=10000, initial guess is zero\n",
        "  tolerances:  relative=1e-05, absolute=1e-50, divergence=10000.\n",
        "  left preconditioning\n",
        "  using PRECONDITIONED norm type for convergence test\n",
        "PC Object: 1 MPI process\n",
        "  type: sor\n",
        "    type = symmetric, iterations = 1, local iterations = 1, omega = 1.\n",
        "  linear system matrix = precond matrix:\n",
        "  Mat Object: 1 MPI process\n",
        "    type: seqaijcusparse\n",
        "    rows=10, cols=10\n",
        "    total: nonzeros=28, allocated nonzeros=28\n",
        "    total number of mallocs used during MatSetValues calls=0\n",
        "      not using I-node routines\n",
        "Norm of error 4.10316e-07, Iterations 8\n",
        "  0 KSP Residual norm 0.377523 \n",
        "  1 KSP Residual norm 0.0140399 \n",
        "  2 KSP Residual norm 0.000364106 \n",
        "  3 KSP Residual norm 7.83047e-06 \n",
        "  4 KSP Residual norm 1.33045e-07 \n",
        "\n",
        "  ```"
      ],
      "metadata": {
        "id": "79nGc6nQ-81m"
      }
    },
    {
      "cell_type": "code",
      "source": [
        "%%bash\n",
        "su csem\n",
        "cd /home/csem/petsc/gnu/petsc-v3.18.4/\n",
        "cd src/ksp/ksp/tutorials/\n",
        "cat output/ex1_2_aijcusparse.out"
      ],
      "metadata": {
        "id": "iJBKyQbw_6F3"
      },
      "execution_count": null,
      "outputs": []
    },
    {
      "cell_type": "code",
      "source": [
        "%%bash\n",
        "su csem\n",
        "cd /home/csem/petsc/gnu/petsc-v3.18.4/\n",
        "cd src/ksp/ksp/tutorials/\n",
        "make ex1\n",
        "export PATH=/usr/local/cuda/bin:$PATH\n",
        "/usr/bin/mpiexec --oversubscribe  -n 1 nvprof -f -o ex1.%q{OMPI_COMM_WORLD_RANK}.nvprof ./ex1 \\\n",
        "-petsc_ci \\\n",
        "-pc_type sor \\\n",
        "-pc_sor_symmetric \\\n",
        "-ksp_monitor_short \\\n",
        "-ksp_gmres_cgs_refinement_type refine_always \\\n",
        "-mat_type aijcusparse \\\n",
        "-vec_type cuda \\\n",
        "-use_gpu_aware_mpi 0"
      ],
      "metadata": {
        "colab": {
          "base_uri": "https://localhost:8080/"
        },
        "id": "hLbP8yvaBP_a",
        "outputId": "cf0b215d-4968-4756-9cae-407fb501274a"
      },
      "execution_count": 36,
      "outputs": [
        {
          "output_type": "stream",
          "name": "stdout",
          "text": [
            "make: 'ex1' is up to date.\n",
            "  0 KSP Residual norm 0.968764 \n",
            "  1 KSP Residual norm 0.361001 \n",
            "  2 KSP Residual norm 0.247329 \n",
            "  3 KSP Residual norm 0.0808915 \n",
            "  4 KSP Residual norm 0.01289 \n",
            "  5 KSP Residual norm 0.00375064 \n",
            "  6 KSP Residual norm 0.000294092 \n",
            "  7 KSP Residual norm 1.40861e-05 \n",
            "  8 KSP Residual norm 3.48863e-07 \n",
            "KSP Object: 1 MPI process\n",
            "  type: gmres\n",
            "    restart=30, using Classical (unmodified) Gram-Schmidt Orthogonalization with one step of iterative refinement\n",
            "    happy breakdown tolerance 1e-30\n",
            "  maximum iterations=10000, initial guess is zero\n",
            "  tolerances:  relative=1e-05, absolute=1e-50, divergence=10000.\n",
            "  left preconditioning\n",
            "  using PRECONDITIONED norm type for convergence test\n",
            "PC Object: 1 MPI process\n",
            "  type: sor\n",
            "    type = symmetric, iterations = 1, local iterations = 1, omega = 1.\n",
            "  linear system matrix = precond matrix:\n",
            "  Mat Object: 1 MPI process\n",
            "    type: seqaijcusparse\n",
            "    rows=10, cols=10\n",
            "    total: nonzeros=28, allocated nonzeros=50\n",
            "    total number of mallocs used during MatSetValues calls=0\n",
            "      not using I-node routines\n",
            "Norm of error 4.10316e-07, Iterations 8\n",
            "  0 KSP Residual norm 0.377523 \n",
            "  1 KSP Residual norm 0.0140399 \n",
            "  2 KSP Residual norm 0.000364106 \n",
            "  3 KSP Residual norm 7.83047e-06 \n",
            "  4 KSP Residual norm 1.33045e-07 \n"
          ]
        },
        {
          "output_type": "stream",
          "name": "stderr",
          "text": [
            "==73307== NVPROF is profiling process 73307, command: ./ex1 -petsc_ci -pc_type sor -pc_sor_symmetric -ksp_monitor_short -ksp_gmres_cgs_refinement_type refine_always -mat_type aijcusparse -vec_type cuda -use_gpu_aware_mpi 0\n",
            "==73307== Generated result file: /home/csem/petsc/gnu/petsc-v3.18.4/src/ksp/ksp/tutorials/ex1.0.nvprof\n"
          ]
        }
      ]
    },
    {
      "cell_type": "code",
      "source": [
        "%%bash\n",
        "su csem\n",
        "cd /home/csem/petsc/gnu/petsc-v3.18.4/\n",
        "cd src/ksp/ksp/tutorials/\n",
        "export PATH=/usr/local/cuda/bin:$PATH\n",
        "nvprof -i ex1.0.nvprof"
      ],
      "metadata": {
        "colab": {
          "base_uri": "https://localhost:8080/"
        },
        "outputId": "c2fa69ae-1e00-4fa3-99b9-dbe0eddbbf95",
        "id": "wKptcSvmCP8a"
      },
      "execution_count": 37,
      "outputs": [
        {
          "output_type": "stream",
          "name": "stderr",
          "text": [
            "======== Profiling result:\n",
            "            Type  Time(%)      Time     Calls       Avg       Min       Max  Name\n",
            " GPU activities:   18.48%  363.36us       107  3.3950us  2.9760us  10.304us  void axpy_kernel_val<double2, double2>(cublasAxpyParamsVal<double2, double2, double2>)\n",
            "                   17.74%  348.89us        92  3.7920us  3.6800us  10.112us  void dot_kernel<double2, int=64, int=1, cublasDotParams<cublasGemvTensor<double2 const >, cublasGemvTensorStridedBatched<double2>>>(double2 const )\n",
            "                   17.02%  334.75us        92  3.6380us  3.5840us  5.2800us  void reduce_1Block_kernel<double2, int=64, int=6, cublasGemvTensorStridedBatched<double2>, cublasGemvTensorStridedBatched<double2>, cublasGemvTensorStridedBatched<double2>>(double2 const *, double2, double2, int, double2 const *, double2, cublasGemvTensorStridedBatched<double2>, cublasGemvTensorStridedBatched<double2>, cublasPointerMode_t, cublasLtEpilogue_t, cublasGemvTensorStridedBatched<biasType<cublasGemvTensorStridedBatched<double2::value_type>, double2>::type const >)\n",
            "                   13.41%  263.62us       134  1.9670us  1.8240us  14.176us  [CUDA memcpy DtoH]\n",
            "                    8.96%  176.22us        15  11.748us  11.392us  15.296us  void nrm2_kernel<double2, double, double, int=0, int=1, int=128>(cublasNrm2Params<double2, double>)\n",
            "                    8.92%  175.46us        15  11.697us  11.360us  14.688us  void nrm2_kernel<double, double, double, int=0, int=0, int=128>(cublasNrm2Params<double, double>)\n",
            "                    4.17%  82.080us        13  6.3130us  5.5360us  10.688us  _ZN8cusparse21load_balancing_kernelILj256ELj5ELm20480EiiNS_7CsrmvOpILi256ENS_7ComplexIdEELb0EEEJKiKS3_S6_S3_iS3_EEEvPKT3_T2_S7_S7_iPKSA_T4_DpPT5_\n",
            "                    3.19%  62.752us        36  1.7430us  1.6640us  2.1440us  [CUDA memcpy HtoD]\n",
            "                    2.67%  52.544us        13  4.0410us  3.8720us  5.0560us  _ZN8cusparse30binary_search_partition_kernelILi128ELi1280EiiNS_6ScaleYINS_20MatrixWiseMulPolicy1ILb0ENS_7ComplexIdEEEEiS4_EEJS4_EEEvPKT2_T1_S7_iPSA_T3_DpPT4_\n",
            "                    2.38%  46.816us        14  3.3440us  3.2640us  3.6800us  void scal_kernel_val<double2, double2>(cublasScalParamsVal<double2, double2>)\n",
            "                    1.97%  38.816us        22  1.7640us  1.6960us  2.1440us  [CUDA memset]\n",
            "                    0.36%  7.1670us         2  3.5830us  3.4560us  3.7110us  [CUDA memcpy DtoD]\n",
            "                    0.34%  6.6560us         2  3.3280us  2.9760us  3.6800us  void thrust::cuda_cub::core::_kernel_agent<thrust::cuda_cub::__parallel_for::ParallelForAgent<thrust::cuda_cub::__uninitialized_fill::functor<thrust::device_ptr<int>, int>, unsigned long>, thrust::cuda_cub::__uninitialized_fill::functor<thrust::device_ptr<int>, int>, unsigned long>(thrust::device_ptr<int>, int)\n",
            "                    0.20%  3.9360us         1  3.9360us  3.9360us  3.9360us  void thrust::cuda_cub::core::_kernel_agent<thrust::cuda_cub::__parallel_for::ParallelForAgent<thrust::cuda_cub::__fill::functor<thrust::device_ptr<thrust::complex<double>>, thrust::complex<double>>, long>, thrust::cuda_cub::__fill::functor<thrust::device_ptr<thrust::complex<double>>, thrust::complex<double>>, long>(thrust::complex<double>, thrust::device_ptr<thrust::complex<double>>)\n",
            "                    0.17%  3.3600us         1  3.3600us  3.3600us  3.3600us  void thrust::cuda_cub::core::_kernel_agent<thrust::cuda_cub::__parallel_for::ParallelForAgent<thrust::cuda_cub::__uninitialized_fill::functor<thrust::device_ptr<thrust::complex<double>>, thrust::complex<double>>, unsigned long>, thrust::cuda_cub::__uninitialized_fill::functor<thrust::device_ptr<thrust::complex<double>>, thrust::complex<double>>, unsigned long>(thrust::complex<double>, thrust::device_ptr<thrust::complex<double>>)\n",
            "      API calls:   85.24%  800.57ms        68  11.773ms     417ns  383.55ms  cudaFree\n",
            "                   13.66%  128.27ms         1  128.27ms  128.27ms  128.27ms  cudaSetDeviceFlags\n",
            "                    0.23%  2.1366ms       365  5.8530us  3.9660us  41.242us  cudaLaunchKernel\n",
            "                    0.22%  2.1095ms       128  16.480us  3.8410us  35.867us  cudaMemcpyAsync\n",
            "                    0.13%  1.2327ms        11  112.07us  7.0130us  1.0873ms  cudaMallocHost\n",
            "                    0.09%  835.09us        44  18.979us  9.6200us  45.345us  cudaMemcpy\n",
            "                    0.07%  668.02us        28  23.857us  3.7620us  278.24us  cudaMalloc\n",
            "                    0.06%  562.16us       395  1.4230us     128ns  67.798us  cuDeviceGetAttribute\n",
            "                    0.06%  527.97us        11  47.997us  4.6440us  462.17us  cudaFreeHost\n",
            "                    0.04%  329.26us       108  3.0480us  2.1060us  15.541us  cudaFuncGetAttributes\n",
            "                    0.03%  316.17us       115  2.7490us  2.0800us  9.5290us  cudaStreamSynchronize\n",
            "                    0.03%  313.38us      1152     272ns     149ns  12.036us  cuGetProcAddress\n",
            "                    0.03%  308.46us         2  154.23us  141.55us  166.91us  cudaGetDeviceProperties\n",
            "                    0.02%  200.85us       107  1.8770us  1.1140us  4.5450us  cudaEventQuery\n",
            "                    0.02%  156.84us        22  7.1290us  2.6080us  28.547us  cudaMemset\n",
            "                    0.02%  146.18us       620     235ns     149ns  12.509us  cudaGetLastError\n",
            "                    0.01%  118.98us         4  29.745us  23.628us  42.798us  cuDeviceGetName\n",
            "                    0.01%  106.72us       107     997ns     729ns  7.5500us  cudaEventRecord\n",
            "                    0.01%  95.701us       214     447ns     332ns  2.3520us  cudaStreamGetCaptureInfo\n",
            "                    0.00%  31.449us         1  31.449us  31.449us  31.449us  cudaDeviceGetMemPool\n",
            "                    0.00%  23.154us         6  3.8590us  1.3650us  6.8410us  cudaDeviceSynchronize\n",
            "                    0.00%  16.800us        13  1.2920us     302ns  5.7440us  cudaGetDevice\n",
            "                    0.00%  15.247us        19     802ns     464ns  3.0620us  cudaEventCreateWithFlags\n",
            "                    0.00%  11.852us        19     623ns     382ns  2.2850us  cudaEventDestroy\n",
            "                    0.00%  10.485us         1  10.485us  10.485us  10.485us  cuDeviceGetPCIBusId\n",
            "                    0.00%  9.5050us         3  3.1680us  2.8690us  3.4880us  cuInit\n",
            "                    0.00%  9.2020us        19     484ns     305ns  1.5900us  cudaDeviceGetAttribute\n",
            "                    0.00%  6.0690us         2  3.0340us     475ns  5.5940us  cudaGetDeviceCount\n",
            "                    0.00%  5.5520us         3  1.8500us     570ns  3.3240us  cudaSetDevice\n",
            "                    0.00%  2.5670us         1  2.5670us  2.5670us  2.5670us  cudaMemPoolSetAttribute\n",
            "                    0.00%  2.4610us         6     410ns     174ns  1.1390us  cuDeviceGetCount\n",
            "                    0.00%  1.8850us         4     471ns     316ns     633ns  cuDeviceTotalMem\n",
            "                    0.00%  1.5210us         8     190ns     158ns     256ns  cudaPeekAtLastError\n",
            "                    0.00%  1.5130us         5     302ns     145ns     725ns  cuDeviceGet\n",
            "                    0.00%  1.4480us         1  1.4480us  1.4480us  1.4480us  cudaGetSymbolAddress\n",
            "                    0.00%  1.0970us         4     274ns     208ns     437ns  cuModuleGetLoadingMode\n",
            "                    0.00%     850ns         4     212ns     209ns     217ns  cuDeviceGetUuid\n",
            "                    0.00%     626ns         3     208ns     181ns     227ns  cuDriverGetVersion\n",
            "                    0.00%     425ns         1     425ns     425ns     425ns  cudaDriverGetVersion\n"
          ]
        }
      ]
    },
    {
      "cell_type": "markdown",
      "source": [
        "## `CSEM3D` program"
      ],
      "metadata": {
        "id": "x7i-RDy0_OcN"
      }
    },
    {
      "cell_type": "markdown",
      "source": [
        "### Download the source code files of `CSEM3D` program in the `root` area."
      ],
      "metadata": {
        "id": "HesBtLZL_h4h"
      }
    },
    {
      "cell_type": "code",
      "source": [
        "%%bash\n",
        "wget --no-check-certificate 'https://docs.google.com/uc?export=download&id=10WfuzFuv9bfr9MTeyphTyRM7i9rjGlxf' -O csem3d_w-v1.0.2.tar.gz"
      ],
      "metadata": {
        "id": "5SKaW3GplOUU",
        "colab": {
          "base_uri": "https://localhost:8080/"
        },
        "outputId": "043d6428-bcef-4860-c6c4-6024ff49ab26"
      },
      "execution_count": 9,
      "outputs": [
        {
          "output_type": "stream",
          "name": "stderr",
          "text": [
            "--2023-05-12 01:15:42--  https://docs.google.com/uc?export=download&id=10WfuzFuv9bfr9MTeyphTyRM7i9rjGlxf\n",
            "Resolving docs.google.com (docs.google.com)... 142.251.31.138, 142.251.31.101, 142.251.31.100, ...\n",
            "Connecting to docs.google.com (docs.google.com)|142.251.31.138|:443... connected.\n",
            "HTTP request sent, awaiting response... 303 See Other\n",
            "Location: https://doc-0s-38-docs.googleusercontent.com/docs/securesc/ha0ro937gcuc7l7deffksulhg5h7mbp1/6gquq5qqcouoino19ellrlm3se665lcm/1683854100000/11313332932477869617/*/10WfuzFuv9bfr9MTeyphTyRM7i9rjGlxf?e=download&uuid=c6543cdf-ab02-42d4-a636-1b9ac392b398 [following]\n",
            "Warning: wildcards not supported in HTTP.\n",
            "--2023-05-12 01:15:46--  https://doc-0s-38-docs.googleusercontent.com/docs/securesc/ha0ro937gcuc7l7deffksulhg5h7mbp1/6gquq5qqcouoino19ellrlm3se665lcm/1683854100000/11313332932477869617/*/10WfuzFuv9bfr9MTeyphTyRM7i9rjGlxf?e=download&uuid=c6543cdf-ab02-42d4-a636-1b9ac392b398\n",
            "Resolving doc-0s-38-docs.googleusercontent.com (doc-0s-38-docs.googleusercontent.com)... 142.250.145.132, 2a00:1450:4013:c14::84\n",
            "Connecting to doc-0s-38-docs.googleusercontent.com (doc-0s-38-docs.googleusercontent.com)|142.250.145.132|:443... connected.\n",
            "HTTP request sent, awaiting response... 200 OK\n",
            "Length: 5108069 (4.9M) [application/x-gzip]\n",
            "Saving to: ‘csem3d_w-v1.0.2.tar.gz’\n",
            "\n",
            "     0K .......... .......... .......... .......... ..........  1% 67.4M 0s\n",
            "    50K .......... .......... .......... .......... ..........  2% 69.9M 0s\n",
            "   100K .......... .......... .......... .......... ..........  3% 52.8M 0s\n",
            "   150K .......... .......... .......... .......... ..........  4% 51.7M 0s\n",
            "   200K .......... .......... .......... .......... ..........  5% 51.9M 0s\n",
            "   250K .......... .......... .......... .......... ..........  6% 52.4M 0s\n",
            "   300K .......... .......... .......... .......... ..........  7% 54.7M 0s\n",
            "   350K .......... .......... .......... .......... ..........  8% 55.3M 0s\n",
            "   400K .......... .......... .......... .......... ..........  9% 63.5M 0s\n",
            "   450K .......... .......... .......... .......... .......... 10% 58.4M 0s\n",
            "   500K .......... .......... .......... .......... .......... 11% 61.8M 0s\n",
            "   550K .......... .......... .......... .......... .......... 12% 68.0M 0s\n",
            "   600K .......... .......... .......... .......... .......... 13% 68.6M 0s\n",
            "   650K .......... .......... .......... .......... .......... 14% 66.1M 0s\n",
            "   700K .......... .......... .......... .......... .......... 15% 62.0M 0s\n",
            "   750K .......... .......... .......... .......... .......... 16% 65.0M 0s\n",
            "   800K .......... .......... .......... .......... .......... 17% 62.7M 0s\n",
            "   850K .......... .......... .......... .......... .......... 18% 67.0M 0s\n",
            "   900K .......... .......... .......... .......... .......... 19% 68.0M 0s\n",
            "   950K .......... .......... .......... .......... .......... 20% 68.7M 0s\n",
            "  1000K .......... .......... .......... .......... .......... 21%  111M 0s\n",
            "  1050K .......... .......... .......... .......... .......... 22%  154M 0s\n",
            "  1100K .......... .......... .......... .......... .......... 23%  215M 0s\n",
            "  1150K .......... .......... .......... .......... .......... 24%  193M 0s\n",
            "  1200K .......... .......... .......... .......... .......... 25%  198M 0s\n",
            "  1250K .......... .......... .......... .......... .......... 26%  108M 0s\n",
            "  1300K .......... .......... .......... .......... .......... 27%  210M 0s\n",
            "  1350K .......... .......... .......... .......... .......... 28%  315M 0s\n",
            "  1400K .......... .......... .......... .......... .......... 29%  316M 0s\n",
            "  1450K .......... .......... .......... .......... .......... 30%  195M 0s\n",
            "  1500K .......... .......... .......... .......... .......... 31%  223M 0s\n",
            "  1550K .......... .......... .......... .......... .......... 32%  223M 0s\n",
            "  1600K .......... .......... .......... .......... .......... 33%  236M 0s\n",
            "  1650K .......... .......... .......... .......... .......... 34%  207M 0s\n",
            "  1700K .......... .......... .......... .......... .......... 35%  324M 0s\n",
            "  1750K .......... .......... .......... .......... .......... 36%  340M 0s\n",
            "  1800K .......... .......... .......... .......... .......... 37%  274M 0s\n",
            "  1850K .......... .......... .......... .......... .......... 38%  265M 0s\n",
            "  1900K .......... .......... .......... .......... .......... 39%  242M 0s\n",
            "  1950K .......... .......... .......... .......... .......... 40%  262M 0s\n",
            "  2000K .......... .......... .......... .......... .......... 41%  219M 0s\n",
            "  2050K .......... .......... .......... .......... .......... 42%  172M 0s\n",
            "  2100K .......... .......... .......... .......... .......... 43%  259M 0s\n",
            "  2150K .......... .......... .......... .......... .......... 44%  300M 0s\n",
            "  2200K .......... .......... .......... .......... .......... 45%  229M 0s\n",
            "  2250K .......... .......... .......... .......... .......... 46%  195M 0s\n",
            "  2300K .......... .......... .......... .......... .......... 47%  214M 0s\n",
            "  2350K .......... .......... .......... .......... .......... 48%  337M 0s\n",
            "  2400K .......... .......... .......... .......... .......... 49%  253M 0s\n",
            "  2450K .......... .......... .......... .......... .......... 50%  152M 0s\n",
            "  2500K .......... .......... .......... .......... .......... 51%  215M 0s\n",
            "  2550K .......... .......... .......... .......... .......... 52%  206M 0s\n",
            "  2600K .......... .......... .......... .......... .......... 53%  209M 0s\n",
            "  2650K .......... .......... .......... .......... .......... 54%  180M 0s\n",
            "  2700K .......... .......... .......... .......... .......... 55%  211M 0s\n",
            "  2750K .......... .......... .......... .......... .......... 56%  207M 0s\n",
            "  2800K .......... .......... .......... .......... .......... 57%  224M 0s\n",
            "  2850K .......... .......... .......... .......... .......... 58%  188M 0s\n",
            "  2900K .......... .......... .......... .......... .......... 59%  232M 0s\n",
            "  2950K .......... .......... .......... .......... .......... 60%  225M 0s\n",
            "  3000K .......... .......... .......... .......... .......... 61%  232M 0s\n",
            "  3050K .......... .......... .......... .......... .......... 62%  169M 0s\n",
            "  3100K .......... .......... .......... .......... .......... 63%  232M 0s\n",
            "  3150K .......... .......... .......... .......... .......... 64%  248M 0s\n",
            "  3200K .......... .......... .......... .......... .......... 65%  232M 0s\n",
            "  3250K .......... .......... .......... .......... .......... 66%  201M 0s\n",
            "  3300K .......... .......... .......... .......... .......... 67%  231M 0s\n",
            "  3350K .......... .......... .......... .......... .......... 68%  225M 0s\n",
            "  3400K .......... .......... .......... .......... .......... 69%  234M 0s\n",
            "  3450K .......... .......... .......... .......... .......... 70%  181M 0s\n",
            "  3500K .......... .......... .......... .......... .......... 71%  210M 0s\n",
            "  3550K .......... .......... .......... .......... .......... 72%  192M 0s\n",
            "  3600K .......... .......... .......... .......... .......... 73%  218M 0s\n",
            "  3650K .......... .......... .......... .......... .......... 74%  188M 0s\n",
            "  3700K .......... .......... .......... .......... .......... 75%  202M 0s\n",
            "  3750K .......... .......... .......... .......... .......... 76%  226M 0s\n",
            "  3800K .......... .......... .......... .......... .......... 77%  229M 0s\n",
            "  3850K .......... .......... .......... .......... .......... 78%  203M 0s\n",
            "  3900K .......... .......... .......... .......... .......... 79%  238M 0s\n",
            "  3950K .......... .......... .......... .......... .......... 80%  231M 0s\n",
            "  4000K .......... .......... .......... .......... .......... 81%  248M 0s\n",
            "  4050K .......... .......... .......... .......... .......... 82%  470K 0s\n",
            "  4100K .......... .......... .......... .......... .......... 83%  162M 0s\n",
            "  4150K .......... .......... .......... .......... .......... 84%  292M 0s\n",
            "  4200K .......... .......... .......... .......... .......... 85%  100M 0s\n",
            "  4250K .......... .......... .......... .......... .......... 86%  180M 0s\n",
            "  4300K .......... .......... .......... .......... .......... 87%  172M 0s\n",
            "  4350K .......... .......... .......... .......... .......... 88%  208M 0s\n",
            "  4400K .......... .......... .......... .......... .......... 89%  145M 0s\n",
            "  4450K .......... .......... .......... .......... .......... 90%  179M 0s\n",
            "  4500K .......... .......... .......... .......... .......... 91%  241M 0s\n",
            "  4550K .......... .......... .......... .......... .......... 92%  189M 0s\n",
            "  4600K .......... .......... .......... .......... .......... 93%  198M 0s\n",
            "  4650K .......... .......... .......... .......... .......... 94%  239M 0s\n",
            "  4700K .......... .......... .......... .......... .......... 95%  230M 0s\n",
            "  4750K .......... .......... .......... .......... .......... 96%  256M 0s\n",
            "  4800K .......... .......... .......... .......... .......... 97%  212M 0s\n",
            "  4850K .......... .......... .......... .......... .......... 98%  218M 0s\n",
            "  4900K .......... .......... .......... .......... .......... 99%  233M 0s\n",
            "  4950K .......... .......... .......... ........             100%  224M=0.1s\n",
            "\n",
            "2023-05-12 01:15:47 (34.6 MB/s) - ‘csem3d_w-v1.0.2.tar.gz’ saved [5108069/5108069]\n",
            "\n"
          ]
        }
      ]
    },
    {
      "cell_type": "markdown",
      "source": [
        "### Copy the tarball file to `csem` user account area, and change the onwer of this file to `csem` user."
      ],
      "metadata": {
        "id": "7UCV-R5fARWv"
      }
    },
    {
      "cell_type": "code",
      "source": [
        "%%bash\n",
        "cp csem3d_w-v1.0.2.tar.gz /home/csem/\n",
        "chown csem:csem /home/csem/csem3d_w-v1.0.2.tar.gz"
      ],
      "metadata": {
        "id": "ZttctxX4lfBy"
      },
      "execution_count": 10,
      "outputs": []
    },
    {
      "cell_type": "markdown",
      "source": [
        "### Unpacking the tarball file"
      ],
      "metadata": {
        "id": "Nuz-Z1RRA9Wf"
      }
    },
    {
      "cell_type": "code",
      "source": [
        "%%bash\n",
        "su csem\n",
        "cd /home/csem\n",
        "tar zxvf csem3d_w-v1.0.2.tar.gz"
      ],
      "metadata": {
        "id": "k0b5ZF1imGY6",
        "colab": {
          "base_uri": "https://localhost:8080/"
        },
        "outputId": "05f24c80-f322-4fdd-b21d-0c514c639fb9"
      },
      "execution_count": 11,
      "outputs": [
        {
          "output_type": "stream",
          "name": "stdout",
          "text": [
            "csem3d_w-v1.0.2/\n",
            "csem3d_w-v1.0.2/CSEM3D_W/\n",
            "csem3d_w-v1.0.2/CSEM3D_W/CSEM3D_W.sln\n",
            "csem3d_w-v1.0.2/CSEM3D_W/CSEM3D_W/\n",
            "csem3d_w-v1.0.2/CSEM3D_W/CSEM3D_W/.vscode/\n",
            "csem3d_w-v1.0.2/CSEM3D_W/CSEM3D_W/.vscode/launch.json\n",
            "csem3d_w-v1.0.2/CSEM3D_W/CSEM3D_W/B_Tx_B_Rx.F\n",
            "csem3d_w-v1.0.2/CSEM3D_W/CSEM3D_W/B_Tx_E_Rx.F\n",
            "csem3d_w-v1.0.2/CSEM3D_W/CSEM3D_W/CSEM3D_W.F\n",
            "csem3d_w-v1.0.2/CSEM3D_W/CSEM3D_W/CSEM3D_W.srm\n",
            "csem3d_w-v1.0.2/CSEM3D_W/CSEM3D_W/CSEM3D_W.u2d\n",
            "csem3d_w-v1.0.2/CSEM3D_W/CSEM3D_W/CSEM3D_W.vfproj\n",
            "csem3d_w-v1.0.2/CSEM3D_W/CSEM3D_W/CSEM3D_mod.F\n",
            "csem3d_w-v1.0.2/CSEM3D_W/CSEM3D_W/E_Tx_B_Rx.F\n",
            "csem3d_w-v1.0.2/CSEM3D_W/CSEM3D_W/E_Tx_E_Rx.F\n",
            "csem3d_w-v1.0.2/CSEM3D_W/CSEM3D_W/abs_to_rel.F\n",
            "csem3d_w-v1.0.2/CSEM3D_W/CSEM3D_W/addair.F\n",
            "csem3d_w-v1.0.2/CSEM3D_W/CSEM3D_W/allvars.F\n",
            "csem3d_w-v1.0.2/CSEM3D_W/CSEM3D_W/bipole2.F\n",
            "csem3d_w-v1.0.2/CSEM3D_W/CSEM3D_W/biprho.F\n",
            "csem3d_w-v1.0.2/CSEM3D_W/CSEM3D_W/blocks.F\n",
            "csem3d_w-v1.0.2/CSEM3D_W/CSEM3D_W/bottom.F\n",
            "csem3d_w-v1.0.2/CSEM3D_W/CSEM3D_W/chk_rx_tx.F\n",
            "csem3d_w-v1.0.2/CSEM3D_W/CSEM3D_W/compute_src_wts.F\n",
            "csem3d_w-v1.0.2/CSEM3D_W/CSEM3D_W/convres.F\n",
            "csem3d_w-v1.0.2/CSEM3D_W/CSEM3D_W/d1imped.F\n",
            "csem3d_w-v1.0.2/CSEM3D_W/CSEM3D_W/dataset/\n",
            "csem3d_w-v1.0.2/CSEM3D_W/CSEM3D_W/dataset/Sintetico/\n",
            "csem3d_w-v1.0.2/CSEM3D_W/CSEM3D_W/dataset/Sintetico/InData/\n",
            "csem3d_w-v1.0.2/CSEM3D_W/CSEM3D_W/dataset/Sintetico/InData/Tx01_Rx001_f=1.25000.dat\n",
            "csem3d_w-v1.0.2/CSEM3D_W/CSEM3D_W/dataset/Sintetico/Model/\n",
            "csem3d_w-v1.0.2/CSEM3D_W/CSEM3D_W/dataset/Sintetico/Model/ResUni1D_RhoH.out\n",
            "csem3d_w-v1.0.2/CSEM3D_W/CSEM3D_W/dataset/Sintetico/Model/ResUni1D_RhoV.out\n",
            "csem3d_w-v1.0.2/CSEM3D_W/CSEM3D_W/dataset/Sintetico/ORX/\n",
            "csem3d_w-v1.0.2/CSEM3D_W/CSEM3D_W/dataset/Sintetico/ORX/Tx01_Rx001.orx\n",
            "csem3d_w-v1.0.2/CSEM3D_W/CSEM3D_W/dataset/Sintetico/Parameters.inp\n",
            "csem3d_w-v1.0.2/CSEM3D_W/CSEM3D_W/dimens.F\n",
            "csem3d_w-v1.0.2/CSEM3D_W/CSEM3D_W/dimped.F\n",
            "csem3d_w-v1.0.2/CSEM3D_W/CSEM3D_W/env_vars.sh\n",
            "csem3d_w-v1.0.2/CSEM3D_W/CSEM3D_W/grid.F\n",
            "csem3d_w-v1.0.2/CSEM3D_W/CSEM3D_W/in3dmod.F\n",
            "csem3d_w-v1.0.2/CSEM3D_W/CSEM3D_W/in3drho.F\n",
            "csem3d_w-v1.0.2/CSEM3D_W/CSEM3D_W/intpol1.F\n",
            "csem3d_w-v1.0.2/CSEM3D_W/CSEM3D_W/kinds.F\n",
            "csem3d_w-v1.0.2/CSEM3D_W/CSEM3D_W/locals.F\n",
            "csem3d_w-v1.0.2/CSEM3D_W/CSEM3D_W/make/\n",
            "csem3d_w-v1.0.2/CSEM3D_W/CSEM3D_W/make/depend.mk\n",
            "csem3d_w-v1.0.2/CSEM3D_W/CSEM3D_W/makefile\n",
            "csem3d_w-v1.0.2/CSEM3D_W/CSEM3D_W/makefile_gnu\n",
            "csem3d_w-v1.0.2/CSEM3D_W/CSEM3D_W/mpidbg.sh\n",
            "csem3d_w-v1.0.2/CSEM3D_W/CSEM3D_W/outfields_B_Tx.F\n",
            "csem3d_w-v1.0.2/CSEM3D_W/CSEM3D_W/outfields_E_Tx.F\n",
            "csem3d_w-v1.0.2/CSEM3D_W/CSEM3D_W/scripts/\n",
            "csem3d_w-v1.0.2/CSEM3D_W/CSEM3D_W/scripts/CSEM3D_W_gnu.sh\n",
            "csem3d_w-v1.0.2/CSEM3D_W/CSEM3D_W/scripts/CSEM3D_W_sdumont_gnu.srm\n",
            "csem3d_w-v1.0.2/CSEM3D_W/CSEM3D_W/scripts/CSEM3D_W_sdumont_gnu_hpctoolkit.srm\n",
            "csem3d_w-v1.0.2/CSEM3D_W/CSEM3D_W/scripts/CSEM3D_W_sdumont_intel.srm\n",
            "csem3d_w-v1.0.2/CSEM3D_W/CSEM3D_W/scripts/CSEM3D_W_sdumont_intel_hpctoolkit.srm\n",
            "csem3d_w-v1.0.2/CSEM3D_W/CSEM3D_W/scripts/env_sdumont_intel.sh\n",
            "csem3d_w-v1.0.2/CSEM3D_W/CSEM3D_W/scripts/env_sdumont_spack.sh\n",
            "csem3d_w-v1.0.2/CSEM3D_W/CSEM3D_W/scripts/makefile_gnu\n",
            "csem3d_w-v1.0.2/CSEM3D_W/CSEM3D_W/scripts/makefile_petsc-3.1-p8_linux\n",
            "csem3d_w-v1.0.2/CSEM3D_W/CSEM3D_W/scripts/makefile_petsc-3.18.4-linux\n",
            "csem3d_w-v1.0.2/CSEM3D_W/CSEM3D_W/scripts/makefile_sdumont_gnu\n",
            "csem3d_w-v1.0.2/CSEM3D_W/CSEM3D_W/scripts/makefile_sdumont_intel\n",
            "csem3d_w-v1.0.2/CSEM3D_W/CSEM3D_W/set_1d_resist.F\n",
            "csem3d_w-v1.0.2/CSEM3D_W/CSEM3D_W/set_A.F\n",
            "csem3d_w-v1.0.2/CSEM3D_W/CSEM3D_W/set_P.F\n",
            "csem3d_w-v1.0.2/CSEM3D_W/CSEM3D_W/set_bv_e.F\n",
            "csem3d_w-v1.0.2/CSEM3D_W/CSEM3D_W/set_bv_h.F\n",
            "csem3d_w-v1.0.2/CSEM3D_W/CSEM3D_W/set_resist_vector.F\n",
            "csem3d_w-v1.0.2/CSEM3D_W/CSEM3D_W/set_rhs.F\n",
            "csem3d_w-v1.0.2/CSEM3D_W/CSEM3D_W/set_src.F\n",
            "csem3d_w-v1.0.2/CSEM3D_W/CSEM3D_W/spline.F\n",
            "csem3d_w-v1.0.2/CSEM3D_W/CSEM3D_W/splint.F\n",
            "csem3d_w-v1.0.2/CSEM3D_W/CSEM3D_W/txrx.F\n",
            "csem3d_w-v1.0.2/Marlim/\n",
            "csem3d_w-v1.0.2/Marlim/.gitkeep\n",
            "csem3d_w-v1.0.2/Marlim/1985_combinedmodel.h5grid\n",
            "csem3d_w-v1.0.2/README.md\n"
          ]
        }
      ]
    },
    {
      "cell_type": "markdown",
      "source": [
        "### Run `make all` to install the `CSEM3D` program\n",
        "```bash\n",
        "If it is successfully finished, this message must appear:\n",
        "\n",
        "mpif90 -o CSEM3D_W outfields_E_Tx.o spline.o bottom.o allvars.o intpol1.o biprho.o dimped.o in3dmod.o compute_src_wts.o set_resist_vector.o locals.o kinds.o outfields_B_Tx.o B_Tx_B_Rx.o dimens.o set_P.o set_bv_e.o d1imped.o set_src.o grid.o in3drho.o CSEM3D_mod.o CSEM3D_W.o set_bv_h.o bipole2.o set_A.o chk_rx_tx.o set_1d_resist.o txrx.o splint.o set_rhs.o blocks.o E_Tx_E_Rx.o convres.o abs_to_rel.o B_Tx_E_Rx.o E_Tx_B_Rx.o addair.o -L/home/csem/petsc/gnu/petsc-v3.18.4/installdir/lib -lpetsc  \n",
        "```"
      ],
      "metadata": {
        "id": "LriJdUisBJKC"
      }
    },
    {
      "cell_type": "code",
      "source": [
        "%%bash\n",
        "su csem\n",
        "cd /home/csem/csem3d_w-v1.0.2/CSEM3D_W/CSEM3D_W\n",
        "make PETSC_DIR=${HOME}/petsc/gnu/petsc-v3.18.4/installdir -f scripts/makefile_gnu clean"
      ],
      "metadata": {
        "id": "cflx5G_EoLl0",
        "colab": {
          "base_uri": "https://localhost:8080/"
        },
        "outputId": "a9cdd921-2ac4-4b05-89e2-835982e251ee"
      },
      "execution_count": 12,
      "outputs": [
        {
          "output_type": "stream",
          "name": "stdout",
          "text": [
            "rm -rf *.o CSEM3D_W *.mod\n"
          ]
        }
      ]
    },
    {
      "cell_type": "code",
      "source": [
        "%%bash\n",
        "su csem\n",
        "cd /home/csem/csem3d_w-v1.0.2/CSEM3D_W/CSEM3D_W\n",
        "make PETSC_DIR=${HOME}/petsc/gnu/petsc-v3.18.4/installdir -f scripts/makefile_gnu all"
      ],
      "metadata": {
        "id": "-sBQCQXapf4C",
        "colab": {
          "base_uri": "https://localhost:8080/"
        },
        "outputId": "d6fecc9f-bdb4-4ee9-cbae-b9164599f875"
      },
      "execution_count": 13,
      "outputs": [
        {
          "output_type": "stream",
          "name": "stdout",
          "text": [
            "mpif90 -ffixed-line-length-none -g -O2 -ffpe-trap=zero,invalid,overflow -Wcompare-reals -Wconversion -I/home/csem/petsc/gnu/petsc-v3.18.4/installdir/include   -c -o kinds.o kinds.F\n",
            "mpif90 -ffixed-line-length-none -g -O2 -ffpe-trap=zero,invalid,overflow -Wcompare-reals -Wconversion -I/home/csem/petsc/gnu/petsc-v3.18.4/installdir/include   -c -o CSEM3D_mod.o CSEM3D_mod.F\n",
            "mpif90 -ffixed-line-length-none -g -O2 -ffpe-trap=zero,invalid,overflow -Wcompare-reals -Wconversion -I/home/csem/petsc/gnu/petsc-v3.18.4/installdir/include   -c -o locals.o locals.F\n",
            "mpif90 -ffixed-line-length-none -g -O2 -ffpe-trap=zero,invalid,overflow -Wcompare-reals -Wconversion -I/home/csem/petsc/gnu/petsc-v3.18.4/installdir/include   -c -o txrx.o txrx.F\n",
            "mpif90 -ffixed-line-length-none -g -O2 -ffpe-trap=zero,invalid,overflow -Wcompare-reals -Wconversion -I/home/csem/petsc/gnu/petsc-v3.18.4/installdir/include   -c -o abs_to_rel.o abs_to_rel.F\n",
            "mpif90 -ffixed-line-length-none -g -O2 -ffpe-trap=zero,invalid,overflow -Wcompare-reals -Wconversion -I/home/csem/petsc/gnu/petsc-v3.18.4/installdir/include   -c -o addair.o addair.F\n",
            "mpif90 -ffixed-line-length-none -g -O2 -ffpe-trap=zero,invalid,overflow -Wcompare-reals -Wconversion -I/home/csem/petsc/gnu/petsc-v3.18.4/installdir/include   -c -o allvars.o allvars.F\n",
            "mpif90 -ffixed-line-length-none -g -O2 -ffpe-trap=zero,invalid,overflow -Wcompare-reals -Wconversion -I/home/csem/petsc/gnu/petsc-v3.18.4/installdir/include   -c -o biprho.o biprho.F\n",
            "mpif90 -ffixed-line-length-none -g -O2 -ffpe-trap=zero,invalid,overflow -Wcompare-reals -Wconversion -I/home/csem/petsc/gnu/petsc-v3.18.4/installdir/include   -c -o bipole2.o bipole2.F\n",
            "mpif90 -ffixed-line-length-none -g -O2 -ffpe-trap=zero,invalid,overflow -Wcompare-reals -Wconversion -I/home/csem/petsc/gnu/petsc-v3.18.4/installdir/include   -c -o blocks.o blocks.F\n",
            "mpif90 -ffixed-line-length-none -g -O2 -ffpe-trap=zero,invalid,overflow -Wcompare-reals -Wconversion -I/home/csem/petsc/gnu/petsc-v3.18.4/installdir/include   -c -o bottom.o bottom.F\n",
            "mpif90 -ffixed-line-length-none -g -O2 -ffpe-trap=zero,invalid,overflow -Wcompare-reals -Wconversion -I/home/csem/petsc/gnu/petsc-v3.18.4/installdir/include   -c -o compute_src_wts.o compute_src_wts.F\n",
            "mpif90 -ffixed-line-length-none -g -O2 -ffpe-trap=zero,invalid,overflow -Wcompare-reals -Wconversion -I/home/csem/petsc/gnu/petsc-v3.18.4/installdir/include   -c -o grid.o grid.F\n",
            "mpif90 -ffixed-line-length-none -g -O2 -ffpe-trap=zero,invalid,overflow -Wcompare-reals -Wconversion -I/home/csem/petsc/gnu/petsc-v3.18.4/installdir/include   -c -o B_Tx_B_Rx.o B_Tx_B_Rx.F\n",
            "mpif90 -ffixed-line-length-none -g -O2 -ffpe-trap=zero,invalid,overflow -Wcompare-reals -Wconversion -I/home/csem/petsc/gnu/petsc-v3.18.4/installdir/include   -c -o B_Tx_E_Rx.o B_Tx_E_Rx.F\n",
            "mpif90 -ffixed-line-length-none -g -O2 -ffpe-trap=zero,invalid,overflow -Wcompare-reals -Wconversion -I/home/csem/petsc/gnu/petsc-v3.18.4/installdir/include   -c -o chk_rx_tx.o chk_rx_tx.F\n",
            "mpif90 -ffixed-line-length-none -g -O2 -ffpe-trap=zero,invalid,overflow -Wcompare-reals -Wconversion -I/home/csem/petsc/gnu/petsc-v3.18.4/installdir/include   -c -o convres.o convres.F\n",
            "mpif90 -ffixed-line-length-none -g -O2 -ffpe-trap=zero,invalid,overflow -Wcompare-reals -Wconversion -I/home/csem/petsc/gnu/petsc-v3.18.4/installdir/include   -c -o CSEM3D_W.o CSEM3D_W.F\n",
            "mpif90 -ffixed-line-length-none -g -O2 -ffpe-trap=zero,invalid,overflow -Wcompare-reals -Wconversion -I/home/csem/petsc/gnu/petsc-v3.18.4/installdir/include   -c -o d1imped.o d1imped.F\n",
            "mpif90 -ffixed-line-length-none -g -O2 -ffpe-trap=zero,invalid,overflow -Wcompare-reals -Wconversion -I/home/csem/petsc/gnu/petsc-v3.18.4/installdir/include   -c -o dimens.o dimens.F\n",
            "mpif90 -ffixed-line-length-none -g -O2 -ffpe-trap=zero,invalid,overflow -Wcompare-reals -Wconversion -I/home/csem/petsc/gnu/petsc-v3.18.4/installdir/include   -c -o dimped.o dimped.F\n",
            "mpif90 -ffixed-line-length-none -g -O2 -ffpe-trap=zero,invalid,overflow -Wcompare-reals -Wconversion -I/home/csem/petsc/gnu/petsc-v3.18.4/installdir/include   -c -o E_Tx_B_Rx.o E_Tx_B_Rx.F\n",
            "mpif90 -ffixed-line-length-none -g -O2 -ffpe-trap=zero,invalid,overflow -Wcompare-reals -Wconversion -I/home/csem/petsc/gnu/petsc-v3.18.4/installdir/include   -c -o E_Tx_E_Rx.o E_Tx_E_Rx.F\n",
            "mpif90 -ffixed-line-length-none -g -O2 -ffpe-trap=zero,invalid,overflow -Wcompare-reals -Wconversion -I/home/csem/petsc/gnu/petsc-v3.18.4/installdir/include   -c -o in3dmod.o in3dmod.F\n",
            "mpif90 -ffixed-line-length-none -g -O2 -ffpe-trap=zero,invalid,overflow -Wcompare-reals -Wconversion -I/home/csem/petsc/gnu/petsc-v3.18.4/installdir/include   -c -o in3drho.o in3drho.F\n",
            "mpif90 -ffixed-line-length-none -g -O2 -ffpe-trap=zero,invalid,overflow -Wcompare-reals -Wconversion -I/home/csem/petsc/gnu/petsc-v3.18.4/installdir/include   -c -o intpol1.o intpol1.F\n",
            "mpif90 -ffixed-line-length-none -g -O2 -ffpe-trap=zero,invalid,overflow -Wcompare-reals -Wconversion -I/home/csem/petsc/gnu/petsc-v3.18.4/installdir/include   -c -o outfields_B_Tx.o outfields_B_Tx.F\n",
            "mpif90 -ffixed-line-length-none -g -O2 -ffpe-trap=zero,invalid,overflow -Wcompare-reals -Wconversion -I/home/csem/petsc/gnu/petsc-v3.18.4/installdir/include   -c -o outfields_E_Tx.o outfields_E_Tx.F\n",
            "mpif90 -ffixed-line-length-none -g -O2 -ffpe-trap=zero,invalid,overflow -Wcompare-reals -Wconversion -I/home/csem/petsc/gnu/petsc-v3.18.4/installdir/include   -c -o set_1d_resist.o set_1d_resist.F\n",
            "mpif90 -ffixed-line-length-none -g -O2 -ffpe-trap=zero,invalid,overflow -Wcompare-reals -Wconversion -I/home/csem/petsc/gnu/petsc-v3.18.4/installdir/include   -c -o set_A.o set_A.F\n",
            "mpif90 -ffixed-line-length-none -g -O2 -ffpe-trap=zero,invalid,overflow -Wcompare-reals -Wconversion -I/home/csem/petsc/gnu/petsc-v3.18.4/installdir/include   -c -o set_bv_e.o set_bv_e.F\n",
            "mpif90 -ffixed-line-length-none -g -O2 -ffpe-trap=zero,invalid,overflow -Wcompare-reals -Wconversion -I/home/csem/petsc/gnu/petsc-v3.18.4/installdir/include   -c -o spline.o spline.F\n",
            "mpif90 -ffixed-line-length-none -g -O2 -ffpe-trap=zero,invalid,overflow -Wcompare-reals -Wconversion -I/home/csem/petsc/gnu/petsc-v3.18.4/installdir/include   -c -o splint.o splint.F\n",
            "mpif90 -ffixed-line-length-none -g -O2 -ffpe-trap=zero,invalid,overflow -Wcompare-reals -Wconversion -I/home/csem/petsc/gnu/petsc-v3.18.4/installdir/include   -c -o set_bv_h.o set_bv_h.F\n",
            "mpif90 -ffixed-line-length-none -g -O2 -ffpe-trap=zero,invalid,overflow -Wcompare-reals -Wconversion -I/home/csem/petsc/gnu/petsc-v3.18.4/installdir/include   -c -o set_P.o set_P.F\n",
            "mpif90 -ffixed-line-length-none -g -O2 -ffpe-trap=zero,invalid,overflow -Wcompare-reals -Wconversion -I/home/csem/petsc/gnu/petsc-v3.18.4/installdir/include   -c -o set_resist_vector.o set_resist_vector.F\n",
            "mpif90 -ffixed-line-length-none -g -O2 -ffpe-trap=zero,invalid,overflow -Wcompare-reals -Wconversion -I/home/csem/petsc/gnu/petsc-v3.18.4/installdir/include   -c -o set_rhs.o set_rhs.F\n",
            "mpif90 -ffixed-line-length-none -g -O2 -ffpe-trap=zero,invalid,overflow -Wcompare-reals -Wconversion -I/home/csem/petsc/gnu/petsc-v3.18.4/installdir/include   -c -o set_src.o set_src.F\n",
            "mpif90 -o CSEM3D_W abs_to_rel.o addair.o allvars.o bipole2.o biprho.o blocks.o bottom.o B_Tx_B_Rx.o B_Tx_E_Rx.o chk_rx_tx.o compute_src_wts.o convres.o CSEM3D_mod.o CSEM3D_W.o d1imped.o dimens.o dimped.o E_Tx_B_Rx.o E_Tx_E_Rx.o grid.o in3dmod.o in3drho.o intpol1.o kinds.o locals.o outfields_B_Tx.o outfields_E_Tx.o set_1d_resist.o set_A.o set_bv_e.o set_bv_h.o set_P.o set_resist_vector.o set_rhs.o set_src.o spline.o splint.o txrx.o -L/home/csem/petsc/gnu/petsc-v3.18.4/installdir/lib -lpetsc  \n"
          ]
        }
      ]
    },
    {
      "cell_type": "markdown",
      "source": [
        "### Run this bash `script` to execute the generated `CSEM3D_W` binary file.\n",
        "\n",
        "```bash\n",
        "If it is successfully finished, a similar message like below must appear:\n",
        "\n",
        " 16 KSP preconditioned resid norm 3.863008301354e-18 true resid norm 1.284864871592e-05 ||r(i)||/||b|| 3.405644702963e-01\n",
        " 17 KSP preconditioned resid norm 2.061402843466e-18 true resid norm 1.054741071689e-05 ||r(i)||/||b|| 2.795681805313e-01\n",
        " 18 KSP preconditioned resid norm 1.062033155132e-18 true resid norm 3.992776343547e-06 ||r(i)||/||b|| 1.058319664983e-01\n",
        " converged reason            2\n",
        " total number of relaxations           18\n",
        " ========================================\n",
        "\n",
        " \n",
        " ************************************************\n",
        "  3D finished\n",
        "  Total CPU time:    18.7500000      seconds\n",
        " ************************************************\n",
        " \n",
        " total cpu time:    18.7500000      seconds\n",
        " CSEM3D_W finished\n",
        "```\n",
        "\n"
      ],
      "metadata": {
        "id": "hRhpojxUB_xZ"
      }
    },
    {
      "cell_type": "code",
      "source": [
        "%%bash\n",
        "su csem\n",
        "cd /home/csem/csem3d_w-v1.0.2/CSEM3D_W/CSEM3D_W\n",
        "\n",
        "PETSC_DIR=${HOME}/petsc/gnu/petsc-v3.18.4/installdir\n",
        "\n",
        "dataset=Sintetico\n",
        "ntasks=1\n",
        "nnodes=1\n",
        "\n",
        "TIMESTART=$(date +%Y%m%d%H%M%S)\n",
        "\n",
        "if [[ -L ${dataset} ]]\n",
        "then\n",
        "    echo \"Link já existe para o dataset ${dataset}\"\n",
        "else\n",
        "    ln -s dataset/${dataset}\n",
        "fi\n",
        "sed 's/\\.\\//'${dataset}'\\//g' ${dataset}/Parameters.inp | \\\n",
        "sed 's/'${dataset}'\\/OutData/OutData/g' > Parameters.inp\n",
        "\n",
        "outputdir=\"OutData\"\n",
        "if [[ -d ${outputdir} ]]\n",
        "then\n",
        "    echo \"OutData já existe.\"\n",
        "    rm -fr ${outputdir}\n",
        "fi\n",
        "mkdir ${outputdir}\n",
        "\n",
        "\n",
        "resultsdir=results/${dataset}/NUMNODES-${nnodes}/MPI-${ntasks}/EXECSTART-${TIMESTART}\n",
        "mkdir -p ${resultsdir}\n",
        "\n",
        "export LD_LIBRARY_PATH=${LD_LIBRARY_PATH}:${PETSC_DIR}/lib\n",
        "\n",
        "executable=CSEM3D_W\n",
        "\n",
        "echo \"mpirun -np $ntasks ./${executable}\"\n",
        "mpirun -np $ntasks ./${executable} \\\n",
        " -A_mat_type mpiaij \\\n",
        " -P_mat_type mpiaij \\\n",
        " -em_ksp_monitor_true_residual \\\n",
        " -em_ksp_type bcgs \\\n",
        " -em_pc_type bjacobi \\\n",
        " -em_sub_pc_type ilu \\\n",
        " -em_sub_pc_factor_levels 3 \\\n",
        " -em_sub_pc_factor_fill 6 \\\n",
        " < ./Parameters.inp \\\n",
        " 2>&1 | tee csem3d_w-${TIMESTART}.out\n",
        "\n",
        "mv $outputdir/ ${resultsdir}/\n",
        "cp csem3d_w-${TIMESTART}.out ${resultsdir}/\n"
      ],
      "metadata": {
        "id": "t83IHP-iZd-t",
        "colab": {
          "base_uri": "https://localhost:8080/"
        },
        "outputId": "ca2856c7-9f5a-4090-d125-ef9fa1a44f6f"
      },
      "execution_count": 14,
      "outputs": [
        {
          "output_type": "stream",
          "name": "stdout",
          "text": [
            "mpirun -np 1 ./CSEM3D_W\n",
            "\n",
            " ================================================\n",
            " ================================================\n",
            "\n",
            "\n",
            " enter 3D model rhoxx file name\n",
            "\n",
            " enter 3D model rhoyy file name\n",
            "\n",
            " enter 3D model rhozz file name\n",
            " enter error level for stopping? (>= 1e-6 suggested)\n",
            "   (this is the value rnorm/bnorm where rnorm is the\n",
            "    L2 norm of the residual and bnorm is the L2 norm\n",
            "    of the right-hand side. Smaller values result in\n",
            "    more accurate solutions, but at the\n",
            "    expense of more relaxation iterations.\n",
            " enter max number of relaxations (50-100 suggested)\n",
            " use 1D boundary values (y/n)\n",
            " [IF YOU TYPE N, THEN ZERO BOUNDARY VALUES WILL BE USED]\n",
            " do a deep water caclulation? (y/n)\n",
            " [THIS WILL REPLACE AIR LAYERS WITH SEA LAYERS]\n",
            " enter directory name for input Tx files\n",
            " enter directory name for output 3D files\n",
            " force receivers to seafloor (y/n)?\n",
            " Compute results for electric or magnetic dipole sources (e/m)?\n",
            " how many Tx files to compute?\n",
            " enter name for Tx data file           1\n",
            "\n",
            " Reading model dimensions from file Sintetico/Model/ResUni1D_RhoH.out                                               \n",
            " adding           13  air layers\n",
            "\n",
            " Reading apriori 3D rhoxx model Sintetico/Model/ResUni1D_RhoH.out                                               \n",
            " reading resistivity VALUES\n",
            " adding           13  air layers\n",
            " reading CSEM3D_W\n",
            " WINGLINK\n",
            "   Site_not_set  (site name)                       \n",
            "           1           1\n",
            "   5.00000000       45.0000000    \n",
            "   0.00000000    \n",
            "   0.00000000    \n",
            "  \n",
            " top of air layers at    38.723901367187501       km\n",
            "  \n",
            "\n",
            " Reading apriori 3D rhoyy model Sintetico/Model/ResUni1D_RhoH.out                                               \n",
            " reading resistivity VALUES\n",
            " adding           13  air layers\n",
            " reading CSEM3D_W\n",
            " WINGLINK\n",
            "   Site_not_set  (site name)                       \n",
            "           1           1\n",
            "   5.00000000       45.0000000    \n",
            "   0.00000000    \n",
            "   0.00000000    \n",
            "  \n",
            " top of air layers at    38.723901367187501       km\n",
            "  \n",
            "\n",
            " Reading apriori 3D rhozz model Sintetico/Model/ResUni1D_RhoV.out                                               \n",
            " reading resistivity VALUES\n",
            " adding           13  air layers\n",
            " reading CSEM3D_W\n",
            " WINGLINK\n",
            "   Site_not_set  (site name)                       \n",
            "           1           1\n",
            "   5.00000000       45.0000000    \n",
            "   0.00000000    \n",
            "   0.00000000    \n",
            "  \n",
            " top of air layers at    38.723901367187501       km\n",
            "  \n",
            " receiver depth  -999.00000000000000     \n",
            " source depth           1  -950.00000000000000     \n",
            " source depth           2  -950.00000000000000     \n",
            " source depth           3  -950.00000000000000     \n",
            " source depth           4  -950.00000000000000     \n",
            " source depth           5  -950.00000000000000     \n",
            " source depth           6  -950.00000000000000     \n",
            " source depth           7  -950.00000000000000     \n",
            " source depth           8  -950.00000000000000     \n",
            " source depth           9  -950.00000000000000     \n",
            " source depth          10  -950.00000000000000     \n",
            " source depth          11  -950.00000000000000     \n",
            " source depth          12  -950.00000000000000     \n",
            " source depth          13  -950.00000000000000     \n",
            " source depth          14  -950.00000000000000     \n",
            " source depth          15  -950.00000000000000     \n",
            " source depth          16  -950.00000000000000     \n",
            " source depth          17  -950.00000000000000     \n",
            " source depth          18  -950.00000000000000     \n",
            " source depth          19  -950.00000000000000     \n",
            " source depth          20  -950.00000000000000     \n",
            " source depth          21  -950.00000000000000     \n",
            " source depth          22  -950.00000000000000     \n",
            " source depth          23  -950.00000000000000     \n",
            " source depth          24  -950.00000000000000     \n",
            " source depth          25  -950.00000000000000     \n",
            " source depth          26  -950.00000000000000     \n",
            " source depth          27  -950.00000000000000     \n",
            " source depth          28  -950.00000000000000     \n",
            " source depth          29  -950.00000000000000     \n",
            " source depth          30  -950.00000000000000     \n",
            " source depth          31  -950.00000000000000     \n",
            " source depth          32  -950.00000000000000     \n",
            " source depth          33  -950.00000000000000     \n",
            " source depth          34  -950.00000000000000     \n",
            " source depth          35  -950.00000000000000     \n",
            " source depth          36  -950.00000000000000     \n",
            " source depth          37  -950.00000000000000     \n",
            " source depth          38  -950.00000000000000     \n",
            " source depth          39  -950.00000000000000     \n",
            " source depth          40  -950.00000000000000     \n",
            " source depth          41  -950.00000000000000     \n",
            " source depth          42  -950.00000000000000     \n",
            " source depth          43  -950.00000000000000     \n",
            " source depth          44  -950.00000000000000     \n",
            " source depth          45  -950.00000000000000     \n",
            " source depth          46  -950.00000000000000     \n",
            " source depth          47  -950.00000000000000     \n",
            " source depth          48  -950.00000000000000     \n",
            " source depth          49  -950.00000000000000     \n",
            " source depth          50  -950.00000000000000     \n",
            " source depth          51  -950.00000000000000     \n",
            " period=   0.80000    \n",
            "  1 0.100E+11   0.100E+11   0.130E+05\n",
            "  2 0.100E+11   0.100E+11   0.865E+04\n",
            "  3 0.100E+11   0.100E+11   0.577E+04\n",
            "  4 0.100E+11   0.100E+11   0.384E+04\n",
            "  5 0.100E+11   0.100E+11   0.256E+04\n",
            "  6 0.100E+11   0.100E+11   0.171E+04\n",
            "  7 0.100E+11   0.100E+11   0.114E+04\n",
            "  8 0.100E+11   0.100E+11    759.    \n",
            "  9 0.100E+11   0.100E+11    506.    \n",
            " 10 0.100E+11   0.100E+11    338.    \n",
            " 11 0.100E+11   0.100E+11    225.    \n",
            " 12 0.100E+11   0.100E+11    150.    \n",
            " 13 0.100E+11   0.100E+11    100.    \n",
            " 14 0.305       0.305        100.    \n",
            " 15 0.305       0.305        100.    \n",
            " 16 0.305       0.305        100.    \n",
            " 17 0.305       0.305        100.    \n",
            " 18 0.305       0.305        100.    \n",
            " 19 0.305       0.305        100.    \n",
            " 20 0.305       0.305        100.    \n",
            " 21 0.305       0.305        100.    \n",
            " 22 0.305       0.305        100.    \n",
            " 23 0.305       0.305        100.    \n",
            " 24  1.00        1.00        100.    \n",
            " 25  1.00        1.00        100.    \n",
            " 26  1.00        1.00        100.    \n",
            " 27  1.00        1.00        100.    \n",
            " 28  1.00        1.00        100.    \n",
            " 29  1.00        1.00        100.    \n",
            " 30  1.00        1.00        100.    \n",
            " 31  1.00        1.00        100.    \n",
            " 32  1.00        1.00        100.    \n",
            " 33  1.00        1.00        100.    \n",
            " 34  1.00        1.00        100.    \n",
            " 35  1.00        1.00        100.    \n",
            " 36  1.00        1.00        100.    \n",
            " 37  1.00        1.00        100.    \n",
            " 38  1.00        1.00        100.    \n",
            " 39  1.00        1.00        100.    \n",
            " 40  1.00        1.00        100.    \n",
            " 41  1.00        1.00        100.    \n",
            " 42  1.00        1.00        100.    \n",
            " 43  1.00        1.00        100.    \n",
            " 44  1.00        1.00        100.    \n",
            " 45  1.00        1.00        125.    \n",
            " 46  1.00        1.00        156.    \n",
            " 47  1.00        1.00        195.    \n",
            " 48  1.00        1.00        244.    \n",
            " 49  1.00        1.00        305.    \n",
            " 50  1.00        1.00        381.    \n",
            " 51  1.00        1.00        477.    \n",
            " 52  1.00        1.00        596.    \n",
            " 53  1.00        1.00        745.    \n",
            " 54  1.00        1.00        931.    \n",
            " 55  1.00        1.00       0.116E+04\n",
            " 56  1.00        1.00       0.146E+04\n",
            " 57  1.00        1.00       0.182E+04\n",
            " 58  1.00        1.00       0.227E+04\n",
            " Solving for Ex fields\n",
            " bnorm   4.4614858949484438E-003\n",
            " xnorm   2.7282978313563042E-012\n",
            "  Residual norms for em_ solve.\n",
            "  0 KSP preconditioned resid norm 1.824454933571e-06 true resid norm 1.718311860495e+01 ||r(i)||/||b|| 3.851434031070e+03\n",
            "  1 KSP preconditioned resid norm 2.085208374467e-09 true resid norm 1.443329536802e+03 ||r(i)||/||b|| 3.235087078132e+05\n",
            "  2 KSP preconditioned resid norm 5.799006788826e-11 true resid norm 1.018404763738e+02 ||r(i)||/||b|| 2.282658261659e+04\n",
            "  3 KSP preconditioned resid norm 1.445320897179e-11 true resid norm 2.977445128907e+01 ||r(i)||/||b|| 6.673662539824e+03\n",
            "  4 KSP preconditioned resid norm 6.111357796220e-12 true resid norm 9.880705583784e+00 ||r(i)||/||b|| 2.214667000286e+03\n",
            "  5 KSP preconditioned resid norm 3.234967847556e-12 true resid norm 7.075326050200e+00 ||r(i)||/||b|| 1.585867627243e+03\n",
            "  6 KSP preconditioned resid norm 2.188814327685e-12 true resid norm 3.780110611534e+00 ||r(i)||/||b|| 8.472761542996e+02\n",
            "  7 KSP preconditioned resid norm 1.995153930734e-12 true resid norm 4.296128199861e+00 ||r(i)||/||b|| 9.629366316557e+02\n",
            "  8 KSP preconditioned resid norm 5.391535229696e-13 true resid norm 1.594069829159e+00 ||r(i)||/||b|| 3.572957231499e+02\n",
            "  9 KSP preconditioned resid norm 3.892427344095e-13 true resid norm 1.297149781731e+00 ||r(i)||/||b|| 2.907438939120e+02\n",
            " 10 KSP preconditioned resid norm 3.906498409307e-13 true resid norm 1.247726116677e+00 ||r(i)||/||b|| 2.796660453617e+02\n",
            " 11 KSP preconditioned resid norm 1.073652757672e-13 true resid norm 5.260879616381e-01 ||r(i)||/||b|| 1.179176565892e+02\n",
            " 12 KSP preconditioned resid norm 4.656844268133e-14 true resid norm 2.358893659095e-01 ||r(i)||/||b|| 5.287237737915e+01\n",
            " 13 KSP preconditioned resid norm 3.240263954265e-14 true resid norm 2.032887885451e-01 ||r(i)||/||b|| 4.556526532455e+01\n",
            " 14 KSP preconditioned resid norm 1.760993209717e-14 true resid norm 7.909946438191e-02 ||r(i)||/||b|| 1.772939918323e+01\n",
            " 15 KSP preconditioned resid norm 7.167492240345e-15 true resid norm 5.398313883529e-02 ||r(i)||/||b|| 1.209981161129e+01\n",
            " 16 KSP preconditioned resid norm 4.561788648147e-15 true resid norm 1.862722449795e-02 ||r(i)||/||b|| 4.175116751808e+00\n",
            " 17 KSP preconditioned resid norm 3.227104395934e-15 true resid norm 1.361195049448e-02 ||r(i)||/||b|| 3.050990368453e+00\n",
            " 18 KSP preconditioned resid norm 1.332986258786e-15 true resid norm 7.579672269231e-03 ||r(i)||/||b|| 1.698912077210e+00\n",
            " 19 KSP preconditioned resid norm 3.725135624424e-16 true resid norm 1.521915073813e-03 ||r(i)||/||b|| 3.411229150216e-01\n",
            " 20 KSP preconditioned resid norm 3.201457170171e-16 true resid norm 1.942283029153e-03 ||r(i)||/||b|| 4.353444289385e-01\n",
            " 21 KSP preconditioned resid norm 2.453956757062e-16 true resid norm 1.527769244822e-03 ||r(i)||/||b|| 3.424350722597e-01\n",
            " 22 KSP preconditioned resid norm 2.140301829512e-16 true resid norm 9.177757496260e-04 ||r(i)||/||b|| 2.057107813935e-01\n",
            " 23 KSP preconditioned resid norm 7.595193251420e-17 true resid norm 3.747894365154e-04 ||r(i)||/||b|| 8.400551864117e-02\n",
            " converged reason            2\n",
            " total number of relaxations           23\n",
            " ========================================\n",
            "\n",
            " Solving for Ey fields\n",
            " bnorm   3.8577081689128109E-003\n",
            " xnorm   2.7597972102137310E-012\n",
            "  Residual norms for em_ solve.\n",
            "  0 KSP preconditioned resid norm 1.496408646331e-06 true resid norm 1.838395944495e+01 ||r(i)||/||b|| 4.765513263313e+03\n",
            "  1 KSP preconditioned resid norm 8.437390133191e-10 true resid norm 9.571705869391e+02 ||r(i)||/||b|| 2.481189724647e+05\n",
            "  2 KSP preconditioned resid norm 5.090827280072e-11 true resid norm 7.576899783961e+01 ||r(i)||/||b|| 1.964093563380e+04\n",
            "  3 KSP preconditioned resid norm 1.194294647557e-11 true resid norm 2.337289361024e+01 ||r(i)||/||b|| 6.058751099575e+03\n",
            "  4 KSP preconditioned resid norm 5.275491241477e-12 true resid norm 9.134917566013e+00 ||r(i)||/||b|| 2.367964907150e+03\n",
            "  5 KSP preconditioned resid norm 2.884530612869e-12 true resid norm 6.965808953360e+00 ||r(i)||/||b|| 1.805685823903e+03\n",
            "  6 KSP preconditioned resid norm 2.535623441054e-12 true resid norm 4.780424345739e+00 ||r(i)||/||b|| 1.239187656615e+03\n",
            "  7 KSP preconditioned resid norm 6.068117330911e-13 true resid norm 1.556345977116e+00 ||r(i)||/||b|| 4.034379763762e+02\n",
            "  8 KSP preconditioned resid norm 3.007000790616e-13 true resid norm 8.739568331993e-01 ||r(i)||/||b|| 2.265481977725e+02\n",
            "  9 KSP preconditioned resid norm 2.522811086168e-13 true resid norm 6.647166181588e-01 ||r(i)||/||b|| 1.723086840823e+02\n",
            " 10 KSP preconditioned resid norm 4.895166216896e-13 true resid norm 1.365323209610e+00 ||r(i)||/||b|| 3.539208125209e+02\n",
            " 11 KSP preconditioned resid norm 1.063288081726e-13 true resid norm 7.430013416017e-01 ||r(i)||/||b|| 1.926017492949e+02\n",
            " 12 KSP preconditioned resid norm 8.054220535149e-14 true resid norm 2.887153709273e-01 ||r(i)||/||b|| 7.484116430938e+01\n",
            " 13 KSP preconditioned resid norm 7.858269002541e-14 true resid norm 2.159114442575e-01 ||r(i)||/||b|| 5.596883818153e+01\n",
            " 14 KSP preconditioned resid norm 8.584020662525e-15 true resid norm 3.842391832466e-02 ||r(i)||/||b|| 9.960296798576e+00\n",
            " 15 KSP preconditioned resid norm 6.246170979424e-15 true resid norm 6.554350010647e-02 ||r(i)||/||b|| 1.699026915375e+01\n",
            " 16 KSP preconditioned resid norm 3.611787164105e-15 true resid norm 1.358512229559e-02 ||r(i)||/||b|| 3.521552616411e+00\n",
            " 17 KSP preconditioned resid norm 3.840781302160e-15 true resid norm 1.287732157131e-02 ||r(i)||/||b|| 3.338075615746e+00\n",
            " 18 KSP preconditioned resid norm 5.084253090856e-14 true resid norm 2.999371445564e-01 ||r(i)||/||b|| 7.775008668967e+01\n",
            " 19 KSP preconditioned resid norm 3.384694292918e-16 true resid norm 1.165177444393e-03 ||r(i)||/||b|| 3.020387736383e-01\n",
            " 20 KSP preconditioned resid norm 6.392738703640e-17 true resid norm 6.928965617190e-04 ||r(i)||/||b|| 1.796135247613e-01\n",
            " converged reason            2\n",
            " total number of relaxations           20\n",
            " ========================================\n",
            "\n",
            " Solving for Ez fields\n",
            " bnorm   8.6898605723344734E-004\n",
            " xnorm   5.6795367240554388E-016\n",
            "  Residual norms for em_ solve.\n",
            "  0 KSP preconditioned resid norm 7.436189618245e-07 true resid norm 8.689860572334e-04 ||r(i)||/||b|| 1.000000000000e+00\n",
            "  1 KSP preconditioned resid norm 2.018338467074e-11 true resid norm 4.422748581034e-08 ||r(i)||/||b|| 5.089550682913e-05\n",
            "  2 KSP preconditioned resid norm 7.630526342697e-15 true resid norm 1.922584180078e-08 ||r(i)||/||b|| 2.212445371332e-05\n",
            "  3 KSP preconditioned resid norm 3.766121687965e-18 true resid norm 1.162029952943e-08 ||r(i)||/||b|| 1.337225083499e-05\n",
            " converged reason            2\n",
            " total number of relaxations            3\n",
            " ========================================\n",
            "\n",
            " Solving for Hx fields\n",
            " bnorm   1.4734036387698076E-005\n",
            " xnorm   8.7141245357107050E-015\n",
            "  Residual norms for em_ solve.\n",
            "  0 KSP preconditioned resid norm 7.451049903118e-09 true resid norm 5.804735814717e-02 ||r(i)||/||b|| 3.939677941588e+03\n",
            "  1 KSP preconditioned resid norm 4.368981592459e-12 true resid norm 3.346377347853e+00 ||r(i)||/||b|| 2.271188464450e+05\n",
            "  2 KSP preconditioned resid norm 1.643689140992e-13 true resid norm 2.346057463614e-01 ||r(i)||/||b|| 1.592270713796e+04\n",
            "  3 KSP preconditioned resid norm 4.319521336470e-14 true resid norm 6.626649091519e-02 ||r(i)||/||b|| 4.497511012700e+03\n",
            "  4 KSP preconditioned resid norm 3.606779959253e-14 true resid norm 5.937173951780e-02 ||r(i)||/||b|| 4.029563790637e+03\n",
            "  5 KSP preconditioned resid norm 6.211533686693e-15 true resid norm 1.372685329892e-02 ||r(i)||/||b|| 9.316424187997e+02\n",
            "  6 KSP preconditioned resid norm 2.805016586413e-15 true resid norm 7.527296182062e-03 ||r(i)||/||b|| 5.108780773981e+02\n",
            "  7 KSP preconditioned resid norm 1.553010126446e-15 true resid norm 4.409830036422e-03 ||r(i)||/||b|| 2.992954490125e+02\n",
            "  8 KSP preconditioned resid norm 8.194205181215e-16 true resid norm 2.195376502961e-03 ||r(i)||/||b|| 1.490003448610e+02\n",
            "  9 KSP preconditioned resid norm 6.146868605319e-16 true resid norm 1.785346638647e-03 ||r(i)||/||b|| 1.211715915224e+02\n",
            " 10 KSP preconditioned resid norm 3.701117766744e-16 true resid norm 1.100730208373e-03 ||r(i)||/||b|| 7.470663024096e+01\n",
            " 11 KSP preconditioned resid norm 2.301577650681e-16 true resid norm 6.445910022850e-04 ||r(i)||/||b|| 4.374843290215e+01\n",
            " 12 KSP preconditioned resid norm 9.828721707952e-17 true resid norm 2.857948324417e-04 ||r(i)||/||b|| 1.939691371200e+01\n",
            " 13 KSP preconditioned resid norm 1.744517182984e-16 true resid norm 6.016368752935e-04 ||r(i)||/||b|| 4.083313353263e+01\n",
            " 14 KSP preconditioned resid norm 1.173242530328e-17 true resid norm 8.729474643012e-05 ||r(i)||/||b|| 5.924700070851e+00\n",
            " 15 KSP preconditioned resid norm 5.092574630629e-18 true resid norm 2.429544574402e-05 ||r(i)||/||b|| 1.648933469739e+00\n",
            " 16 KSP preconditioned resid norm 2.675316645287e-18 true resid norm 2.056929122008e-05 ||r(i)||/||b|| 1.396039121856e+00\n",
            " 17 KSP preconditioned resid norm 2.033782792377e-18 true resid norm 1.244125575808e-05 ||r(i)||/||b|| 8.443888307803e-01\n",
            " 18 KSP preconditioned resid norm 1.004762687000e-18 true resid norm 7.318836941031e-06 ||r(i)||/||b|| 4.967299352635e-01\n",
            " 19 KSP preconditioned resid norm 5.556600061681e-19 true resid norm 3.224342028143e-06 ||r(i)||/||b|| 2.188363014248e-01\n",
            " converged reason            2\n",
            " total number of relaxations           19\n",
            " ========================================\n",
            "\n",
            " Solving for Hy fields\n",
            " bnorm   2.2142075796165055E-005\n",
            " xnorm   8.6146869153376910E-015\n",
            "  Residual norms for em_ solve.\n",
            "  0 KSP preconditioned resid norm 9.459917481483e-09 true resid norm 5.425587984583e-02 ||r(i)||/||b|| 2.450352006077e+03\n",
            "  1 KSP preconditioned resid norm 8.988916784500e-12 true resid norm 5.183285198383e+00 ||r(i)||/||b|| 2.340921079893e+05\n",
            "  2 KSP preconditioned resid norm 1.635473291311e-13 true resid norm 2.543826714116e-01 ||r(i)||/||b|| 1.148865507251e+04\n",
            "  3 KSP preconditioned resid norm 3.680969262660e-14 true resid norm 6.025347212614e-02 ||r(i)||/||b|| 2.721220570321e+03\n",
            "  4 KSP preconditioned resid norm 2.173661707923e-14 true resid norm 4.157700494813e-02 ||r(i)||/||b|| 1.877737450223e+03\n",
            "  5 KSP preconditioned resid norm 6.856237671884e-15 true resid norm 1.228263760715e-02 ||r(i)||/||b|| 5.547193370765e+02\n",
            "  6 KSP preconditioned resid norm 2.974137164018e-15 true resid norm 5.687284515973e-03 ||r(i)||/||b|| 2.568541706897e+02\n",
            "  7 KSP preconditioned resid norm 1.616513133375e-15 true resid norm 4.949335149560e-03 ||r(i)||/||b|| 2.235262490799e+02\n",
            "  8 KSP preconditioned resid norm 1.173696706673e-15 true resid norm 3.149748778794e-03 ||r(i)||/||b|| 1.422517386260e+02\n",
            "  9 KSP preconditioned resid norm 7.205031789727e-16 true resid norm 1.979493635324e-03 ||r(i)||/||b|| 8.939964136816e+01\n",
            " 10 KSP preconditioned resid norm 3.517424374729e-16 true resid norm 1.070194147622e-03 ||r(i)||/||b|| 4.833305411265e+01\n",
            " 11 KSP preconditioned resid norm 8.205894661947e-17 true resid norm 3.511845397659e-04 ||r(i)||/||b|| 1.586050662092e+01\n",
            " 12 KSP preconditioned resid norm 6.362854566197e-17 true resid norm 3.332856511726e-04 ||r(i)||/||b|| 1.505214119221e+01\n",
            " 13 KSP preconditioned resid norm 2.429144720401e-17 true resid norm 1.153988523195e-04 ||r(i)||/||b|| 5.211744977383e+00\n",
            " 14 KSP preconditioned resid norm 1.099041174429e-17 true resid norm 5.158057022829e-05 ||r(i)||/||b|| 2.329527308240e+00\n",
            " 15 KSP preconditioned resid norm 4.685017285774e-18 true resid norm 2.163969613160e-05 ||r(i)||/||b|| 9.773110855011e-01\n",
            " 16 KSP preconditioned resid norm 1.644259890128e-18 true resid norm 1.381819031581e-05 ||r(i)||/||b|| 6.240693258853e-01\n",
            " 17 KSP preconditioned resid norm 5.035380209373e-19 true resid norm 1.402872396484e-06 ||r(i)||/||b|| 6.335776326476e-02\n",
            " converged reason            2\n",
            " total number of relaxations           17\n",
            " ========================================\n",
            "\n",
            " Solving for Hz fields\n",
            " bnorm   3.7727507818834821E-005\n",
            " xnorm   2.3407405211699707E-016\n",
            "  Residual norms for em_ solve.\n",
            "  0 KSP preconditioned resid norm 1.236208833927e-08 true resid norm 1.413045088306e-03 ||r(i)||/||b|| 3.745397377137e+01\n",
            "  1 KSP preconditioned resid norm 1.664973208594e-10 true resid norm 3.463939828700e+00 ||r(i)||/||b|| 9.181470043910e+04\n",
            "  2 KSP preconditioned resid norm 8.366983092820e-14 true resid norm 9.171051852915e-02 ||r(i)||/||b|| 2.430866066466e+03\n",
            "  3 KSP preconditioned resid norm 1.386354386207e-14 true resid norm 1.905770367881e-02 ||r(i)||/||b|| 5.051408052270e+02\n",
            "  4 KSP preconditioned resid norm 4.635883581096e-15 true resid norm 7.285180695640e-03 ||r(i)||/||b|| 1.930999717931e+02\n",
            "  5 KSP preconditioned resid norm 1.974093227402e-15 true resid norm 2.953370060898e-03 ||r(i)||/||b|| 7.828161020018e+01\n",
            "  6 KSP preconditioned resid norm 1.182781787023e-15 true resid norm 2.288756945462e-03 ||r(i)||/||b|| 6.066546871987e+01\n",
            "  7 KSP preconditioned resid norm 6.221244366707e-16 true resid norm 1.263339414862e-03 ||r(i)||/||b|| 3.348589631015e+01\n",
            "  8 KSP preconditioned resid norm 3.800488678870e-16 true resid norm 9.015738978062e-04 ||r(i)||/||b|| 2.389699054959e+01\n",
            "  9 KSP preconditioned resid norm 2.498733213989e-16 true resid norm 7.194509577986e-04 ||r(i)||/||b|| 1.906966559396e+01\n",
            " 10 KSP preconditioned resid norm 1.563017112250e-16 true resid norm 5.055208317847e-04 ||r(i)||/||b|| 1.339926385311e+01\n",
            " 11 KSP preconditioned resid norm 8.733803057626e-17 true resid norm 3.171941303658e-04 ||r(i)||/||b|| 8.407502872676e+00\n",
            " 12 KSP preconditioned resid norm 4.907010803524e-17 true resid norm 1.868311755292e-04 ||r(i)||/||b|| 4.952120782172e+00\n",
            " 13 KSP preconditioned resid norm 2.214070343701e-17 true resid norm 8.760421740839e-05 ||r(i)||/||b|| 2.322025028238e+00\n",
            " 14 KSP preconditioned resid norm 1.333171674444e-17 true resid norm 5.984548368495e-05 ||r(i)||/||b|| 1.586255948109e+00\n",
            " 15 KSP preconditioned resid norm 7.696778066647e-18 true resid norm 3.786809196970e-05 ||r(i)||/||b|| 1.003726303671e+00\n",
            " 16 KSP preconditioned resid norm 3.863008301354e-18 true resid norm 1.284864871592e-05 ||r(i)||/||b|| 3.405644702963e-01\n",
            " 17 KSP preconditioned resid norm 2.061402843466e-18 true resid norm 1.054741071689e-05 ||r(i)||/||b|| 2.795681805313e-01\n",
            " 18 KSP preconditioned resid norm 1.062033155132e-18 true resid norm 3.992776343547e-06 ||r(i)||/||b|| 1.058319664983e-01\n",
            " converged reason            2\n",
            " total number of relaxations           18\n",
            " ========================================\n",
            "\n",
            " \n",
            " ************************************************\n",
            "  3D finished\n",
            "  Total CPU time:    19.0625000      seconds\n",
            " ************************************************\n",
            " \n",
            " total cpu time:    19.0625000      seconds\n",
            " CSEM3D_W finished\n",
            "  \n"
          ]
        }
      ]
    }
  ]
}