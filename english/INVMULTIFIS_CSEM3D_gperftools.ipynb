{
  "nbformat": 4,
  "nbformat_minor": 0,
  "metadata": {
    "colab": {
      "provenance": [],
      "machine_shape": "hm",
      "gpuType": "V100",
      "include_colab_link": true
    },
    "kernelspec": {
      "name": "python3",
      "display_name": "Python 3"
    },
    "language_info": {
      "name": "python"
    },
    "accelerator": "GPU",
    "gpuClass": "standard"
  },
  "cells": [
    {
      "cell_type": "markdown",
      "metadata": {
        "id": "view-in-github",
        "colab_type": "text"
      },
      "source": [
        "<a href=\"https://colab.research.google.com/github/robertopsouto/invmultifis_notebooks/blob/main/english/INVMULTIFIS_CSEM3D_gperftools.ipynb\" target=\"_parent\"><img src=\"https://colab.research.google.com/assets/colab-badge.svg\" alt=\"Open In Colab\"/></a>"
      ]
    },
    {
      "cell_type": "markdown",
      "source": [
        "# **INVMULTIFIS Project: Development of multi-physics data inversion software with optimization via artificial intelligence**\n",
        "\n",
        "The project proposes the development of an innovative inversion technology for the characterization and monitoring of deep water reservoirs for Petrobras (the Brazilian Oil Company) using CSEM (Controlled-Source Electromagnetic Methods), a robust risk reduction tool in the drilling of oil basins, using multiphysics data in the 3D domain. One of the main objectives of this project is to develop, optimize and parallelize CSEM codes, aiming at improving their performance."
      ],
      "metadata": {
        "id": "ND2kYHItEyQr"
      }
    },
    {
      "cell_type": "markdown",
      "source": [
        "# Steps to install CSEM3D program"
      ],
      "metadata": {
        "id": "kmLuqCjxcuSh"
      }
    },
    {
      "cell_type": "markdown",
      "source": [
        "### Installing GNU Make v4.3 to correct deal with CSEM3D `makefile`"
      ],
      "metadata": {
        "id": "8tYlZFTsgWUl"
      }
    },
    {
      "cell_type": "code",
      "source": [
        "%%bash\n",
        "wget https://ftp.gnu.org/gnu/make/make-4.3.tar.gz\n",
        "tar xfz make-4.3.tar.gz"
      ],
      "metadata": {
        "id": "6HlBN7NR61Cw"
      },
      "execution_count": null,
      "outputs": []
    },
    {
      "cell_type": "code",
      "source": [
        "%%bash\n",
        "cd make-4.3\n",
        "./configure\n",
        "make\n",
        "make install"
      ],
      "metadata": {
        "id": "Wypy9Zi3AKYE"
      },
      "execution_count": null,
      "outputs": []
    },
    {
      "cell_type": "code",
      "source": [
        "%%bash\n",
        "make -v"
      ],
      "metadata": {
        "id": "-y-pfI7whQPg"
      },
      "execution_count": null,
      "outputs": []
    },
    {
      "cell_type": "markdown",
      "source": [
        "## Install and configure dependencies/libraries"
      ],
      "metadata": {
        "id": "SG68YVBVAA-7"
      }
    },
    {
      "cell_type": "code",
      "source": [
        "%%bash\n",
        "apt install gv\n",
        "apt install ghostscript\n",
        "apt install graphviz"
      ],
      "metadata": {
        "colab": {
          "base_uri": "https://localhost:8080/"
        },
        "id": "7wHd0-dRAFef",
        "outputId": "082e9ac6-2592-4f76-b657-1d9cf87b3c83"
      },
      "execution_count": 57,
      "outputs": [
        {
          "output_type": "stream",
          "name": "stdout",
          "text": [
            "Reading package lists...\n",
            "Building dependency tree...\n",
            "Reading state information...\n",
            "gv is already the newest version (1:3.7.4-2).\n",
            "0 upgraded, 0 newly installed, 0 to remove and 16 not upgraded.\n",
            "Reading package lists...\n",
            "Building dependency tree...\n",
            "Reading state information...\n",
            "ghostscript is already the newest version (9.55.0~dfsg1-0ubuntu5.3).\n",
            "0 upgraded, 0 newly installed, 0 to remove and 16 not upgraded.\n",
            "Reading package lists...\n",
            "Building dependency tree...\n",
            "Reading state information...\n",
            "graphviz is already the newest version (2.42.2-6).\n",
            "0 upgraded, 0 newly installed, 0 to remove and 16 not upgraded.\n"
          ]
        },
        {
          "output_type": "stream",
          "name": "stderr",
          "text": [
            "\n",
            "WARNING: apt does not have a stable CLI interface. Use with caution in scripts.\n",
            "\n",
            "\n",
            "WARNING: apt does not have a stable CLI interface. Use with caution in scripts.\n",
            "\n",
            "\n",
            "WARNING: apt does not have a stable CLI interface. Use with caution in scripts.\n",
            "\n"
          ]
        }
      ]
    },
    {
      "cell_type": "code",
      "source": [
        "%%bash\n",
        "cd /usr/lib/x86_64-linux-gnu\n",
        "#ln -s libtcmalloc.so.4 libtcmalloc.so\n",
        "#ln -s libprofiler.so.0 libprofiler.so\n",
        "ln -s libtcmalloc_and_profiler.so.4 libtcmalloc_and_profiler.so"
      ],
      "metadata": {
        "id": "f-tcrA15AVDD"
      },
      "execution_count": null,
      "outputs": []
    },
    {
      "cell_type": "markdown",
      "source": [
        "##   Creating user, once OpenMPI does not recommend run MPI with `root` user\n",
        "\n"
      ],
      "metadata": {
        "id": "ZauSBltE7BRz"
      }
    },
    {
      "cell_type": "code",
      "source": [
        "%%bash\n",
        "adduser csem"
      ],
      "metadata": {
        "id": "OpsXjBevpynC"
      },
      "execution_count": null,
      "outputs": []
    },
    {
      "cell_type": "markdown",
      "source": [
        "## PETSC v3.18.4"
      ],
      "metadata": {
        "id": "_T7fMY7E-_yg"
      }
    },
    {
      "cell_type": "markdown",
      "source": [
        "### Download, extract the source code file and run `configure` file"
      ],
      "metadata": {
        "id": "7f14F4LpkoAv"
      }
    },
    {
      "cell_type": "code",
      "source": [
        "%%bash\n",
        "su csem\n",
        "mkdir -p ${HOME}/petsc/gnu\n",
        "cd ${HOME}/petsc/gnu\n",
        "wget https://gitlab.com/petsc/petsc/-/archive/v3.18.4/petsc-v3.18.4.tar.gz\n",
        "tar zxvf petsc-v3.18.4.tar.gz\n",
        "cd petsc-v3.18.4\n",
        "./configure \\\n",
        " --prefix=${PWD}/installdir \\\n",
        " --with-fortran \\\n",
        " --with-fortran-kernels=true \\\n",
        " --with-cuda \\\n",
        " --download-fblaslapack \\\n",
        " --with-scalar-type=complex \\\n",
        " --with-precision=double \\\n",
        " --with-debugging=0 \\\n",
        " --with-x=0 \\\n",
        " --with-gnu-compilers=1 \\\n",
        " --with-cc=mpicc \\\n",
        " --with-cxx=mpicxx \\\n",
        " --with-fc=mpif90 \\\n",
        " --with-make-exec=make \\\n",
        " 2>&1 | tee ../configure.out"
      ],
      "metadata": {
        "id": "RoiHpJRYghSv"
      },
      "execution_count": null,
      "outputs": []
    },
    {
      "cell_type": "markdown",
      "source": [
        "### Run `make all` phase.\n",
        "```bash\n",
        "If it is successfully finished, this message must appear:\n",
        "\n",
        "=========================================\n",
        "Now to install the libraries do:\n",
        "make PETSC_DIR=/home/csem/petsc/gnu/petsc-v3.18.4 PETSC_ARCH=arch-linux-c-opt install\n",
        "=========================================\n",
        "```"
      ],
      "metadata": {
        "id": "tKQfmqxN8XYJ"
      }
    },
    {
      "cell_type": "code",
      "source": [
        "%%bash\n",
        "su csem\n",
        "cd /home/csem/petsc/gnu/petsc-v3.18.4\n",
        "make PETSC_DIR=/home/csem/petsc/gnu/petsc-v3.18.4 PETSC_ARCH=arch-linux-c-opt all"
      ],
      "metadata": {
        "id": "l77hzqGPU9o7"
      },
      "execution_count": null,
      "outputs": []
    },
    {
      "cell_type": "markdown",
      "source": [
        "### Run `make install` phase\n",
        "```bash\n",
        "If it is successfully finished, this message must appear:\n",
        "\n",
        "====================================\n",
        "Install complete.\n",
        "Now to check if the libraries are working do (in current directory):\n",
        "make PETSC_DIR=/home/csem/petsc/gnu/petsc-v3.18.4/installdir PETSC_ARCH=\"\" check\n",
        "====================================\n",
        "```"
      ],
      "metadata": {
        "id": "8D-wCIYI9tgu"
      }
    },
    {
      "cell_type": "code",
      "source": [
        "%%bash\n",
        "su csem\n",
        "cd /home/csem/petsc/gnu/petsc-v3.18.4\n",
        "make PETSC_DIR=/home/csem/petsc/gnu/petsc-v3.18.4 PETSC_ARCH=arch-linux-c-opt install"
      ],
      "metadata": {
        "id": "quwqTfSiougo"
      },
      "execution_count": null,
      "outputs": []
    },
    {
      "cell_type": "markdown",
      "source": [
        "### Run `make check` phase\n",
        "```bash\n",
        "If it is successfully finished, this message must appear:\n",
        "\n",
        "Running check examples to verify correct installation\n",
        "Using PETSC_DIR=/home/csem/petsc/gnu/petsc-v3.18.4/installdir and PETSC_ARCH=\n",
        "C/C++ example src/snes/tutorials/ex19 run successfully with 1 MPI process\n",
        "C/C++ example src/snes/tutorials/ex19 run successfully with 2 MPI processes\n",
        "C/C++ example src/snes/tutorials/ex19 run successfully with cuda\n",
        "Fortran example src/snes/tutorials/ex5f run successfully with 1 MPI process\n",
        "Completed test examples\n",
        "```"
      ],
      "metadata": {
        "id": "2Yt-DGeJ-UTa"
      }
    },
    {
      "cell_type": "code",
      "source": [
        "%%bash\n",
        "su csem\n",
        "cd /home/csem/petsc/gnu/petsc-v3.18.4\n",
        "make PETSC_DIR=/home/csem/petsc/gnu/petsc-v3.18.4/installdir PETSC_ARCH=\"\" check"
      ],
      "metadata": {
        "id": "trURj4-HpH5Y"
      },
      "execution_count": null,
      "outputs": []
    },
    {
      "cell_type": "markdown",
      "source": [
        "### Test an example performing complex numbers (`ex11f.F90`)"
      ],
      "metadata": {
        "id": "7mk78mlItJGo"
      }
    },
    {
      "cell_type": "code",
      "source": [
        "%%bash\n",
        "su csem\n",
        "cd /home/csem/petsc/gnu/petsc-v3.18.4/src/ksp/ksp/tutorials\n",
        "make ex11f\n",
        "mpirun -n 1 ./ex11f -norandom -pc_type none -ksp_monitor_short -ksp_gmres_cgs_refinement_type refine_always"
      ],
      "metadata": {
        "id": "ckgggNZ2jJI6"
      },
      "execution_count": null,
      "outputs": []
    },
    {
      "cell_type": "markdown",
      "source": [
        "### Check with reference output (`output/ex11f_1.out`)"
      ],
      "metadata": {
        "id": "3Ybo2a-eu1ce"
      }
    },
    {
      "cell_type": "code",
      "source": [
        "%%bash\n",
        "su csem\n",
        "cd /home/csem/petsc/gnu/petsc-v3.18.4/src/ksp/ksp/tutorials\n",
        "cat output/ex11f_1.out"
      ],
      "metadata": {
        "id": "dWgJ8b6Oupva"
      },
      "execution_count": null,
      "outputs": []
    },
    {
      "cell_type": "markdown",
      "source": [
        "### Following instructions in https://petsc.org/release/developers/testing/ to run an example that requires CUDA."
      ],
      "metadata": {
        "id": "7aywCjpyC5Jr"
      }
    },
    {
      "cell_type": "code",
      "source": [
        "%%bash\n",
        "su csem\n",
        "cd /home/csem/petsc/gnu/petsc-v3.18.4/\n",
        "make print-test query='suffix' queryval='2_aijcusparse'"
      ],
      "metadata": {
        "id": "7yZsTeL36oGw"
      },
      "execution_count": null,
      "outputs": []
    },
    {
      "cell_type": "code",
      "source": [
        "%%bash\n",
        "su csem\n",
        "cd /home/csem/petsc/gnu/petsc-v3.18.4/\n",
        "make test search=ksp_ksp_tutorials-ex1_2_aijcusparse"
      ],
      "metadata": {
        "id": "vDjjGJof68oV"
      },
      "execution_count": null,
      "outputs": []
    },
    {
      "cell_type": "code",
      "source": [
        "%%bash\n",
        "su csem\n",
        "cd /home/csem/petsc/gnu/petsc-v3.18.4/\n",
        "cat arch-linux-c-opt/tests/ksp/ksp/tutorials/runex1_2_aijcusparse/ksp_ksp_tutorials-ex1_2_aijcusparse.sh"
      ],
      "metadata": {
        "id": "jfJg6dB_7aTR"
      },
      "execution_count": null,
      "outputs": []
    },
    {
      "cell_type": "code",
      "source": [
        "%%bash\n",
        "su csem\n",
        "cd /home/csem/petsc/gnu/petsc-v3.18.4/\n",
        "cd src/ksp/ksp/tutorials/\n",
        "make ex1\n",
        "/usr/bin/mpiexec --oversubscribe  -n 1  ./ex1 \\\n",
        "-petsc_ci \\\n",
        "-pc_type sor \\\n",
        "-pc_sor_symmetric \\\n",
        "-ksp_monitor_short \\\n",
        "-ksp_gmres_cgs_refinement_type refine_always \\\n",
        "-mat_type aijcusparse \\\n",
        "-vec_type cuda \\\n",
        "-use_gpu_aware_mpi 0\n"
      ],
      "metadata": {
        "id": "CX6DBBNz92No"
      },
      "execution_count": null,
      "outputs": []
    },
    {
      "cell_type": "markdown",
      "source": [
        "If it is successfully finished, this output must appear:\n",
        "```bash\n",
        "  0 KSP Residual norm 0.968764\n",
        "  1 KSP Residual norm 0.361001\n",
        "  2 KSP Residual norm 0.247329\n",
        "  3 KSP Residual norm 0.0808915\n",
        "  4 KSP Residual norm 0.01289\n",
        "  5 KSP Residual norm 0.00375064\n",
        "  6 KSP Residual norm 0.000294092\n",
        "  7 KSP Residual norm 1.40861e-05\n",
        "  8 KSP Residual norm 3.48863e-07\n",
        "KSP Object: 1 MPI process\n",
        "  type: gmres\n",
        "    restart=30, using Classical (unmodified) Gram-Schmidt Orthogonalization with one step of iterative refinement\n",
        "    happy breakdown tolerance 1e-30\n",
        "  maximum iterations=10000, initial guess is zero\n",
        "  tolerances:  relative=1e-05, absolute=1e-50, divergence=10000.\n",
        "  left preconditioning\n",
        "  using PRECONDITIONED norm type for convergence test\n",
        "PC Object: 1 MPI process\n",
        "  type: sor\n",
        "    type = symmetric, iterations = 1, local iterations = 1, omega = 1.\n",
        "  linear system matrix = precond matrix:\n",
        "  Mat Object: 1 MPI process\n",
        "    type: seqaijcusparse\n",
        "    rows=10, cols=10\n",
        "    total: nonzeros=28, allocated nonzeros=28\n",
        "    total number of mallocs used during MatSetValues calls=0\n",
        "      not using I-node routines\n",
        "Norm of error 4.10316e-07, Iterations 8\n",
        "  0 KSP Residual norm 0.377523\n",
        "  1 KSP Residual norm 0.0140399\n",
        "  2 KSP Residual norm 0.000364106\n",
        "  3 KSP Residual norm 7.83047e-06\n",
        "  4 KSP Residual norm 1.33045e-07\n",
        "\n",
        "  ```"
      ],
      "metadata": {
        "id": "79nGc6nQ-81m"
      }
    },
    {
      "cell_type": "code",
      "source": [
        "%%bash\n",
        "su csem\n",
        "cd /home/csem/petsc/gnu/petsc-v3.18.4/\n",
        "cd src/ksp/ksp/tutorials/\n",
        "cat output/ex1_2_aijcusparse.out"
      ],
      "metadata": {
        "id": "iJBKyQbw_6F3"
      },
      "execution_count": null,
      "outputs": []
    },
    {
      "cell_type": "markdown",
      "source": [
        "### Profiling with `nvprof`"
      ],
      "metadata": {
        "id": "JaBACE2t8kd3"
      }
    },
    {
      "cell_type": "code",
      "source": [
        "%%bash\n",
        "su csem\n",
        "cd /home/csem/petsc/gnu/petsc-v3.18.4/\n",
        "cd src/ksp/ksp/tutorials/\n",
        "make ex1\n",
        "export PATH=/usr/local/cuda/bin:$PATH\n",
        "/usr/bin/mpiexec --oversubscribe  -n 1 nvprof -f -o ex1.%q{OMPI_COMM_WORLD_RANK}.nvprof ./ex1 \\\n",
        "-petsc_ci \\\n",
        "-pc_type sor \\\n",
        "-pc_sor_symmetric \\\n",
        "-ksp_monitor_short \\\n",
        "-ksp_gmres_cgs_refinement_type refine_always \\\n",
        "-mat_type aijcusparse \\\n",
        "-vec_type cuda \\\n",
        "-use_gpu_aware_mpi 0"
      ],
      "metadata": {
        "id": "hLbP8yvaBP_a"
      },
      "execution_count": null,
      "outputs": []
    },
    {
      "cell_type": "markdown",
      "source": [
        "### Show profiling obtained with `nvprof`"
      ],
      "metadata": {
        "id": "VcBVWEFH8rD3"
      }
    },
    {
      "cell_type": "code",
      "source": [
        "%%bash\n",
        "su csem\n",
        "cd /home/csem/petsc/gnu/petsc-v3.18.4/\n",
        "cd src/ksp/ksp/tutorials/\n",
        "export PATH=/usr/local/cuda/bin:$PATH\n",
        "nvprof -i ex1.0.nvprof"
      ],
      "metadata": {
        "id": "wKptcSvmCP8a"
      },
      "execution_count": null,
      "outputs": []
    },
    {
      "cell_type": "markdown",
      "source": [
        "## `CSEM3D` program"
      ],
      "metadata": {
        "id": "x7i-RDy0_OcN"
      }
    },
    {
      "cell_type": "markdown",
      "source": [
        "### Download the source code files of `CSEM3D` program in the `root` area."
      ],
      "metadata": {
        "id": "HesBtLZL_h4h"
      }
    },
    {
      "cell_type": "code",
      "source": [
        "%%bash\n",
        "wget --no-check-certificate 'https://docs.google.com/uc?export=download&id=10WfuzFuv9bfr9MTeyphTyRM7i9rjGlxf' -O csem3d_w-v1.0.2.tar.gz"
      ],
      "metadata": {
        "id": "5SKaW3GplOUU"
      },
      "execution_count": null,
      "outputs": []
    },
    {
      "cell_type": "markdown",
      "source": [
        "### Copy the tarball file to `csem` user account area, and change the onwer of this file to `csem` user."
      ],
      "metadata": {
        "id": "7UCV-R5fARWv"
      }
    },
    {
      "cell_type": "code",
      "source": [
        "%%bash\n",
        "cp csem3d_w-v1.0.2.tar.gz /home/csem/\n",
        "chown csem:csem /home/csem/csem3d_w-v1.0.2.tar.gz"
      ],
      "metadata": {
        "id": "ZttctxX4lfBy"
      },
      "execution_count": null,
      "outputs": []
    },
    {
      "cell_type": "markdown",
      "source": [
        "### Unpacking the tarball file"
      ],
      "metadata": {
        "id": "Nuz-Z1RRA9Wf"
      }
    },
    {
      "cell_type": "code",
      "source": [
        "%%bash\n",
        "su csem\n",
        "cd /home/csem\n",
        "tar zxvf csem3d_w-v1.0.2.tar.gz"
      ],
      "metadata": {
        "id": "k0b5ZF1imGY6"
      },
      "execution_count": null,
      "outputs": []
    },
    {
      "cell_type": "markdown",
      "source": [
        "### Run `make all` to install the `CSEM3D` program\n",
        "```bash\n",
        "If it is successfully finished, this message must appear:\n",
        "\n",
        "mpif90 -o CSEM3D_W outfields_E_Tx.o spline.o bottom.o allvars.o intpol1.o biprho.o dimped.o in3dmod.o compute_src_wts.o set_resist_vector.o locals.o kinds.o outfields_B_Tx.o B_Tx_B_Rx.o dimens.o set_P.o set_bv_e.o d1imped.o set_src.o grid.o in3drho.o CSEM3D_mod.o CSEM3D_W.o set_bv_h.o bipole2.o set_A.o chk_rx_tx.o set_1d_resist.o txrx.o splint.o set_rhs.o blocks.o E_Tx_E_Rx.o convres.o abs_to_rel.o B_Tx_E_Rx.o E_Tx_B_Rx.o addair.o -L/home/csem/petsc/gnu/petsc-v3.18.4/installdir/lib -lpetsc  \n",
        "```"
      ],
      "metadata": {
        "id": "LriJdUisBJKC"
      }
    },
    {
      "cell_type": "code",
      "source": [
        "%%bash\n",
        "su csem\n",
        "cd /home/csem/csem3d_w-v1.0.2/CSEM3D_W/CSEM3D_W\n",
        "sed 's/FLFLAGS=-L${PETSC_DIR}\\/lib -lpetsc/FLFLAGS=-L${PETSC_DIR}\\/lib -lpetsc -L\\/usr\\/lib\\/x86_64-linux-gnu -ltcmalloc_and_profiler/' scripts/makefile_gnu > scripts/makefile_gnu_gperftools\n",
        "cat scripts/makefile_gnu_gperftools\n",
        "make PETSC_DIR=${HOME}/petsc/gnu/petsc-v3.18.4/installdir -f scripts/makefile_gnu_gperftools clean"
      ],
      "metadata": {
        "id": "cflx5G_EoLl0"
      },
      "execution_count": null,
      "outputs": []
    },
    {
      "cell_type": "code",
      "source": [
        "%%bash\n",
        "su csem\n",
        "cd /home/csem/csem3d_w-v1.0.2/CSEM3D_W/CSEM3D_W\n",
        "make PETSC_DIR=${HOME}/petsc/gnu/petsc-v3.18.4/installdir -f scripts/makefile_gnu_gperftools all"
      ],
      "metadata": {
        "id": "-sBQCQXapf4C"
      },
      "execution_count": null,
      "outputs": []
    },
    {
      "cell_type": "code",
      "source": [
        "%%bash\n",
        "su csem\n",
        "cd /home/csem/csem3d_w-v1.0.2/CSEM3D_W/CSEM3D_W\n",
        "ldd CSEM3D_W"
      ],
      "metadata": {
        "id": "aE6V6k_h0Mee"
      },
      "execution_count": null,
      "outputs": []
    },
    {
      "cell_type": "markdown",
      "source": [
        "### Run this bash `script` to execute the generated `CSEM3D_W` binary file.\n",
        "\n",
        "```bash\n",
        "If it is successfully finished, a similar message like below must appear:\n",
        "\n",
        " 16 KSP preconditioned resid norm 3.863008301354e-18 true resid norm 1.284864871592e-05 ||r(i)||/||b|| 3.405644702963e-01\n",
        " 17 KSP preconditioned resid norm 2.061402843466e-18 true resid norm 1.054741071689e-05 ||r(i)||/||b|| 2.795681805313e-01\n",
        " 18 KSP preconditioned resid norm 1.062033155132e-18 true resid norm 3.992776343547e-06 ||r(i)||/||b|| 1.058319664983e-01\n",
        " converged reason            2\n",
        " total number of relaxations           18\n",
        " ========================================\n",
        "\n",
        "\n",
        " ************************************************\n",
        "  3D finished\n",
        "  Total CPU time:    18.7500000      seconds\n",
        " ************************************************\n",
        "\n",
        " total cpu time:    18.7500000      seconds\n",
        " CSEM3D_W finished\n",
        "```\n",
        "\n"
      ],
      "metadata": {
        "id": "hRhpojxUB_xZ"
      }
    },
    {
      "cell_type": "code",
      "source": [
        "%%bash\n",
        "su csem\n",
        "cd /home/csem/csem3d_w-v1.0.2/CSEM3D_W/CSEM3D_W\n",
        "\n",
        "PETSC_DIR=${HOME}/petsc/gnu/petsc-v3.18.4/installdir\n",
        "\n",
        "dataset=Sintetico\n",
        "ntasks=1\n",
        "nnodes=1\n",
        "\n",
        "TIMESTART=$(date +%Y%m%d%H%M%S)\n",
        "\n",
        "if [[ -L ${dataset} ]]\n",
        "then\n",
        "    echo \"Link já existe para o dataset ${dataset}\"\n",
        "else\n",
        "    ln -s dataset/${dataset}\n",
        "fi\n",
        "sed 's/\\.\\//'${dataset}'\\//g' ${dataset}/Parameters.inp | \\\n",
        "sed 's/'${dataset}'\\/OutData/OutData/g' > Parameters.inp\n",
        "\n",
        "outputdir=\"OutData\"\n",
        "if [[ -d ${outputdir} ]]\n",
        "then\n",
        "    echo \"OutData já existe.\"\n",
        "    rm -fr ${outputdir}\n",
        "fi\n",
        "mkdir ${outputdir}\n",
        "\n",
        "\n",
        "resultsdir=results/${dataset}/NUMNODES-${nnodes}/MPI-${ntasks}/EXECSTART-${TIMESTART}\n",
        "mkdir -p ${resultsdir}\n",
        "\n",
        "export LD_LIBRARY_PATH=${LD_LIBRARY_PATH}:${PETSC_DIR}/lib\n",
        "\n",
        "executable=CSEM3D_W\n",
        "\n",
        "export MALLOCSTATS=1\n",
        "export CPUPROFILE=${executable}.prof\n",
        "\n",
        "echo \"mpirun -np $ntasks ./${executable}\"\n",
        "mpirun --use-hwthread-cpus -np $ntasks ./${executable} \\\n",
        " -A_mat_type mpiaij \\\n",
        " -P_mat_type mpiaij \\\n",
        " -em_ksp_monitor_true_residual \\\n",
        " -em_ksp_type bcgs \\\n",
        " -em_pc_type bjacobi \\\n",
        " -em_sub_pc_type ilu \\\n",
        " -em_sub_pc_factor_levels 3 \\\n",
        " -em_sub_pc_factor_fill 6 \\\n",
        " < ./Parameters.inp \\\n",
        " 2>&1 | tee csem3d_w-${TIMESTART}.out\n",
        "\n",
        "mv $outputdir/ ${resultsdir}/\n",
        "cp csem3d_w-${TIMESTART}.out ${resultsdir}/\n",
        "\n",
        "google-pprof --gv ./${executable} ./${executable}.prof\n",
        "google-pprof --pdf ./${executable} ./${executable}.prof > ./${executable}.pdf\n",
        "google-pprof --dot ./${executable} ./${executable}.prof > ./${executable}.dot\n"
      ],
      "metadata": {
        "id": "t83IHP-iZd-t",
        "colab": {
          "base_uri": "https://localhost:8080/"
        },
        "outputId": "73f515b0-2f7d-44ea-b07f-d9415da95da2"
      },
      "execution_count": 59,
      "outputs": [
        {
          "output_type": "stream",
          "name": "stdout",
          "text": [
            "Link já existe para o dataset Sintetico\n",
            "mpirun -np 1 ./CSEM3D_W\n",
            "\n",
            " ================================================\n",
            " ================================================\n",
            "\n",
            "\n",
            " enter 3D model rhoxx file name\n",
            "\n",
            " enter 3D model rhoyy file name\n",
            "\n",
            " enter 3D model rhozz file name\n",
            " enter error level for stopping? (>= 1e-6 suggested)\n",
            "   (this is the value rnorm/bnorm where rnorm is the\n",
            "    L2 norm of the residual and bnorm is the L2 norm\n",
            "    of the right-hand side. Smaller values result in\n",
            "    more accurate solutions, but at the\n",
            "    expense of more relaxation iterations.\n",
            " enter max number of relaxations (50-100 suggested)\n",
            " use 1D boundary values (y/n)\n",
            " [IF YOU TYPE N, THEN ZERO BOUNDARY VALUES WILL BE USED]\n",
            " do a deep water caclulation? (y/n)\n",
            " [THIS WILL REPLACE AIR LAYERS WITH SEA LAYERS]\n",
            " enter directory name for input Tx files\n",
            " enter directory name for output 3D files\n",
            " force receivers to seafloor (y/n)?\n",
            " Compute results for electric or magnetic dipole sources (e/m)?\n",
            " how many Tx files to compute?\n",
            " enter name for Tx data file           1\n",
            "\n",
            " Reading model dimensions from file Sintetico/Model/ResUni1D_RhoH.out                                               \n",
            " adding           13  air layers\n",
            "\n",
            " Reading apriori 3D rhoxx model Sintetico/Model/ResUni1D_RhoH.out                                               \n",
            " reading resistivity VALUES\n",
            " adding           13  air layers\n",
            " reading CSEM3D_W\n",
            " WINGLINK\n",
            "   Site_not_set  (site name)                       \n",
            "           1           1\n",
            "   5.00000000       45.0000000    \n",
            "   0.00000000    \n",
            "   0.00000000    \n",
            "  \n",
            " top of air layers at    38.723901367187501       km\n",
            "  \n",
            "\n",
            " Reading apriori 3D rhoyy model Sintetico/Model/ResUni1D_RhoH.out                                               \n",
            " reading resistivity VALUES\n",
            " adding           13  air layers\n",
            " reading CSEM3D_W\n",
            " WINGLINK\n",
            "   Site_not_set  (site name)                       \n",
            "           1           1\n",
            "   5.00000000       45.0000000    \n",
            "   0.00000000    \n",
            "   0.00000000    \n",
            "  \n",
            " top of air layers at    38.723901367187501       km\n",
            "  \n",
            "\n",
            " Reading apriori 3D rhozz model Sintetico/Model/ResUni1D_RhoV.out                                               \n",
            " reading resistivity VALUES\n",
            " adding           13  air layers\n",
            " reading CSEM3D_W\n",
            " WINGLINK\n",
            "   Site_not_set  (site name)                       \n",
            "           1           1\n",
            "   5.00000000       45.0000000    \n",
            "   0.00000000    \n",
            "   0.00000000    \n",
            "  \n",
            " top of air layers at    38.723901367187501       km\n",
            "  \n",
            " receiver depth  -999.00000000000000     \n",
            " source depth           1  -950.00000000000000     \n",
            " source depth           2  -950.00000000000000     \n",
            " source depth           3  -950.00000000000000     \n",
            " source depth           4  -950.00000000000000     \n",
            " source depth           5  -950.00000000000000     \n",
            " source depth           6  -950.00000000000000     \n",
            " source depth           7  -950.00000000000000     \n",
            " source depth           8  -950.00000000000000     \n",
            " source depth           9  -950.00000000000000     \n",
            " source depth          10  -950.00000000000000     \n",
            " source depth          11  -950.00000000000000     \n",
            " source depth          12  -950.00000000000000     \n",
            " source depth          13  -950.00000000000000     \n",
            " source depth          14  -950.00000000000000     \n",
            " source depth          15  -950.00000000000000     \n",
            " source depth          16  -950.00000000000000     \n",
            " source depth          17  -950.00000000000000     \n",
            " source depth          18  -950.00000000000000     \n",
            " source depth          19  -950.00000000000000     \n",
            " source depth          20  -950.00000000000000     \n",
            " source depth          21  -950.00000000000000     \n",
            " source depth          22  -950.00000000000000     \n",
            " source depth          23  -950.00000000000000     \n",
            " source depth          24  -950.00000000000000     \n",
            " source depth          25  -950.00000000000000     \n",
            " source depth          26  -950.00000000000000     \n",
            " source depth          27  -950.00000000000000     \n",
            " source depth          28  -950.00000000000000     \n",
            " source depth          29  -950.00000000000000     \n",
            " source depth          30  -950.00000000000000     \n",
            " source depth          31  -950.00000000000000     \n",
            " source depth          32  -950.00000000000000     \n",
            " source depth          33  -950.00000000000000     \n",
            " source depth          34  -950.00000000000000     \n",
            " source depth          35  -950.00000000000000     \n",
            " source depth          36  -950.00000000000000     \n",
            " source depth          37  -950.00000000000000     \n",
            " source depth          38  -950.00000000000000     \n",
            " source depth          39  -950.00000000000000     \n",
            " source depth          40  -950.00000000000000     \n",
            " source depth          41  -950.00000000000000     \n",
            " source depth          42  -950.00000000000000     \n",
            " source depth          43  -950.00000000000000     \n",
            " source depth          44  -950.00000000000000     \n",
            " source depth          45  -950.00000000000000     \n",
            " source depth          46  -950.00000000000000     \n",
            " source depth          47  -950.00000000000000     \n",
            " source depth          48  -950.00000000000000     \n",
            " source depth          49  -950.00000000000000     \n",
            " source depth          50  -950.00000000000000     \n",
            " source depth          51  -950.00000000000000     \n",
            " period=   0.80000    \n",
            "  1 0.100E+11   0.100E+11   0.130E+05\n",
            "  2 0.100E+11   0.100E+11   0.865E+04\n",
            "  3 0.100E+11   0.100E+11   0.577E+04\n",
            "  4 0.100E+11   0.100E+11   0.384E+04\n",
            "  5 0.100E+11   0.100E+11   0.256E+04\n",
            "  6 0.100E+11   0.100E+11   0.171E+04\n",
            "  7 0.100E+11   0.100E+11   0.114E+04\n",
            "  8 0.100E+11   0.100E+11    759.    \n",
            "  9 0.100E+11   0.100E+11    506.    \n",
            " 10 0.100E+11   0.100E+11    338.    \n",
            " 11 0.100E+11   0.100E+11    225.    \n",
            " 12 0.100E+11   0.100E+11    150.    \n",
            " 13 0.100E+11   0.100E+11    100.    \n",
            " 14 0.305       0.305        100.    \n",
            " 15 0.305       0.305        100.    \n",
            " 16 0.305       0.305        100.    \n",
            " 17 0.305       0.305        100.    \n",
            " 18 0.305       0.305        100.    \n",
            " 19 0.305       0.305        100.    \n",
            " 20 0.305       0.305        100.    \n",
            " 21 0.305       0.305        100.    \n",
            " 22 0.305       0.305        100.    \n",
            " 23 0.305       0.305        100.    \n",
            " 24  1.00        1.00        100.    \n",
            " 25  1.00        1.00        100.    \n",
            " 26  1.00        1.00        100.    \n",
            " 27  1.00        1.00        100.    \n",
            " 28  1.00        1.00        100.    \n",
            " 29  1.00        1.00        100.    \n",
            " 30  1.00        1.00        100.    \n",
            " 31  1.00        1.00        100.    \n",
            " 32  1.00        1.00        100.    \n",
            " 33  1.00        1.00        100.    \n",
            " 34  1.00        1.00        100.    \n",
            " 35  1.00        1.00        100.    \n",
            " 36  1.00        1.00        100.    \n",
            " 37  1.00        1.00        100.    \n",
            " 38  1.00        1.00        100.    \n",
            " 39  1.00        1.00        100.    \n",
            " 40  1.00        1.00        100.    \n",
            " 41  1.00        1.00        100.    \n",
            " 42  1.00        1.00        100.    \n",
            " 43  1.00        1.00        100.    \n",
            " 44  1.00        1.00        100.    \n",
            " 45  1.00        1.00        125.    \n",
            " 46  1.00        1.00        156.    \n",
            " 47  1.00        1.00        195.    \n",
            " 48  1.00        1.00        244.    \n",
            " 49  1.00        1.00        305.    \n",
            " 50  1.00        1.00        381.    \n",
            " 51  1.00        1.00        477.    \n",
            " 52  1.00        1.00        596.    \n",
            " 53  1.00        1.00        745.    \n",
            " 54  1.00        1.00        931.    \n",
            " 55  1.00        1.00       0.116E+04\n",
            " 56  1.00        1.00       0.146E+04\n",
            " 57  1.00        1.00       0.182E+04\n",
            " 58  1.00        1.00       0.227E+04\n",
            " Solving for Ex fields\n",
            " bnorm   4.4614858949484438E-003\n",
            " xnorm   2.7282978313563147E-012\n",
            "  Residual norms for em_ solve.\n",
            "  0 KSP preconditioned resid norm 1.824454933571e-06 true resid norm 1.718311860495e+01 ||r(i)||/||b|| 3.851434031070e+03\n",
            "  1 KSP preconditioned resid norm 2.085208374467e-09 true resid norm 1.443329536802e+03 ||r(i)||/||b|| 3.235087078132e+05\n",
            "  2 KSP preconditioned resid norm 5.799006788826e-11 true resid norm 1.018404763738e+02 ||r(i)||/||b|| 2.282658261659e+04\n",
            "  3 KSP preconditioned resid norm 1.445320897179e-11 true resid norm 2.977445128907e+01 ||r(i)||/||b|| 6.673662539824e+03\n",
            "  4 KSP preconditioned resid norm 6.111357796220e-12 true resid norm 9.880705583783e+00 ||r(i)||/||b|| 2.214667000286e+03\n",
            "  5 KSP preconditioned resid norm 3.234967847555e-12 true resid norm 7.075326050202e+00 ||r(i)||/||b|| 1.585867627243e+03\n",
            "  6 KSP preconditioned resid norm 2.188814327685e-12 true resid norm 3.780110611532e+00 ||r(i)||/||b|| 8.472761542993e+02\n",
            "  7 KSP preconditioned resid norm 1.995153930702e-12 true resid norm 4.296128199790e+00 ||r(i)||/||b|| 9.629366316399e+02\n",
            "  8 KSP preconditioned resid norm 5.391535229681e-13 true resid norm 1.594069829141e+00 ||r(i)||/||b|| 3.572957231458e+02\n",
            "  9 KSP preconditioned resid norm 3.892427344102e-13 true resid norm 1.297149781732e+00 ||r(i)||/||b|| 2.907438939122e+02\n",
            " 10 KSP preconditioned resid norm 3.906498408921e-13 true resid norm 1.247726116576e+00 ||r(i)||/||b|| 2.796660453389e+02\n",
            " 11 KSP preconditioned resid norm 1.073652757402e-13 true resid norm 5.260879615356e-01 ||r(i)||/||b|| 1.179176565662e+02\n",
            " 12 KSP preconditioned resid norm 4.656844268093e-14 true resid norm 2.358893659081e-01 ||r(i)||/||b|| 5.287237737884e+01\n",
            " 13 KSP preconditioned resid norm 3.240263954238e-14 true resid norm 2.032887885255e-01 ||r(i)||/||b|| 4.556526532016e+01\n",
            " 14 KSP preconditioned resid norm 1.760993212639e-14 true resid norm 7.909946453008e-02 ||r(i)||/||b|| 1.772939921644e+01\n",
            " 15 KSP preconditioned resid norm 7.167492245112e-15 true resid norm 5.398313877266e-02 ||r(i)||/||b|| 1.209981159725e+01\n",
            " 16 KSP preconditioned resid norm 4.561788655218e-15 true resid norm 1.862722453733e-02 ||r(i)||/||b|| 4.175116760634e+00\n",
            " 17 KSP preconditioned resid norm 3.227104392369e-15 true resid norm 1.361195045889e-02 ||r(i)||/||b|| 3.050990360477e+00\n",
            " 18 KSP preconditioned resid norm 1.332986249094e-15 true resid norm 7.579672230090e-03 ||r(i)||/||b|| 1.698912068437e+00\n",
            " 19 KSP preconditioned resid norm 3.725135614869e-16 true resid norm 1.521915073867e-03 ||r(i)||/||b|| 3.411229150339e-01\n",
            " 20 KSP preconditioned resid norm 3.201457175138e-16 true resid norm 1.942282998076e-03 ||r(i)||/||b|| 4.353444219728e-01\n",
            " 21 KSP preconditioned resid norm 2.453956774619e-16 true resid norm 1.527769259441e-03 ||r(i)||/||b|| 3.424350755363e-01\n",
            " 22 KSP preconditioned resid norm 2.140301811204e-16 true resid norm 9.177757557154e-04 ||r(i)||/||b|| 2.057107827584e-01\n",
            " 23 KSP preconditioned resid norm 7.595193380409e-17 true resid norm 3.747894319206e-04 ||r(i)||/||b|| 8.400551761129e-02\n",
            " converged reason            2\n",
            " total number of relaxations           23\n",
            " ========================================\n",
            "\n",
            " Solving for Ey fields\n",
            " bnorm   3.8577081689128109E-003\n",
            " xnorm   2.7597972102137366E-012\n",
            "  Residual norms for em_ solve.\n",
            "  0 KSP preconditioned resid norm 1.496408646331e-06 true resid norm 1.838395944495e+01 ||r(i)||/||b|| 4.765513263313e+03\n",
            "  1 KSP preconditioned resid norm 8.437390133191e-10 true resid norm 9.571705869391e+02 ||r(i)||/||b|| 2.481189724647e+05\n",
            "  2 KSP preconditioned resid norm 5.090827280072e-11 true resid norm 7.576899783961e+01 ||r(i)||/||b|| 1.964093563380e+04\n",
            "  3 KSP preconditioned resid norm 1.194294647557e-11 true resid norm 2.337289361024e+01 ||r(i)||/||b|| 6.058751099575e+03\n",
            "  4 KSP preconditioned resid norm 5.275491241476e-12 true resid norm 9.134917566013e+00 ||r(i)||/||b|| 2.367964907150e+03\n",
            "  5 KSP preconditioned resid norm 2.884530612853e-12 true resid norm 6.965808953352e+00 ||r(i)||/||b|| 1.805685823901e+03\n",
            "  6 KSP preconditioned resid norm 2.535623441063e-12 true resid norm 4.780424345781e+00 ||r(i)||/||b|| 1.239187656626e+03\n",
            "  7 KSP preconditioned resid norm 6.068117330765e-13 true resid norm 1.556345977083e+00 ||r(i)||/||b|| 4.034379763676e+02\n",
            "  8 KSP preconditioned resid norm 3.007000790579e-13 true resid norm 8.739568331871e-01 ||r(i)||/||b|| 2.265481977693e+02\n",
            "  9 KSP preconditioned resid norm 2.522811086162e-13 true resid norm 6.647166181534e-01 ||r(i)||/||b|| 1.723086840809e+02\n",
            " 10 KSP preconditioned resid norm 4.895166217638e-13 true resid norm 1.365323209809e+00 ||r(i)||/||b|| 3.539208125725e+02\n",
            " 11 KSP preconditioned resid norm 1.063288081670e-13 true resid norm 7.430013416032e-01 ||r(i)||/||b|| 1.926017492952e+02\n",
            " 12 KSP preconditioned resid norm 8.054220534706e-14 true resid norm 2.887153708185e-01 ||r(i)||/||b|| 7.484116428120e+01\n",
            " 13 KSP preconditioned resid norm 7.858268997620e-14 true resid norm 2.159114441201e-01 ||r(i)||/||b|| 5.596883814592e+01\n",
            " 14 KSP preconditioned resid norm 8.584020653509e-15 true resid norm 3.842391828858e-02 ||r(i)||/||b|| 9.960296789223e+00\n",
            " 15 KSP preconditioned resid norm 6.246170968420e-15 true resid norm 6.554350007375e-02 ||r(i)||/||b|| 1.699026914527e+01\n",
            " 16 KSP preconditioned resid norm 3.611787155003e-15 true resid norm 1.358512226044e-02 ||r(i)||/||b|| 3.521552607301e+00\n",
            " 17 KSP preconditioned resid norm 3.840781294171e-15 true resid norm 1.287732153823e-02 ||r(i)||/||b|| 3.338075607171e+00\n",
            " 18 KSP preconditioned resid norm 5.084253073933e-14 true resid norm 2.999371446955e-01 ||r(i)||/||b|| 7.775008672573e+01\n",
            " 19 KSP preconditioned resid norm 3.384694250992e-16 true resid norm 1.165177425406e-03 ||r(i)||/||b|| 3.020387687165e-01\n",
            " 20 KSP preconditioned resid norm 6.392738698121e-17 true resid norm 6.928965615535e-04 ||r(i)||/||b|| 1.796135247184e-01\n",
            " converged reason            2\n",
            " total number of relaxations           20\n",
            " ========================================\n",
            "\n",
            " Solving for Ez fields\n",
            " bnorm   8.6898605723344734E-004\n",
            " xnorm   5.6795367244132198E-016\n",
            "  Residual norms for em_ solve.\n",
            "  0 KSP preconditioned resid norm 7.436189618245e-07 true resid norm 8.689860572334e-04 ||r(i)||/||b|| 1.000000000000e+00\n",
            "  1 KSP preconditioned resid norm 2.018338467074e-11 true resid norm 4.422748581034e-08 ||r(i)||/||b|| 5.089550682913e-05\n",
            "  2 KSP preconditioned resid norm 7.630526342697e-15 true resid norm 1.922584180078e-08 ||r(i)||/||b|| 2.212445371332e-05\n",
            "  3 KSP preconditioned resid norm 3.766121687965e-18 true resid norm 1.162029952943e-08 ||r(i)||/||b|| 1.337225083499e-05\n",
            " converged reason            2\n",
            " total number of relaxations            3\n",
            " ========================================\n",
            "\n",
            " Solving for Hx fields\n",
            " bnorm   1.4734036387698076E-005\n",
            " xnorm   8.7141245357107302E-015\n",
            "  Residual norms for em_ solve.\n",
            "  0 KSP preconditioned resid norm 7.451049903118e-09 true resid norm 5.804735814717e-02 ||r(i)||/||b|| 3.939677941588e+03\n",
            "  1 KSP preconditioned resid norm 4.368981592459e-12 true resid norm 3.346377347853e+00 ||r(i)||/||b|| 2.271188464450e+05\n",
            "  2 KSP preconditioned resid norm 1.643689140992e-13 true resid norm 2.346057463614e-01 ||r(i)||/||b|| 1.592270713796e+04\n",
            "  3 KSP preconditioned resid norm 4.319521336470e-14 true resid norm 6.626649091519e-02 ||r(i)||/||b|| 4.497511012700e+03\n",
            "  4 KSP preconditioned resid norm 3.606779959253e-14 true resid norm 5.937173951780e-02 ||r(i)||/||b|| 4.029563790637e+03\n",
            "  5 KSP preconditioned resid norm 6.211533686694e-15 true resid norm 1.372685329892e-02 ||r(i)||/||b|| 9.316424188001e+02\n",
            "  6 KSP preconditioned resid norm 2.805016586414e-15 true resid norm 7.527296182064e-03 ||r(i)||/||b|| 5.108780773983e+02\n",
            "  7 KSP preconditioned resid norm 1.553010126447e-15 true resid norm 4.409830036424e-03 ||r(i)||/||b|| 2.992954490126e+02\n",
            "  8 KSP preconditioned resid norm 8.194205181213e-16 true resid norm 2.195376502960e-03 ||r(i)||/||b|| 1.490003448609e+02\n",
            "  9 KSP preconditioned resid norm 6.146868605325e-16 true resid norm 1.785346638649e-03 ||r(i)||/||b|| 1.211715915226e+02\n",
            " 10 KSP preconditioned resid norm 3.701117766745e-16 true resid norm 1.100730208374e-03 ||r(i)||/||b|| 7.470663024107e+01\n",
            " 11 KSP preconditioned resid norm 2.301577650682e-16 true resid norm 6.445910022854e-04 ||r(i)||/||b|| 4.374843290217e+01\n",
            " 12 KSP preconditioned resid norm 9.828721707970e-17 true resid norm 2.857948324422e-04 ||r(i)||/||b|| 1.939691371204e+01\n",
            " 13 KSP preconditioned resid norm 1.744517183071e-16 true resid norm 6.016368753184e-04 ||r(i)||/||b|| 4.083313353432e+01\n",
            " 14 KSP preconditioned resid norm 1.173242530318e-17 true resid norm 8.729474642692e-05 ||r(i)||/||b|| 5.924700070634e+00\n",
            " 15 KSP preconditioned resid norm 5.092574630565e-18 true resid norm 2.429544574367e-05 ||r(i)||/||b|| 1.648933469715e+00\n",
            " 16 KSP preconditioned resid norm 2.675316645160e-18 true resid norm 2.056929121842e-05 ||r(i)||/||b|| 1.396039121744e+00\n",
            " 17 KSP preconditioned resid norm 2.033782792613e-18 true resid norm 1.244125575958e-05 ||r(i)||/||b|| 8.443888308819e-01\n",
            " 18 KSP preconditioned resid norm 1.004762686903e-18 true resid norm 7.318836943558e-06 ||r(i)||/||b|| 4.967299354350e-01\n",
            " 19 KSP preconditioned resid norm 5.556600059343e-19 true resid norm 3.224342026702e-06 ||r(i)||/||b|| 2.188363013271e-01\n",
            " converged reason            2\n",
            " total number of relaxations           19\n",
            " ========================================\n",
            "\n",
            " Solving for Hy fields\n",
            " bnorm   2.2142075796165055E-005\n",
            " xnorm   8.6146869153377351E-015\n",
            "  Residual norms for em_ solve.\n",
            "  0 KSP preconditioned resid norm 9.459917481483e-09 true resid norm 5.425587984583e-02 ||r(i)||/||b|| 2.450352006077e+03\n",
            "  1 KSP preconditioned resid norm 8.988916784500e-12 true resid norm 5.183285198383e+00 ||r(i)||/||b|| 2.340921079893e+05\n",
            "  2 KSP preconditioned resid norm 1.635473291311e-13 true resid norm 2.543826714116e-01 ||r(i)||/||b|| 1.148865507251e+04\n",
            "  3 KSP preconditioned resid norm 3.680969262660e-14 true resid norm 6.025347212614e-02 ||r(i)||/||b|| 2.721220570321e+03\n",
            "  4 KSP preconditioned resid norm 2.173661707923e-14 true resid norm 4.157700494813e-02 ||r(i)||/||b|| 1.877737450223e+03\n",
            "  5 KSP preconditioned resid norm 6.856237671884e-15 true resid norm 1.228263760715e-02 ||r(i)||/||b|| 5.547193370765e+02\n",
            "  6 KSP preconditioned resid norm 2.974137164018e-15 true resid norm 5.687284515972e-03 ||r(i)||/||b|| 2.568541706897e+02\n",
            "  7 KSP preconditioned resid norm 1.616513133375e-15 true resid norm 4.949335149560e-03 ||r(i)||/||b|| 2.235262490799e+02\n",
            "  8 KSP preconditioned resid norm 1.173696706673e-15 true resid norm 3.149748778794e-03 ||r(i)||/||b|| 1.422517386260e+02\n",
            "  9 KSP preconditioned resid norm 7.205031789727e-16 true resid norm 1.979493635323e-03 ||r(i)||/||b|| 8.939964136815e+01\n",
            " 10 KSP preconditioned resid norm 3.517424374729e-16 true resid norm 1.070194147622e-03 ||r(i)||/||b|| 4.833305411265e+01\n",
            " 11 KSP preconditioned resid norm 8.205894661952e-17 true resid norm 3.511845397662e-04 ||r(i)||/||b|| 1.586050662093e+01\n",
            " 12 KSP preconditioned resid norm 6.362854566214e-17 true resid norm 3.332856511739e-04 ||r(i)||/||b|| 1.505214119227e+01\n",
            " 13 KSP preconditioned resid norm 2.429144720406e-17 true resid norm 1.153988523199e-04 ||r(i)||/||b|| 5.211744977402e+00\n",
            " 14 KSP preconditioned resid norm 1.099041174430e-17 true resid norm 5.158057022838e-05 ||r(i)||/||b|| 2.329527308244e+00\n",
            " 15 KSP preconditioned resid norm 4.685017285718e-18 true resid norm 2.163969613132e-05 ||r(i)||/||b|| 9.773110854884e-01\n",
            " 16 KSP preconditioned resid norm 1.644259890102e-18 true resid norm 1.381819031519e-05 ||r(i)||/||b|| 6.240693258571e-01\n",
            " 17 KSP preconditioned resid norm 5.035380209323e-19 true resid norm 1.402872396458e-06 ||r(i)||/||b|| 6.335776326360e-02\n",
            " converged reason            2\n",
            " total number of relaxations           17\n",
            " ========================================\n",
            "\n",
            " Solving for Hz fields\n",
            " bnorm   3.7727507818834821E-005\n",
            " xnorm   2.3407405211699372E-016\n",
            "  Residual norms for em_ solve.\n",
            "  0 KSP preconditioned resid norm 1.236208833927e-08 true resid norm 1.413045088306e-03 ||r(i)||/||b|| 3.745397377137e+01\n",
            "  1 KSP preconditioned resid norm 1.664973208594e-10 true resid norm 3.463939828700e+00 ||r(i)||/||b|| 9.181470043910e+04\n",
            "  2 KSP preconditioned resid norm 8.366983092820e-14 true resid norm 9.171051852915e-02 ||r(i)||/||b|| 2.430866066466e+03\n",
            "  3 KSP preconditioned resid norm 1.386354386207e-14 true resid norm 1.905770367881e-02 ||r(i)||/||b|| 5.051408052270e+02\n",
            "  4 KSP preconditioned resid norm 4.635883581096e-15 true resid norm 7.285180695640e-03 ||r(i)||/||b|| 1.930999717931e+02\n",
            "  5 KSP preconditioned resid norm 1.974093227402e-15 true resid norm 2.953370060898e-03 ||r(i)||/||b|| 7.828161020018e+01\n",
            "  6 KSP preconditioned resid norm 1.182781787023e-15 true resid norm 2.288756945462e-03 ||r(i)||/||b|| 6.066546871987e+01\n",
            "  7 KSP preconditioned resid norm 6.221244366707e-16 true resid norm 1.263339414861e-03 ||r(i)||/||b|| 3.348589631014e+01\n",
            "  8 KSP preconditioned resid norm 3.800488678870e-16 true resid norm 9.015738978063e-04 ||r(i)||/||b|| 2.389699054959e+01\n",
            "  9 KSP preconditioned resid norm 2.498733213989e-16 true resid norm 7.194509577987e-04 ||r(i)||/||b|| 1.906966559396e+01\n",
            " 10 KSP preconditioned resid norm 1.563017112250e-16 true resid norm 5.055208317846e-04 ||r(i)||/||b|| 1.339926385310e+01\n",
            " 11 KSP preconditioned resid norm 8.733803057628e-17 true resid norm 3.171941303660e-04 ||r(i)||/||b|| 8.407502872682e+00\n",
            " 12 KSP preconditioned resid norm 4.907010803529e-17 true resid norm 1.868311755294e-04 ||r(i)||/||b|| 4.952120782177e+00\n",
            " 13 KSP preconditioned resid norm 2.214070343700e-17 true resid norm 8.760421740830e-05 ||r(i)||/||b|| 2.322025028236e+00\n",
            " 14 KSP preconditioned resid norm 1.333171674446e-17 true resid norm 5.984548368534e-05 ||r(i)||/||b|| 1.586255948119e+00\n",
            " 15 KSP preconditioned resid norm 7.696778066646e-18 true resid norm 3.786809196913e-05 ||r(i)||/||b|| 1.003726303656e+00\n",
            " 16 KSP preconditioned resid norm 3.863008301366e-18 true resid norm 1.284864871601e-05 ||r(i)||/||b|| 3.405644702988e-01\n",
            " 17 KSP preconditioned resid norm 2.061402843494e-18 true resid norm 1.054741071688e-05 ||r(i)||/||b|| 2.795681805311e-01\n",
            " 18 KSP preconditioned resid norm 1.062033155108e-18 true resid norm 3.992776343462e-06 ||r(i)||/||b|| 1.058319664960e-01\n",
            " converged reason            2\n",
            " total number of relaxations           18\n",
            " ========================================\n",
            "\n",
            " \n",
            " ************************************************\n",
            "  3D finished\n",
            "  Total CPU time:    19.0625000      seconds\n",
            " ************************************************\n",
            " \n",
            " total cpu time:    19.0625000      seconds\n",
            " CSEM3D_W finished\n",
            "  \n",
            "PROFILE: interrupts/evictions/bytes = 1910/866/209912\n",
            "------------------------------------------------\n",
            "MALLOC:      484840256 (  462.4 MiB) Bytes in use by application\n",
            "MALLOC: +    102899712 (   98.1 MiB) Bytes in page heap freelist\n",
            "MALLOC: +       819384 (    0.8 MiB) Bytes in central cache freelist\n",
            "MALLOC: +       403456 (    0.4 MiB) Bytes in transfer cache freelist\n",
            "MALLOC: +       730120 (    0.7 MiB) Bytes in thread cache freelists\n",
            "MALLOC: +      2621440 (    2.5 MiB) Bytes in malloc metadata\n",
            "MALLOC:   ------------\n",
            "MALLOC: =    592314368 (  564.9 MiB) Actual memory used (physical + swap)\n",
            "MALLOC: +            0 (    0.0 MiB) Bytes released to OS (aka unmapped)\n",
            "MALLOC:   ------------\n",
            "MALLOC: =    592314368 (  564.9 MiB) Virtual address space used\n",
            "MALLOC:\n",
            "MALLOC:            717              Spans in use\n",
            "MALLOC:              3              Thread heaps in use\n",
            "MALLOC:           8192              Tcmalloc page size\n",
            "------------------------------------------------\n",
            "Call ReleaseFreeMemory() to release freelist memory to the OS (via madvise()).\n",
            "Bytes released to the OS take up virtual address space but no physical memory.\n"
          ]
        },
        {
          "output_type": "stream",
          "name": "stderr",
          "text": [
            "Using local file ./CSEM3D_W.\n",
            "Using local file ./CSEM3D_W.prof.\n",
            "Dropping nodes with <= 9 samples; edges with <= 1 abs(samples)\n",
            "gv: Unable to open the display.\n",
            "Using local file ./CSEM3D_W.\n",
            "Using local file ./CSEM3D_W.prof.\n",
            "Dropping nodes with <= 9 samples; edges with <= 1 abs(samples)\n",
            "Using local file ./CSEM3D_W.\n",
            "Using local file ./CSEM3D_W.prof.\n",
            "Dropping nodes with <= 9 samples; edges with <= 1 abs(samples)\n"
          ]
        }
      ]
    },
    {
      "cell_type": "code",
      "source": [
        "%%bash\n",
        "su csem\n",
        "cd /home/csem/csem3d_w-v1.0.2/CSEM3D_W/CSEM3D_W\n",
        "ls -l *.prof\n",
        "ls -l *.pdf\n",
        "ls -l *.dot"
      ],
      "metadata": {
        "colab": {
          "base_uri": "https://localhost:8080/"
        },
        "id": "kHAyPNBMzeM2",
        "outputId": "e3427b6f-13af-4f52-e4eb-cc920d52cf7f"
      },
      "execution_count": 60,
      "outputs": [
        {
          "output_type": "stream",
          "name": "stdout",
          "text": [
            "-rw-rw-r-- 1 csem csem 231205 Aug 10 20:26 CSEM3D_W.prof\n",
            "-rw-rw-r-- 1 csem csem 22444 Aug 10 20:26 CSEM3D_W.pdf\n",
            "-rw-rw-r-- 1 csem csem 12862 Aug 10 20:26 CSEM3D_W.dot\n"
          ]
        }
      ]
    },
    {
      "cell_type": "code",
      "source": [
        "import graphviz\n",
        "%cd /home/csem/csem3d_w-v1.0.2/CSEM3D_W/CSEM3D_W\n",
        "graphviz.Source.from_file('CSEM3D_W.dot')"
      ],
      "metadata": {
        "id": "cYghOyx6HUzP",
        "outputId": "15a2c682-b206-4c16-ce7f-e67d0432a6c1",
        "colab": {
          "base_uri": "https://localhost:8080/",
          "height": 1000
        }
      },
      "execution_count": 65,
      "outputs": [
        {
          "output_type": "stream",
          "name": "stdout",
          "text": [
            "/home/csem/csem3d_w-v1.0.2/CSEM3D_W/CSEM3D_W\n"
          ]
        },
        {
          "output_type": "execute_result",
          "data": {
            "image/svg+xml": "<?xml version=\"1.0\" encoding=\"UTF-8\" standalone=\"no\"?>\n<!DOCTYPE svg PUBLIC \"-//W3C//DTD SVG 1.1//EN\"\n \"http://www.w3.org/Graphics/SVG/1.1/DTD/svg11.dtd\">\n<!-- Generated by graphviz version 2.43.0 (0)\n -->\n<!-- Title: ./CSEM3D_W; 1910 samples Pages: 1 -->\n<svg width=\"1639pt\" height=\"2413pt\"\n viewBox=\"0.00 0.00 1639.00 2413.00\" xmlns=\"http://www.w3.org/2000/svg\" xmlns:xlink=\"http://www.w3.org/1999/xlink\">\n<g id=\"graph0\" class=\"graph\" transform=\"scale(1 1) rotate(0) translate(4 2409)\">\n<title>./CSEM3D_W; 1910 samples</title>\n<polygon fill=\"white\" stroke=\"transparent\" points=\"-4,4 -4,-2409 1635,-2409 1635,4 -4,4\"/>\n<!-- Legend -->\n<g id=\"node1\" class=\"node\">\n<title>Legend</title>\n<text text-anchor=\"start\" x=\"319\" y=\"-2381.8\" font-family=\"Times,serif\" font-size=\"24.00\">./CSEM3D_W</text>\n<text text-anchor=\"start\" x=\"319\" y=\"-2355.8\" font-family=\"Times,serif\" font-size=\"24.00\">Total samples: 1910</text>\n<text text-anchor=\"start\" x=\"319\" y=\"-2329.8\" font-family=\"Times,serif\" font-size=\"24.00\">Focusing on: 1910</text>\n<text text-anchor=\"start\" x=\"319\" y=\"-2303.8\" font-family=\"Times,serif\" font-size=\"24.00\">Dropped nodes with &lt;= 9 abs(samples)</text>\n<text text-anchor=\"start\" x=\"319\" y=\"-2277.8\" font-family=\"Times,serif\" font-size=\"24.00\">Dropped edges with &lt;= 1 samples</text>\n</g>\n<!-- N1 -->\n<g id=\"node2\" class=\"node\">\n<title>N1</title>\n<polygon fill=\"none\" stroke=\"black\" points=\"793.5,-1958 720.5,-1958 720.5,-1923 793.5,-1923 793.5,-1958\"/>\n<text text-anchor=\"middle\" x=\"757\" y=\"-1947.6\" font-family=\"Times,serif\" font-size=\"8.00\">MAIN__</text>\n<text text-anchor=\"end\" x=\"785.5\" y=\"-1938.6\" font-family=\"Times,serif\" font-size=\"8.00\">0 (0.0%)</text>\n<text text-anchor=\"end\" x=\"785.5\" y=\"-1929.6\" font-family=\"Times,serif\" font-size=\"8.00\">of 1910 (100.0%)</text>\n</g>\n<!-- N8 -->\n<g id=\"node9\" class=\"node\">\n<title>N8</title>\n<polygon fill=\"none\" stroke=\"black\" points=\"791.5,-1869 722.5,-1869 722.5,-1834 791.5,-1834 791.5,-1869\"/>\n<text text-anchor=\"middle\" x=\"757\" y=\"-1858.6\" font-family=\"Times,serif\" font-size=\"8.00\">kspsolve_</text>\n<text text-anchor=\"end\" x=\"783.5\" y=\"-1849.6\" font-family=\"Times,serif\" font-size=\"8.00\">0 (0.0%)</text>\n<text text-anchor=\"end\" x=\"783.5\" y=\"-1840.6\" font-family=\"Times,serif\" font-size=\"8.00\">of 1355 (70.9%)</text>\n</g>\n<!-- N1&#45;&gt;N8 -->\n<g id=\"edge7\" class=\"edge\">\n<title>N1&#45;&gt;N8</title>\n<path fill=\"none\" stroke=\"black\" stroke-width=\"2\" d=\"M757,-1922.73C757,-1910.45 757,-1893.54 757,-1879.38\"/>\n<polygon fill=\"black\" stroke=\"black\" stroke-width=\"2\" points=\"760.5,-1879.22 757,-1869.22 753.5,-1879.22 760.5,-1879.22\"/>\n<text text-anchor=\"middle\" x=\"771\" y=\"-1893.8\" font-family=\"Times,serif\" font-size=\"14.00\">1355</text>\n</g>\n<!-- N25 -->\n<g id=\"node26\" class=\"node\">\n<title>N25</title>\n<polygon fill=\"none\" stroke=\"black\" points=\"1032.5,-1869 967.5,-1869 967.5,-1834 1032.5,-1834 1032.5,-1869\"/>\n<text text-anchor=\"middle\" x=\"1000\" y=\"-1858.6\" font-family=\"Times,serif\" font-size=\"8.00\">e_tx_b_rx_</text>\n<text text-anchor=\"end\" x=\"1024.5\" y=\"-1849.6\" font-family=\"Times,serif\" font-size=\"8.00\">0 (0.0%)</text>\n<text text-anchor=\"end\" x=\"1024.5\" y=\"-1840.6\" font-family=\"Times,serif\" font-size=\"8.00\">of 280 (14.7%)</text>\n</g>\n<!-- N1&#45;&gt;N25 -->\n<g id=\"edge25\" class=\"edge\">\n<title>N1&#45;&gt;N25</title>\n<path fill=\"none\" stroke=\"black\" stroke-width=\"0.88\" d=\"M793.87,-1928.79C832.62,-1917.18 895.39,-1897.32 957.54,-1872.03\"/>\n<polygon fill=\"black\" stroke=\"black\" stroke-width=\"0.88\" points=\"959.19,-1875.13 967.1,-1868.09 956.52,-1868.66 959.19,-1875.13\"/>\n<text text-anchor=\"middle\" x=\"920.5\" y=\"-1893.8\" font-family=\"Times,serif\" font-size=\"14.00\">280</text>\n</g>\n<!-- N34 -->\n<g id=\"node35\" class=\"node\">\n<title>N34</title>\n<polygon fill=\"none\" stroke=\"black\" points=\"1109,-1869 1051,-1869 1051,-1834 1109,-1834 1109,-1869\"/>\n<text text-anchor=\"middle\" x=\"1080\" y=\"-1858.6\" font-family=\"Times,serif\" font-size=\"8.00\">e_tx_e_rx_</text>\n<text text-anchor=\"end\" x=\"1101\" y=\"-1849.6\" font-family=\"Times,serif\" font-size=\"8.00\">0 (0.0%)</text>\n<text text-anchor=\"end\" x=\"1101\" y=\"-1840.6\" font-family=\"Times,serif\" font-size=\"8.00\">of 94 (4.9%)</text>\n</g>\n<!-- N1&#45;&gt;N34 -->\n<g id=\"edge37\" class=\"edge\">\n<title>N1&#45;&gt;N34</title>\n<path fill=\"none\" stroke=\"black\" stroke-width=\"0.3\" d=\"M793.93,-1934.33C849.17,-1925.81 955.91,-1906.26 1041,-1872 1041.2,-1871.92 1041.4,-1871.84 1041.61,-1871.75\"/>\n<polygon fill=\"black\" stroke=\"black\" stroke-width=\"0.3\" points=\"1043.09,-1874.93 1050.85,-1867.71 1040.28,-1868.51 1043.09,-1874.93\"/>\n<text text-anchor=\"middle\" x=\"996\" y=\"-1893.8\" font-family=\"Times,serif\" font-size=\"14.00\">94</text>\n</g>\n<!-- N41 -->\n<g id=\"node42\" class=\"node\">\n<title>N41</title>\n<polygon fill=\"none\" stroke=\"black\" points=\"872.5,-1872 809.5,-1872 809.5,-1831 872.5,-1831 872.5,-1872\"/>\n<text text-anchor=\"middle\" x=\"841\" y=\"-1860.32\" font-family=\"Times,serif\" font-size=\"9.60\">set_bv_h_</text>\n<text text-anchor=\"end\" x=\"864.5\" y=\"-1849.32\" font-family=\"Times,serif\" font-size=\"9.60\">2 (0.1%)</text>\n<text text-anchor=\"end\" x=\"864.5\" y=\"-1838.32\" font-family=\"Times,serif\" font-size=\"9.60\">of 68 (3.6%)</text>\n</g>\n<!-- N1&#45;&gt;N41 -->\n<g id=\"edge44\" class=\"edge\">\n<title>N1&#45;&gt;N41</title>\n<path fill=\"none\" stroke=\"black\" stroke-width=\"0.21\" d=\"M773.2,-1922.73C784.94,-1910.56 801.08,-1893.84 814.67,-1879.77\"/>\n<polygon fill=\"black\" stroke=\"black\" stroke-width=\"0.21\" points=\"817.48,-1881.89 821.91,-1872.27 812.45,-1877.03 817.48,-1881.89\"/>\n<text text-anchor=\"middle\" x=\"812\" y=\"-1893.8\" font-family=\"Times,serif\" font-size=\"14.00\">68</text>\n</g>\n<!-- N42 -->\n<g id=\"node43\" class=\"node\">\n<title>N42</title>\n<polygon fill=\"none\" stroke=\"black\" points=\"949,-1869 891,-1869 891,-1834 949,-1834 949,-1869\"/>\n<text text-anchor=\"middle\" x=\"920\" y=\"-1858.6\" font-family=\"Times,serif\" font-size=\"8.00\">set_bv_e_</text>\n<text text-anchor=\"end\" x=\"941\" y=\"-1849.6\" font-family=\"Times,serif\" font-size=\"8.00\">0 (0.0%)</text>\n<text text-anchor=\"end\" x=\"941\" y=\"-1840.6\" font-family=\"Times,serif\" font-size=\"8.00\">of 61 (3.2%)</text>\n</g>\n<!-- N1&#45;&gt;N42 -->\n<g id=\"edge46\" class=\"edge\">\n<title>N1&#45;&gt;N42</title>\n<path fill=\"none\" stroke=\"black\" stroke-width=\"0.19\" d=\"M788.94,-1922.92C799.77,-1917.27 811.93,-1910.89 823,-1905 842.43,-1894.66 863.98,-1883.02 881.81,-1873.33\"/>\n<polygon fill=\"black\" stroke=\"black\" stroke-width=\"0.19\" points=\"883.66,-1876.31 890.77,-1868.46 880.31,-1870.16 883.66,-1876.31\"/>\n<text text-anchor=\"middle\" x=\"857\" y=\"-1893.8\" font-family=\"Times,serif\" font-size=\"14.00\">61</text>\n</g>\n<!-- N76 -->\n<g id=\"node77\" class=\"node\">\n<title>N76</title>\n<polygon fill=\"none\" stroke=\"black\" points=\"1190.5,-1872 1127.5,-1872 1127.5,-1831 1190.5,-1831 1190.5,-1872\"/>\n<text text-anchor=\"middle\" x=\"1159\" y=\"-1860.32\" font-family=\"Times,serif\" font-size=\"9.60\">set_a_</text>\n<text text-anchor=\"end\" x=\"1182.5\" y=\"-1849.32\" font-family=\"Times,serif\" font-size=\"9.60\">2 (0.1%)</text>\n<text text-anchor=\"end\" x=\"1182.5\" y=\"-1838.32\" font-family=\"Times,serif\" font-size=\"9.60\">of 17 (0.9%)</text>\n</g>\n<!-- N1&#45;&gt;N76 -->\n<g id=\"edge83\" class=\"edge\">\n<title>N1&#45;&gt;N76</title>\n<path fill=\"none\" stroke=\"black\" stroke-width=\"0.05\" d=\"M793.53,-1937.05C860.07,-1931.65 1004.6,-1915.52 1118,-1872 1118.1,-1871.96 1118.19,-1871.93 1118.29,-1871.89\"/>\n<polygon fill=\"black\" stroke=\"black\" stroke-width=\"0.05\" points=\"1119.52,-1875.17 1127.43,-1868.11 1116.85,-1868.7 1119.52,-1875.17\"/>\n<text text-anchor=\"middle\" x=\"1069\" y=\"-1893.8\" font-family=\"Times,serif\" font-size=\"14.00\">17</text>\n</g>\n<!-- N2 -->\n<g id=\"node3\" class=\"node\">\n<title>N2</title>\n<polygon fill=\"none\" stroke=\"black\" points=\"820.5,-2130 693.5,-2130 693.5,-2095 820.5,-2095 820.5,-2130\"/>\n<text text-anchor=\"middle\" x=\"757\" y=\"-2119.6\" font-family=\"Times,serif\" font-size=\"8.00\">__libc_init_first@@GLIBC_2.2.5</text>\n<text text-anchor=\"end\" x=\"812.5\" y=\"-2110.6\" font-family=\"Times,serif\" font-size=\"8.00\">0 (0.0%)</text>\n<text text-anchor=\"end\" x=\"812.5\" y=\"-2101.6\" font-family=\"Times,serif\" font-size=\"8.00\">of 1910 (100.0%)</text>\n</g>\n<!-- N5 -->\n<g id=\"node6\" class=\"node\">\n<title>N5</title>\n<polygon fill=\"none\" stroke=\"black\" points=\"793.5,-2044 720.5,-2044 720.5,-2009 793.5,-2009 793.5,-2044\"/>\n<text text-anchor=\"middle\" x=\"757\" y=\"-2033.6\" font-family=\"Times,serif\" font-size=\"8.00\">main</text>\n<text text-anchor=\"end\" x=\"785.5\" y=\"-2024.6\" font-family=\"Times,serif\" font-size=\"8.00\">0 (0.0%)</text>\n<text text-anchor=\"end\" x=\"785.5\" y=\"-2015.6\" font-family=\"Times,serif\" font-size=\"8.00\">of 1910 (100.0%)</text>\n</g>\n<!-- N2&#45;&gt;N5 -->\n<g id=\"edge3\" class=\"edge\">\n<title>N2&#45;&gt;N5</title>\n<path fill=\"none\" stroke=\"black\" stroke-width=\"2\" d=\"M757,-2094.9C757,-2083.28 757,-2067.51 757,-2054.14\"/>\n<polygon fill=\"black\" stroke=\"black\" stroke-width=\"2\" points=\"760.5,-2054.06 757,-2044.06 753.5,-2054.06 760.5,-2054.06\"/>\n<text text-anchor=\"middle\" x=\"771\" y=\"-2065.8\" font-family=\"Times,serif\" font-size=\"14.00\">1910</text>\n</g>\n<!-- N3 -->\n<g id=\"node4\" class=\"node\">\n<title>N3</title>\n<polygon fill=\"none\" stroke=\"black\" points=\"819.5,-2216 694.5,-2216 694.5,-2181 819.5,-2181 819.5,-2216\"/>\n<text text-anchor=\"middle\" x=\"757\" y=\"-2205.6\" font-family=\"Times,serif\" font-size=\"8.00\">__libc_start_main@GLIBC_2.2.5</text>\n<text text-anchor=\"end\" x=\"811.5\" y=\"-2196.6\" font-family=\"Times,serif\" font-size=\"8.00\">0 (0.0%)</text>\n<text text-anchor=\"end\" x=\"811.5\" y=\"-2187.6\" font-family=\"Times,serif\" font-size=\"8.00\">of 1910 (100.0%)</text>\n</g>\n<!-- N3&#45;&gt;N2 -->\n<g id=\"edge5\" class=\"edge\">\n<title>N3&#45;&gt;N2</title>\n<path fill=\"none\" stroke=\"black\" stroke-width=\"2\" d=\"M757,-2180.9C757,-2169.28 757,-2153.51 757,-2140.14\"/>\n<polygon fill=\"black\" stroke=\"black\" stroke-width=\"2\" points=\"760.5,-2140.06 757,-2130.06 753.5,-2140.06 760.5,-2140.06\"/>\n<text text-anchor=\"middle\" x=\"771\" y=\"-2151.8\" font-family=\"Times,serif\" font-size=\"14.00\">1910</text>\n</g>\n<!-- N4 -->\n<g id=\"node5\" class=\"node\">\n<title>N4</title>\n<polygon fill=\"none\" stroke=\"black\" points=\"793.5,-2353.5 720.5,-2353.5 720.5,-2318.5 793.5,-2318.5 793.5,-2353.5\"/>\n<text text-anchor=\"middle\" x=\"757\" y=\"-2343.1\" font-family=\"Times,serif\" font-size=\"8.00\">_start</text>\n<text text-anchor=\"end\" x=\"785.5\" y=\"-2334.1\" font-family=\"Times,serif\" font-size=\"8.00\">0 (0.0%)</text>\n<text text-anchor=\"end\" x=\"785.5\" y=\"-2325.1\" font-family=\"Times,serif\" font-size=\"8.00\">of 1910 (100.0%)</text>\n</g>\n<!-- N4&#45;&gt;N3 -->\n<g id=\"edge4\" class=\"edge\">\n<title>N4&#45;&gt;N3</title>\n<path fill=\"none\" stroke=\"black\" stroke-width=\"2\" d=\"M757,-2318.39C757,-2295.43 757,-2253.74 757,-2226.33\"/>\n<polygon fill=\"black\" stroke=\"black\" stroke-width=\"2\" points=\"760.5,-2226.25 757,-2216.25 753.5,-2226.25 760.5,-2226.25\"/>\n<text text-anchor=\"middle\" x=\"771\" y=\"-2237.8\" font-family=\"Times,serif\" font-size=\"14.00\">1910</text>\n</g>\n<!-- N5&#45;&gt;N1 -->\n<g id=\"edge2\" class=\"edge\">\n<title>N5&#45;&gt;N1</title>\n<path fill=\"none\" stroke=\"black\" stroke-width=\"2\" d=\"M757,-2008.9C757,-1997.28 757,-1981.51 757,-1968.14\"/>\n<polygon fill=\"black\" stroke=\"black\" stroke-width=\"2\" points=\"760.5,-1968.06 757,-1958.06 753.5,-1968.06 760.5,-1968.06\"/>\n<text text-anchor=\"middle\" x=\"771\" y=\"-1979.8\" font-family=\"Times,serif\" font-size=\"14.00\">1910</text>\n</g>\n<!-- N6 -->\n<g id=\"node7\" class=\"node\">\n<title>N6</title>\n<polygon fill=\"none\" stroke=\"black\" points=\"791.5,-1775.5 722.5,-1775.5 722.5,-1740.5 791.5,-1740.5 791.5,-1775.5\"/>\n<text text-anchor=\"middle\" x=\"757\" y=\"-1765.1\" font-family=\"Times,serif\" font-size=\"8.00\">KSPSolve</text>\n<text text-anchor=\"end\" x=\"783.5\" y=\"-1756.1\" font-family=\"Times,serif\" font-size=\"8.00\">0 (0.0%)</text>\n<text text-anchor=\"end\" x=\"783.5\" y=\"-1747.1\" font-family=\"Times,serif\" font-size=\"8.00\">of 1355 (70.9%)</text>\n</g>\n<!-- N7 -->\n<g id=\"node8\" class=\"node\">\n<title>N7</title>\n<polygon fill=\"none\" stroke=\"black\" points=\"795.5,-1658 718.5,-1658 718.5,-1623 795.5,-1623 795.5,-1658\"/>\n<text text-anchor=\"middle\" x=\"757\" y=\"-1647.6\" font-family=\"Times,serif\" font-size=\"8.00\">KSPSolve_Private</text>\n<text text-anchor=\"end\" x=\"787.5\" y=\"-1638.6\" font-family=\"Times,serif\" font-size=\"8.00\">0 (0.0%)</text>\n<text text-anchor=\"end\" x=\"787.5\" y=\"-1629.6\" font-family=\"Times,serif\" font-size=\"8.00\">of 1355 (70.9%)</text>\n</g>\n<!-- N6&#45;&gt;N7 -->\n<g id=\"edge1\" class=\"edge\">\n<title>N6&#45;&gt;N7</title>\n<path fill=\"none\" stroke=\"black\" stroke-width=\"2\" d=\"M757,-1740.45C757,-1721.58 757,-1690.47 757,-1668.17\"/>\n<polygon fill=\"black\" stroke=\"black\" stroke-width=\"2\" points=\"760.5,-1668.02 757,-1658.02 753.5,-1668.02 760.5,-1668.02\"/>\n<text text-anchor=\"middle\" x=\"771\" y=\"-1706.8\" font-family=\"Times,serif\" font-size=\"14.00\">2160</text>\n</g>\n<!-- N9 -->\n<g id=\"node10\" class=\"node\">\n<title>N9</title>\n<polygon fill=\"none\" stroke=\"black\" points=\"450,-1528.5 376,-1528.5 376,-1493.5 450,-1493.5 450,-1528.5\"/>\n<text text-anchor=\"middle\" x=\"413\" y=\"-1518.1\" font-family=\"Times,serif\" font-size=\"8.00\">KSPSolve_BCGS</text>\n<text text-anchor=\"end\" x=\"442\" y=\"-1509.1\" font-family=\"Times,serif\" font-size=\"8.00\">0 (0.0%)</text>\n<text text-anchor=\"end\" x=\"442\" y=\"-1500.1\" font-family=\"Times,serif\" font-size=\"8.00\">of 1265 (66.2%)</text>\n</g>\n<!-- N7&#45;&gt;N9 -->\n<g id=\"edge8\" class=\"edge\">\n<title>N7&#45;&gt;N9</title>\n<path fill=\"none\" stroke=\"black\" stroke-width=\"2\" d=\"M718.21,-1625.12C654.57,-1601.53 528.24,-1554.71 459.75,-1529.33\"/>\n<polygon fill=\"black\" stroke=\"black\" stroke-width=\"2\" points=\"460.68,-1525.94 450.08,-1525.75 458.24,-1532.5 460.68,-1525.94\"/>\n<text text-anchor=\"middle\" x=\"599\" y=\"-1566.8\" font-family=\"Times,serif\" font-size=\"14.00\">1265</text>\n</g>\n<!-- N14 -->\n<g id=\"node15\" class=\"node\">\n<title>N14</title>\n<polygon fill=\"none\" stroke=\"black\" points=\"802,-1528.5 712,-1528.5 712,-1493.5 802,-1493.5 802,-1528.5\"/>\n<text text-anchor=\"middle\" x=\"757\" y=\"-1518.1\" font-family=\"Times,serif\" font-size=\"8.00\">KSPSolve_PREONLY</text>\n<text text-anchor=\"end\" x=\"794\" y=\"-1509.1\" font-family=\"Times,serif\" font-size=\"8.00\">0 (0.0%)</text>\n<text text-anchor=\"end\" x=\"794\" y=\"-1500.1\" font-family=\"Times,serif\" font-size=\"8.00\">of 791 (41.4%)</text>\n</g>\n<!-- N7&#45;&gt;N14 -->\n<g id=\"edge18\" class=\"edge\">\n<title>N7&#45;&gt;N14</title>\n<path fill=\"none\" stroke=\"black\" stroke-width=\"2\" d=\"M757,-1622.83C757,-1601.45 757,-1564.11 757,-1538.73\"/>\n<polygon fill=\"black\" stroke=\"black\" stroke-width=\"2\" points=\"760.5,-1538.67 757,-1528.67 753.5,-1538.67 760.5,-1538.67\"/>\n<text text-anchor=\"middle\" x=\"767.5\" y=\"-1566.8\" font-family=\"Times,serif\" font-size=\"14.00\">791</text>\n</g>\n<!-- N36 -->\n<g id=\"node37\" class=\"node\">\n<title>N36</title>\n<polygon fill=\"none\" stroke=\"black\" points=\"904.5,-1528.5 821.5,-1528.5 821.5,-1493.5 904.5,-1493.5 904.5,-1528.5\"/>\n<text text-anchor=\"middle\" x=\"863\" y=\"-1518.1\" font-family=\"Times,serif\" font-size=\"8.00\">KSPSetUpOnBlocks</text>\n<text text-anchor=\"end\" x=\"896.5\" y=\"-1509.1\" font-family=\"Times,serif\" font-size=\"8.00\">0 (0.0%)</text>\n<text text-anchor=\"end\" x=\"896.5\" y=\"-1500.1\" font-family=\"Times,serif\" font-size=\"8.00\">of 89 (4.7%)</text>\n</g>\n<!-- N7&#45;&gt;N36 -->\n<g id=\"edge42\" class=\"edge\">\n<title>N7&#45;&gt;N36</title>\n<path fill=\"none\" stroke=\"black\" stroke-width=\"0.28\" d=\"M770.86,-1622.83C789.19,-1600.78 821.63,-1561.76 842.72,-1536.39\"/>\n<polygon fill=\"black\" stroke=\"black\" stroke-width=\"0.28\" points=\"845.44,-1538.6 849.14,-1528.67 840.05,-1534.12 845.44,-1538.6\"/>\n<text text-anchor=\"middle\" x=\"827\" y=\"-1566.8\" font-family=\"Times,serif\" font-size=\"14.00\">89</text>\n</g>\n<!-- N79 -->\n<g id=\"node80\" class=\"node\">\n<title>N79</title>\n<polygon fill=\"none\" stroke=\"black\" points=\"982,-1528.5 924,-1528.5 924,-1493.5 982,-1493.5 982,-1528.5\"/>\n<text text-anchor=\"middle\" x=\"953\" y=\"-1518.1\" font-family=\"Times,serif\" font-size=\"8.00\">VecSet</text>\n<text text-anchor=\"end\" x=\"974\" y=\"-1509.1\" font-family=\"Times,serif\" font-size=\"8.00\">0 (0.0%)</text>\n<text text-anchor=\"end\" x=\"974\" y=\"-1500.1\" font-family=\"Times,serif\" font-size=\"8.00\">of 16 (0.8%)</text>\n</g>\n<!-- N7&#45;&gt;N79 -->\n<g id=\"edge88\" class=\"edge\">\n<title>N7&#45;&gt;N79</title>\n<path fill=\"none\" stroke=\"black\" stroke-width=\"0.04\" d=\"M787.14,-1622.97C819.17,-1605.02 870.91,-1574.87 913,-1545 917.29,-1541.95 921.72,-1538.57 925.98,-1535.18\"/>\n<polygon fill=\"black\" stroke=\"black\" stroke-width=\"0.04\" points=\"928.38,-1537.73 933.92,-1528.7 923.96,-1532.31 928.38,-1537.73\"/>\n<text text-anchor=\"middle\" x=\"892\" y=\"-1566.8\" font-family=\"Times,serif\" font-size=\"14.00\">14</text>\n</g>\n<!-- N8&#45;&gt;N6 -->\n<g id=\"edge6\" class=\"edge\">\n<title>N8&#45;&gt;N6</title>\n<path fill=\"none\" stroke=\"black\" stroke-width=\"2\" d=\"M757,-1833.72C757,-1820.3 757,-1801.25 757,-1785.73\"/>\n<polygon fill=\"black\" stroke=\"black\" stroke-width=\"2\" points=\"760.5,-1785.68 757,-1775.68 753.5,-1785.68 760.5,-1785.68\"/>\n<text text-anchor=\"middle\" x=\"771\" y=\"-1801.8\" font-family=\"Times,serif\" font-size=\"14.00\">1355</text>\n</g>\n<!-- N10 -->\n<g id=\"node11\" class=\"node\">\n<title>N10</title>\n<polygon fill=\"none\" stroke=\"black\" points=\"460,-1417.5 366,-1417.5 366,-1382.5 460,-1382.5 460,-1417.5\"/>\n<text text-anchor=\"middle\" x=\"413\" y=\"-1407.1\" font-family=\"Times,serif\" font-size=\"8.00\">KSP_PCApplyBAorAB</text>\n<text text-anchor=\"end\" x=\"452\" y=\"-1398.1\" font-family=\"Times,serif\" font-size=\"8.00\">0 (0.0%)</text>\n<text text-anchor=\"end\" x=\"452\" y=\"-1389.1\" font-family=\"Times,serif\" font-size=\"8.00\">of 970 (50.8%)</text>\n</g>\n<!-- N9&#45;&gt;N10 -->\n<g id=\"edge9\" class=\"edge\">\n<title>N9&#45;&gt;N10</title>\n<path fill=\"none\" stroke=\"black\" stroke-width=\"2\" d=\"M413,-1493.45C413,-1476.08 413,-1448.51 413,-1427.99\"/>\n<polygon fill=\"black\" stroke=\"black\" stroke-width=\"2\" points=\"416.5,-1427.71 413,-1417.71 409.5,-1427.71 416.5,-1427.71\"/>\n<text text-anchor=\"middle\" x=\"423.5\" y=\"-1447.8\" font-family=\"Times,serif\" font-size=\"14.00\">970</text>\n</g>\n<!-- N27 -->\n<g id=\"node28\" class=\"node\">\n<title>N27</title>\n<polygon fill=\"none\" stroke=\"black\" points=\"345,-1417.5 283,-1417.5 283,-1382.5 345,-1382.5 345,-1417.5\"/>\n<text text-anchor=\"middle\" x=\"314\" y=\"-1407.1\" font-family=\"Times,serif\" font-size=\"8.00\">KSPMonitor</text>\n<text text-anchor=\"end\" x=\"337\" y=\"-1398.1\" font-family=\"Times,serif\" font-size=\"8.00\">0 (0.0%)</text>\n<text text-anchor=\"end\" x=\"337\" y=\"-1389.1\" font-family=\"Times,serif\" font-size=\"8.00\">of 149 (7.8%)</text>\n</g>\n<!-- N9&#45;&gt;N27 -->\n<g id=\"edge29\" class=\"edge\">\n<title>N9&#45;&gt;N27</title>\n<path fill=\"none\" stroke=\"black\" stroke-width=\"0.47\" d=\"M397.96,-1493.45C381.46,-1475.28 354.82,-1445.95 335.98,-1425.2\"/>\n<polygon fill=\"black\" stroke=\"black\" stroke-width=\"0.47\" points=\"338.49,-1422.76 329.18,-1417.71 333.31,-1427.47 338.49,-1422.76\"/>\n<text text-anchor=\"middle\" x=\"377.5\" y=\"-1447.8\" font-family=\"Times,serif\" font-size=\"14.00\">149</text>\n</g>\n<!-- N48 -->\n<g id=\"node49\" class=\"node\">\n<title>N48</title>\n<polygon fill=\"none\" stroke=\"black\" points=\"186,-1417.5 114,-1417.5 114,-1382.5 186,-1382.5 186,-1417.5\"/>\n<text text-anchor=\"middle\" x=\"150\" y=\"-1407.1\" font-family=\"Times,serif\" font-size=\"8.00\">VecAXPBYPCZ</text>\n<text text-anchor=\"end\" x=\"178\" y=\"-1398.1\" font-family=\"Times,serif\" font-size=\"8.00\">0 (0.0%)</text>\n<text text-anchor=\"end\" x=\"178\" y=\"-1389.1\" font-family=\"Times,serif\" font-size=\"8.00\">of 37 (1.9%)</text>\n</g>\n<!-- N9&#45;&gt;N48 -->\n<g id=\"edge50\" class=\"edge\">\n<title>N9&#45;&gt;N48</title>\n<path fill=\"none\" stroke=\"black\" stroke-width=\"0.12\" d=\"M375.96,-1507.85C331.51,-1503.82 256.1,-1492.24 201,-1459 187.23,-1450.7 175.18,-1437.45 166.25,-1425.71\"/>\n<polygon fill=\"black\" stroke=\"black\" stroke-width=\"0.12\" points=\"169.01,-1423.57 160.32,-1417.52 163.35,-1427.67 169.01,-1423.57\"/>\n<text text-anchor=\"middle\" x=\"208\" y=\"-1447.8\" font-family=\"Times,serif\" font-size=\"14.00\">37</text>\n</g>\n<!-- N54 -->\n<g id=\"node55\" class=\"node\">\n<title>N54</title>\n<polygon fill=\"none\" stroke=\"black\" points=\"557.5,-1417.5 478.5,-1417.5 478.5,-1382.5 557.5,-1382.5 557.5,-1417.5\"/>\n<text text-anchor=\"middle\" x=\"518\" y=\"-1407.1\" font-family=\"Times,serif\" font-size=\"8.00\">KSPInitialResidual</text>\n<text text-anchor=\"end\" x=\"549.5\" y=\"-1398.1\" font-family=\"Times,serif\" font-size=\"8.00\">0 (0.0%)</text>\n<text text-anchor=\"end\" x=\"549.5\" y=\"-1389.1\" font-family=\"Times,serif\" font-size=\"8.00\">of 29 (1.5%)</text>\n</g>\n<!-- N9&#45;&gt;N54 -->\n<g id=\"edge57\" class=\"edge\">\n<title>N9&#45;&gt;N54</title>\n<path fill=\"none\" stroke=\"black\" stroke-width=\"0.09\" d=\"M428.95,-1493.45C446.52,-1475.2 474.95,-1445.69 494.95,-1424.93\"/>\n<polygon fill=\"black\" stroke=\"black\" stroke-width=\"0.09\" points=\"497.49,-1427.34 501.9,-1417.71 492.44,-1422.48 497.49,-1427.34\"/>\n<text text-anchor=\"middle\" x=\"482\" y=\"-1447.8\" font-family=\"Times,serif\" font-size=\"14.00\">29</text>\n</g>\n<!-- N55 -->\n<g id=\"node56\" class=\"node\">\n<title>N55</title>\n<polygon fill=\"none\" stroke=\"black\" points=\"691,-1417.5 601,-1417.5 601,-1382.5 691,-1382.5 691,-1417.5\"/>\n<text text-anchor=\"middle\" x=\"646\" y=\"-1407.1\" font-family=\"Times,serif\" font-size=\"8.00\">KSPConvergedDefault</text>\n<text text-anchor=\"end\" x=\"683\" y=\"-1398.1\" font-family=\"Times,serif\" font-size=\"8.00\">0 (0.0%)</text>\n<text text-anchor=\"end\" x=\"683\" y=\"-1389.1\" font-family=\"Times,serif\" font-size=\"8.00\">of 22 (1.2%)</text>\n</g>\n<!-- N9&#45;&gt;N55 -->\n<g id=\"edge63\" class=\"edge\">\n<title>N9&#45;&gt;N55</title>\n<path fill=\"none\" stroke=\"black\" stroke-width=\"0.07\" d=\"M448.39,-1493.45C489.39,-1474.26 557.01,-1442.63 601.53,-1421.8\"/>\n<polygon fill=\"black\" stroke=\"black\" stroke-width=\"0.07\" points=\"603.09,-1424.94 610.66,-1417.53 600.12,-1418.6 603.09,-1424.94\"/>\n<text text-anchor=\"middle\" x=\"558\" y=\"-1447.8\" font-family=\"Times,serif\" font-size=\"14.00\">22</text>\n</g>\n<!-- N58 -->\n<g id=\"node59\" class=\"node\">\n<title>N58</title>\n<polygon fill=\"none\" stroke=\"black\" points=\"250,-1181 192,-1181 192,-1146 250,-1146 250,-1181\"/>\n<text text-anchor=\"middle\" x=\"221\" y=\"-1170.6\" font-family=\"Times,serif\" font-size=\"8.00\">VecNorm</text>\n<text text-anchor=\"end\" x=\"242\" y=\"-1161.6\" font-family=\"Times,serif\" font-size=\"8.00\">0 (0.0%)</text>\n<text text-anchor=\"end\" x=\"242\" y=\"-1152.6\" font-family=\"Times,serif\" font-size=\"8.00\">of 22 (1.2%)</text>\n</g>\n<!-- N9&#45;&gt;N58 -->\n<g id=\"edge90\" class=\"edge\">\n<title>N9&#45;&gt;N58</title>\n<path fill=\"none\" stroke=\"black\" stroke-width=\"0.03\" d=\"M375.98,-1497.4C343.93,-1484.54 298.92,-1461.39 274,-1426 222.69,-1353.14 218.57,-1242.11 219.69,-1191.42\"/>\n<polygon fill=\"black\" stroke=\"black\" stroke-width=\"0.03\" points=\"223.19,-1191.38 220,-1181.28 216.19,-1191.16 223.19,-1191.38\"/>\n<text text-anchor=\"middle\" x=\"247\" y=\"-1330.3\" font-family=\"Times,serif\" font-size=\"14.00\">11</text>\n</g>\n<!-- N60 -->\n<g id=\"node61\" class=\"node\">\n<title>N60</title>\n<polygon fill=\"none\" stroke=\"black\" points=\"67,-1417.5 9,-1417.5 9,-1382.5 67,-1382.5 67,-1417.5\"/>\n<text text-anchor=\"middle\" x=\"38\" y=\"-1407.1\" font-family=\"Times,serif\" font-size=\"8.00\">VecDot</text>\n<text text-anchor=\"end\" x=\"59\" y=\"-1398.1\" font-family=\"Times,serif\" font-size=\"8.00\">0 (0.0%)</text>\n<text text-anchor=\"end\" x=\"59\" y=\"-1389.1\" font-family=\"Times,serif\" font-size=\"8.00\">of 21 (1.1%)</text>\n</g>\n<!-- N9&#45;&gt;N60 -->\n<g id=\"edge65\" class=\"edge\">\n<title>N9&#45;&gt;N60</title>\n<path fill=\"none\" stroke=\"black\" stroke-width=\"0.07\" d=\"M375.77,-1505.02C326.66,-1497.86 237.92,-1482.81 165,-1459 134.15,-1448.93 100.83,-1433.52 76.06,-1421.12\"/>\n<polygon fill=\"black\" stroke=\"black\" stroke-width=\"0.07\" points=\"77.51,-1417.93 67.01,-1416.53 74.35,-1424.18 77.51,-1417.93\"/>\n<text text-anchor=\"middle\" x=\"172\" y=\"-1447.8\" font-family=\"Times,serif\" font-size=\"14.00\">21</text>\n</g>\n<!-- N11 -->\n<g id=\"node12\" class=\"node\">\n<title>N11</title>\n<polygon fill=\"none\" stroke=\"black\" points=\"450.5,-1290.5 375.5,-1290.5 375.5,-1255.5 450.5,-1255.5 450.5,-1290.5\"/>\n<text text-anchor=\"middle\" x=\"413\" y=\"-1280.1\" font-family=\"Times,serif\" font-size=\"8.00\">PCApplyBAorAB</text>\n<text text-anchor=\"end\" x=\"442.5\" y=\"-1271.1\" font-family=\"Times,serif\" font-size=\"8.00\">0 (0.0%)</text>\n<text text-anchor=\"end\" x=\"442.5\" y=\"-1262.1\" font-family=\"Times,serif\" font-size=\"8.00\">of 970 (50.8%)</text>\n</g>\n<!-- N10&#45;&gt;N11 -->\n<g id=\"edge10\" class=\"edge\">\n<title>N10&#45;&gt;N11</title>\n<path fill=\"none\" stroke=\"black\" stroke-width=\"2\" d=\"M413,-1382.4C413,-1361.57 413,-1325.59 413,-1300.84\"/>\n<polygon fill=\"black\" stroke=\"black\" stroke-width=\"2\" points=\"416.5,-1300.67 413,-1290.67 409.5,-1300.67 416.5,-1300.67\"/>\n<text text-anchor=\"middle\" x=\"423.5\" y=\"-1330.3\" font-family=\"Times,serif\" font-size=\"14.00\">970</text>\n</g>\n<!-- N12 -->\n<g id=\"node13\" class=\"node\">\n<title>N12</title>\n<polygon fill=\"none\" stroke=\"black\" points=\"789.5,-1181 724.5,-1181 724.5,-1146 789.5,-1146 789.5,-1181\"/>\n<text text-anchor=\"middle\" x=\"757\" y=\"-1170.6\" font-family=\"Times,serif\" font-size=\"8.00\">PCApply</text>\n<text text-anchor=\"end\" x=\"781.5\" y=\"-1161.6\" font-family=\"Times,serif\" font-size=\"8.00\">0 (0.0%)</text>\n<text text-anchor=\"end\" x=\"781.5\" y=\"-1152.6\" font-family=\"Times,serif\" font-size=\"8.00\">of 805 (42.1%)</text>\n</g>\n<!-- N11&#45;&gt;N12 -->\n<g id=\"edge19\" class=\"edge\">\n<title>N11&#45;&gt;N12</title>\n<path fill=\"none\" stroke=\"black\" stroke-width=\"2\" d=\"M450.36,-1255.42C487.68,-1239.34 546.97,-1215.07 600,-1199 638.2,-1187.42 682.72,-1178.01 714.57,-1171.96\"/>\n<polygon fill=\"black\" stroke=\"black\" stroke-width=\"2\" points=\"715.26,-1175.4 724.45,-1170.12 713.98,-1168.52 715.26,-1175.4\"/>\n<text text-anchor=\"middle\" x=\"610.5\" y=\"-1212.8\" font-family=\"Times,serif\" font-size=\"14.00\">761</text>\n</g>\n<!-- N21 -->\n<g id=\"node22\" class=\"node\">\n<title>N21</title>\n<polygon fill=\"none\" stroke=\"black\" points=\"437.5,-848.5 372.5,-848.5 372.5,-813.5 437.5,-813.5 437.5,-848.5\"/>\n<text text-anchor=\"middle\" x=\"405\" y=\"-838.1\" font-family=\"Times,serif\" font-size=\"8.00\">MatMult</text>\n<text text-anchor=\"end\" x=\"429.5\" y=\"-829.1\" font-family=\"Times,serif\" font-size=\"8.00\">0 (0.0%)</text>\n<text text-anchor=\"end\" x=\"429.5\" y=\"-820.1\" font-family=\"Times,serif\" font-size=\"8.00\">of 320 (16.8%)</text>\n</g>\n<!-- N11&#45;&gt;N21 -->\n<g id=\"edge26\" class=\"edge\">\n<title>N11&#45;&gt;N21</title>\n<path fill=\"none\" stroke=\"black\" stroke-width=\"0.66\" d=\"M410.98,-1255.27C408.61,-1234.15 405,-1196.69 405,-1164.5 405,-1164.5 405,-1164.5 405,-958.5 405,-924.1 405,-884.44 405,-858.84\"/>\n<polygon fill=\"black\" stroke=\"black\" stroke-width=\"0.66\" points=\"408.5,-858.78 405,-848.78 401.5,-858.78 408.5,-858.78\"/>\n<text text-anchor=\"middle\" x=\"415.5\" y=\"-1053.8\" font-family=\"Times,serif\" font-size=\"14.00\">209</text>\n</g>\n<!-- N13 -->\n<g id=\"node14\" class=\"node\">\n<title>N13</title>\n<polygon fill=\"none\" stroke=\"black\" points=\"985,-1075 869,-1075 869,-1040 985,-1040 985,-1075\"/>\n<text text-anchor=\"middle\" x=\"927\" y=\"-1064.6\" font-family=\"Times,serif\" font-size=\"8.00\">PCApply_BJacobi_Singleblock</text>\n<text text-anchor=\"end\" x=\"977\" y=\"-1055.6\" font-family=\"Times,serif\" font-size=\"8.00\">0 (0.0%)</text>\n<text text-anchor=\"end\" x=\"977\" y=\"-1046.6\" font-family=\"Times,serif\" font-size=\"8.00\">of 805 (42.1%)</text>\n</g>\n<!-- N12&#45;&gt;N13 -->\n<g id=\"edge12\" class=\"edge\">\n<title>N12&#45;&gt;N13</title>\n<path fill=\"none\" stroke=\"black\" stroke-width=\"2\" d=\"M784.31,-1145.79C813.31,-1128.05 859.27,-1099.94 891.16,-1080.43\"/>\n<polygon fill=\"black\" stroke=\"black\" stroke-width=\"2\" points=\"893.05,-1083.37 899.75,-1075.17 889.4,-1077.4 893.05,-1083.37\"/>\n<text text-anchor=\"middle\" x=\"878.5\" y=\"-1106.8\" font-family=\"Times,serif\" font-size=\"14.00\">805</text>\n</g>\n<!-- N18 -->\n<g id=\"node19\" class=\"node\">\n<title>N18</title>\n<polygon fill=\"none\" stroke=\"black\" points=\"789.5,-1075 724.5,-1075 724.5,-1040 789.5,-1040 789.5,-1075\"/>\n<text text-anchor=\"middle\" x=\"757\" y=\"-1064.6\" font-family=\"Times,serif\" font-size=\"8.00\">PCApply_ILU</text>\n<text text-anchor=\"end\" x=\"781.5\" y=\"-1055.6\" font-family=\"Times,serif\" font-size=\"8.00\">0 (0.0%)</text>\n<text text-anchor=\"end\" x=\"781.5\" y=\"-1046.6\" font-family=\"Times,serif\" font-size=\"8.00\">of 791 (41.4%)</text>\n</g>\n<!-- N12&#45;&gt;N18 -->\n<g id=\"edge16\" class=\"edge\">\n<title>N12&#45;&gt;N18</title>\n<path fill=\"none\" stroke=\"black\" stroke-width=\"2\" d=\"M757,-1145.79C757,-1129.49 757,-1104.43 757,-1085.34\"/>\n<polygon fill=\"black\" stroke=\"black\" stroke-width=\"2\" points=\"760.5,-1085.17 757,-1075.17 753.5,-1085.17 760.5,-1085.17\"/>\n<text text-anchor=\"middle\" x=\"767.5\" y=\"-1106.8\" font-family=\"Times,serif\" font-size=\"14.00\">791</text>\n</g>\n<!-- N13&#45;&gt;N6 -->\n<g id=\"edge11\" class=\"edge\">\n<title>N13&#45;&gt;N6</title>\n<path fill=\"none\" stroke=\"black\" stroke-width=\"2\" d=\"M952.35,-1075.13C976.76,-1093.37 1010,-1125.08 1010,-1162.5 1010,-1641.5 1010,-1641.5 1010,-1641.5 1010,-1731.93 874.59,-1751.86 801.89,-1756.05\"/>\n<polygon fill=\"black\" stroke=\"black\" stroke-width=\"2\" points=\"801.46,-1752.57 791.65,-1756.56 801.81,-1759.56 801.46,-1752.57\"/>\n<text text-anchor=\"middle\" x=\"1020.5\" y=\"-1396.3\" font-family=\"Times,serif\" font-size=\"14.00\">805</text>\n</g>\n<!-- N15 -->\n<g id=\"node16\" class=\"node\">\n<title>N15</title>\n<polygon fill=\"none\" stroke=\"black\" points=\"789.5,-1356 724.5,-1356 724.5,-1312 789.5,-1312 789.5,-1356\"/>\n<text text-anchor=\"middle\" x=\"757\" y=\"-1345.6\" font-family=\"Times,serif\" font-size=\"8.00\">KSP_PCApply</text>\n<text text-anchor=\"middle\" x=\"757\" y=\"-1336.6\" font-family=\"Times,serif\" font-size=\"8.00\">(inline)</text>\n<text text-anchor=\"end\" x=\"781.5\" y=\"-1327.6\" font-family=\"Times,serif\" font-size=\"8.00\">0 (0.0%)</text>\n<text text-anchor=\"end\" x=\"781.5\" y=\"-1318.6\" font-family=\"Times,serif\" font-size=\"8.00\">of 791 (41.4%)</text>\n</g>\n<!-- N14&#45;&gt;N15 -->\n<g id=\"edge15\" class=\"edge\">\n<title>N14&#45;&gt;N15</title>\n<path fill=\"none\" stroke=\"black\" stroke-width=\"2\" stroke-dasharray=\"5,2\" d=\"M757,-1493.22C757,-1464.02 757,-1403.44 757,-1366.29\"/>\n<polygon fill=\"black\" stroke=\"black\" stroke-width=\"2\" points=\"760.5,-1366.03 757,-1356.03 753.5,-1366.03 760.5,-1366.03\"/>\n<text text-anchor=\"middle\" x=\"767.5\" y=\"-1447.8\" font-family=\"Times,serif\" font-size=\"14.00\">791</text>\n</g>\n<!-- N15&#45;&gt;N12 -->\n<g id=\"edge17\" class=\"edge\">\n<title>N15&#45;&gt;N12</title>\n<path fill=\"none\" stroke=\"black\" stroke-width=\"2\" d=\"M757,-1311.66C757,-1281.11 757,-1224.91 757,-1191.5\"/>\n<polygon fill=\"black\" stroke=\"black\" stroke-width=\"2\" points=\"760.5,-1191.12 757,-1181.12 753.5,-1191.12 760.5,-1191.12\"/>\n<text text-anchor=\"middle\" x=\"767.5\" y=\"-1269.3\" font-family=\"Times,serif\" font-size=\"14.00\">791</text>\n</g>\n<!-- N16 -->\n<g id=\"node17\" class=\"node\">\n<title>N16</title>\n<polygon fill=\"none\" stroke=\"black\" points=\"789.5,-977 724.5,-977 724.5,-942 789.5,-942 789.5,-977\"/>\n<text text-anchor=\"middle\" x=\"757\" y=\"-966.6\" font-family=\"Times,serif\" font-size=\"8.00\">MatSolve</text>\n<text text-anchor=\"end\" x=\"781.5\" y=\"-957.6\" font-family=\"Times,serif\" font-size=\"8.00\">0 (0.0%)</text>\n<text text-anchor=\"end\" x=\"781.5\" y=\"-948.6\" font-family=\"Times,serif\" font-size=\"8.00\">of 791 (41.4%)</text>\n</g>\n<!-- N17 -->\n<g id=\"node18\" class=\"node\">\n<title>N17</title>\n<polygon fill=\"none\" stroke=\"black\" points=\"1058,-879 456,-879 456,-783 1058,-783 1058,-879\"/>\n<text text-anchor=\"middle\" x=\"757\" y=\"-842.84\" font-family=\"Times,serif\" font-size=\"40.20\">MatSolve_SeqAIJ_NaturalOrdering</text>\n<text text-anchor=\"end\" x=\"1050\" y=\"-798.84\" font-family=\"Times,serif\" font-size=\"40.20\">791 (41.4%)</text>\n</g>\n<!-- N16&#45;&gt;N17 -->\n<g id=\"edge13\" class=\"edge\">\n<title>N16&#45;&gt;N17</title>\n<path fill=\"none\" stroke=\"black\" stroke-width=\"2\" d=\"M757,-941.96C757,-928.45 757,-908.52 757,-889.32\"/>\n<polygon fill=\"black\" stroke=\"black\" stroke-width=\"2\" points=\"760.5,-889.08 757,-879.08 753.5,-889.08 760.5,-889.08\"/>\n<text text-anchor=\"middle\" x=\"767.5\" y=\"-900.8\" font-family=\"Times,serif\" font-size=\"14.00\">791</text>\n</g>\n<!-- N18&#45;&gt;N16 -->\n<g id=\"edge14\" class=\"edge\">\n<title>N18&#45;&gt;N16</title>\n<path fill=\"none\" stroke=\"black\" stroke-width=\"2\" d=\"M757,-1039.78C757,-1025.32 757,-1004.17 757,-987.35\"/>\n<polygon fill=\"black\" stroke=\"black\" stroke-width=\"2\" points=\"760.5,-987.03 757,-977.03 753.5,-987.03 760.5,-987.03\"/>\n<text text-anchor=\"middle\" x=\"767.5\" y=\"-1010.8\" font-family=\"Times,serif\" font-size=\"14.00\">791</text>\n</g>\n<!-- N19 -->\n<g id=\"node20\" class=\"node\">\n<title>N19</title>\n<polygon fill=\"none\" stroke=\"black\" points=\"1121.5,-1780 1038.5,-1780 1038.5,-1736 1121.5,-1736 1121.5,-1780\"/>\n<text text-anchor=\"middle\" x=\"1080\" y=\"-1767.52\" font-family=\"Times,serif\" font-size=\"10.60\">bipole2_</text>\n<text text-anchor=\"end\" x=\"1113.5\" y=\"-1755.52\" font-family=\"Times,serif\" font-size=\"10.60\">5 (0.3%)</text>\n<text text-anchor=\"end\" x=\"1113.5\" y=\"-1743.52\" font-family=\"Times,serif\" font-size=\"10.60\">of 500 (26.2%)</text>\n</g>\n<!-- N20 -->\n<g id=\"node21\" class=\"node\">\n<title>N20</title>\n<polygon fill=\"none\" stroke=\"black\" points=\"1202,-1685 1038,-1685 1038,-1596 1202,-1596 1202,-1685\"/>\n<text text-anchor=\"middle\" x=\"1120\" y=\"-1661.64\" font-family=\"Times,serif\" font-size=\"24.20\">kernel2_</text>\n<text text-anchor=\"end\" x=\"1194\" y=\"-1634.64\" font-family=\"Times,serif\" font-size=\"24.20\">201 (10.5%)</text>\n<text text-anchor=\"end\" x=\"1194\" y=\"-1607.64\" font-family=\"Times,serif\" font-size=\"24.20\">of 495 (25.9%)</text>\n</g>\n<!-- N19&#45;&gt;N20 -->\n<g id=\"edge20\" class=\"edge\">\n<title>N19&#45;&gt;N20</title>\n<path fill=\"none\" stroke=\"black\" stroke-width=\"1.55\" d=\"M1087.34,-1735.82C1091.37,-1724.17 1096.57,-1709.15 1101.63,-1694.54\"/>\n<polygon fill=\"black\" stroke=\"black\" stroke-width=\"1.55\" points=\"1104.96,-1695.63 1104.92,-1685.04 1098.34,-1693.34 1104.96,-1695.63\"/>\n<text text-anchor=\"middle\" x=\"1108.5\" y=\"-1706.8\" font-family=\"Times,serif\" font-size=\"14.00\">495</text>\n</g>\n<!-- N26 -->\n<g id=\"node27\" class=\"node\">\n<title>N26</title>\n<polygon fill=\"none\" stroke=\"black\" points=\"1353,-1540.5 1197,-1540.5 1197,-1481.5 1353,-1481.5 1353,-1540.5\"/>\n<text text-anchor=\"middle\" x=\"1275\" y=\"-1524.42\" font-family=\"Times,serif\" font-size=\"15.10\">cexp@@GLIBC_2.2.5</text>\n<text text-anchor=\"end\" x=\"1345\" y=\"-1507.42\" font-family=\"Times,serif\" font-size=\"15.10\">38 (2.0%)</text>\n<text text-anchor=\"end\" x=\"1345\" y=\"-1490.42\" font-family=\"Times,serif\" font-size=\"15.10\">of 172 (9.0%)</text>\n</g>\n<!-- N20&#45;&gt;N26 -->\n<g id=\"edge27\" class=\"edge\">\n<title>N20&#45;&gt;N26</title>\n<path fill=\"none\" stroke=\"black\" stroke-width=\"0.54\" d=\"M1172.91,-1595.98C1192.23,-1580.09 1213.82,-1562.33 1232.15,-1547.25\"/>\n<polygon fill=\"black\" stroke=\"black\" stroke-width=\"0.54\" points=\"1234.83,-1549.58 1240.33,-1540.52 1230.38,-1544.17 1234.83,-1549.58\"/>\n<text text-anchor=\"middle\" x=\"1222.5\" y=\"-1566.8\" font-family=\"Times,serif\" font-size=\"14.00\">172</text>\n</g>\n<!-- N31 -->\n<g id=\"node32\" class=\"node\">\n<title>N31</title>\n<polygon fill=\"none\" stroke=\"black\" points=\"1179,-1545 1061,-1545 1061,-1477 1179,-1477 1179,-1545\"/>\n<text text-anchor=\"middle\" x=\"1120\" y=\"-1526.12\" font-family=\"Times,serif\" font-size=\"18.60\">csqrtf64</text>\n<text text-anchor=\"end\" x=\"1171\" y=\"-1506.12\" font-family=\"Times,serif\" font-size=\"18.60\">86 (4.5%)</text>\n<text text-anchor=\"end\" x=\"1171\" y=\"-1486.12\" font-family=\"Times,serif\" font-size=\"18.60\">of 121 (6.3%)</text>\n</g>\n<!-- N20&#45;&gt;N31 -->\n<g id=\"edge32\" class=\"edge\">\n<title>N20&#45;&gt;N31</title>\n<path fill=\"none\" stroke=\"black\" stroke-width=\"0.38\" d=\"M1120,-1595.98C1120,-1582.89 1120,-1568.52 1120,-1555.44\"/>\n<polygon fill=\"black\" stroke=\"black\" stroke-width=\"0.38\" points=\"1123.5,-1555.26 1120,-1545.26 1116.5,-1555.26 1123.5,-1555.26\"/>\n<text text-anchor=\"middle\" x=\"1130.5\" y=\"-1566.8\" font-family=\"Times,serif\" font-size=\"14.00\">121</text>\n</g>\n<!-- N22 -->\n<g id=\"node23\" class=\"node\">\n<title>N22</title>\n<polygon fill=\"none\" stroke=\"black\" points=\"442,-720 368,-720 368,-685 442,-685 442,-720\"/>\n<text text-anchor=\"middle\" x=\"405\" y=\"-709.6\" font-family=\"Times,serif\" font-size=\"8.00\">MatMult_MPIAIJ</text>\n<text text-anchor=\"end\" x=\"434\" y=\"-700.6\" font-family=\"Times,serif\" font-size=\"8.00\">0 (0.0%)</text>\n<text text-anchor=\"end\" x=\"434\" y=\"-691.6\" font-family=\"Times,serif\" font-size=\"8.00\">of 320 (16.8%)</text>\n</g>\n<!-- N21&#45;&gt;N22 -->\n<g id=\"edge21\" class=\"edge\">\n<title>N21&#45;&gt;N22</title>\n<path fill=\"none\" stroke=\"black\" stroke-width=\"1.01\" d=\"M405,-813.46C405,-792.34 405,-755.53 405,-730.36\"/>\n<polygon fill=\"black\" stroke=\"black\" stroke-width=\"1.01\" points=\"408.5,-730.04 405,-720.04 401.5,-730.04 408.5,-730.04\"/>\n<text text-anchor=\"middle\" x=\"415.5\" y=\"-753.8\" font-family=\"Times,serif\" font-size=\"14.00\">320</text>\n</g>\n<!-- N23 -->\n<g id=\"node24\" class=\"node\">\n<title>N23</title>\n<polygon fill=\"none\" stroke=\"black\" points=\"441,-617.5 369,-617.5 369,-582.5 441,-582.5 441,-617.5\"/>\n<text text-anchor=\"middle\" x=\"405\" y=\"-607.1\" font-family=\"Times,serif\" font-size=\"8.00\">MatMult_SeqAIJ</text>\n<text text-anchor=\"end\" x=\"433\" y=\"-598.1\" font-family=\"Times,serif\" font-size=\"8.00\">0 (0.0%)</text>\n<text text-anchor=\"end\" x=\"433\" y=\"-589.1\" font-family=\"Times,serif\" font-size=\"8.00\">of 320 (16.8%)</text>\n</g>\n<!-- N22&#45;&gt;N23 -->\n<g id=\"edge22\" class=\"edge\">\n<title>N22&#45;&gt;N23</title>\n<path fill=\"none\" stroke=\"black\" stroke-width=\"1.01\" d=\"M405,-684.9C405,-669.41 405,-646.02 405,-627.87\"/>\n<polygon fill=\"black\" stroke=\"black\" stroke-width=\"1.01\" points=\"408.5,-627.62 405,-617.62 401.5,-627.62 408.5,-627.62\"/>\n<text text-anchor=\"middle\" x=\"415.5\" y=\"-643.8\" font-family=\"Times,serif\" font-size=\"14.00\">320</text>\n</g>\n<!-- N24 -->\n<g id=\"node25\" class=\"node\">\n<title>N24</title>\n<polygon fill=\"none\" stroke=\"black\" points=\"501,-527 309,-527 309,-457 501,-457 501,-527\"/>\n<text text-anchor=\"middle\" x=\"405\" y=\"-500.2\" font-family=\"Times,serif\" font-size=\"28.50\">fortranmultaij_</text>\n<text text-anchor=\"end\" x=\"493\" y=\"-469.2\" font-family=\"Times,serif\" font-size=\"28.50\">320 (16.8%)</text>\n</g>\n<!-- N23&#45;&gt;N24 -->\n<g id=\"edge23\" class=\"edge\">\n<title>N23&#45;&gt;N24</title>\n<path fill=\"none\" stroke=\"black\" stroke-width=\"1.01\" d=\"M405,-582.44C405,-570.4 405,-553.5 405,-537.63\"/>\n<polygon fill=\"black\" stroke=\"black\" stroke-width=\"1.01\" points=\"408.5,-537.42 405,-527.42 401.5,-537.42 408.5,-537.42\"/>\n<text text-anchor=\"middle\" x=\"415.5\" y=\"-548.8\" font-family=\"Times,serif\" font-size=\"14.00\">320</text>\n</g>\n<!-- N25&#45;&gt;N19 -->\n<g id=\"edge24\" class=\"edge\">\n<title>N25&#45;&gt;N19</title>\n<path fill=\"none\" stroke=\"black\" stroke-width=\"0.88\" d=\"M1014.67,-1833.72C1025.89,-1820.89 1041.62,-1802.9 1054.83,-1787.78\"/>\n<polygon fill=\"black\" stroke=\"black\" stroke-width=\"0.88\" points=\"1057.53,-1790.02 1061.48,-1780.19 1052.26,-1785.41 1057.53,-1790.02\"/>\n<text text-anchor=\"middle\" x=\"1055.5\" y=\"-1801.8\" font-family=\"Times,serif\" font-size=\"14.00\">280</text>\n</g>\n<!-- N32 -->\n<g id=\"node33\" class=\"node\">\n<title>N32</title>\n<polygon fill=\"none\" stroke=\"black\" points=\"1486.5,-1426 1381.5,-1426 1381.5,-1374 1486.5,-1374 1486.5,-1426\"/>\n<text text-anchor=\"middle\" x=\"1434\" y=\"-1405.84\" font-family=\"Times,serif\" font-size=\"20.20\">sincosf64</text>\n<text text-anchor=\"end\" x=\"1478.5\" y=\"-1383.84\" font-family=\"Times,serif\" font-size=\"20.20\">114 (6.0%)</text>\n</g>\n<!-- N26&#45;&gt;N32 -->\n<g id=\"edge33\" class=\"edge\">\n<title>N26&#45;&gt;N32</title>\n<path fill=\"none\" stroke=\"black\" stroke-width=\"0.36\" d=\"M1316.78,-1481.36C1338.97,-1466.15 1366.26,-1447.44 1388.93,-1431.9\"/>\n<polygon fill=\"black\" stroke=\"black\" stroke-width=\"0.36\" points=\"1391.1,-1434.65 1397.37,-1426.11 1387.15,-1428.88 1391.1,-1434.65\"/>\n<text text-anchor=\"middle\" x=\"1378.5\" y=\"-1447.8\" font-family=\"Times,serif\" font-size=\"14.00\">114</text>\n</g>\n<!-- N75 -->\n<g id=\"node76\" class=\"node\">\n<title>N75</title>\n<polygon fill=\"none\" stroke=\"black\" points=\"1363.5,-1418 1186.5,-1418 1186.5,-1382 1363.5,-1382 1363.5,-1418\"/>\n<text text-anchor=\"middle\" x=\"1275\" y=\"-1403.68\" font-family=\"Times,serif\" font-size=\"12.90\">f64xsubf128@@GLIBC_2.28</text>\n<text text-anchor=\"end\" x=\"1355.5\" y=\"-1389.68\" font-family=\"Times,serif\" font-size=\"12.90\">18 (0.9%)</text>\n</g>\n<!-- N26&#45;&gt;N75 -->\n<g id=\"edge79\" class=\"edge\">\n<title>N26&#45;&gt;N75</title>\n<path fill=\"none\" stroke=\"black\" stroke-width=\"0.06\" d=\"M1275,-1481.36C1275,-1465.06 1275,-1444.75 1275,-1428.62\"/>\n<polygon fill=\"black\" stroke=\"black\" stroke-width=\"0.06\" points=\"1278.5,-1428.23 1275,-1418.23 1271.5,-1428.23 1278.5,-1428.23\"/>\n<text text-anchor=\"middle\" x=\"1282\" y=\"-1447.8\" font-family=\"Times,serif\" font-size=\"14.00\">18</text>\n</g>\n<!-- N28 -->\n<g id=\"node29\" class=\"node\">\n<title>N28</title>\n<polygon fill=\"none\" stroke=\"black\" points=\"357,-1290.5 257,-1290.5 257,-1255.5 357,-1255.5 357,-1290.5\"/>\n<text text-anchor=\"middle\" x=\"307\" y=\"-1280.1\" font-family=\"Times,serif\" font-size=\"8.00\">KSPMonitorTrueResidual</text>\n<text text-anchor=\"end\" x=\"349\" y=\"-1271.1\" font-family=\"Times,serif\" font-size=\"8.00\">0 (0.0%)</text>\n<text text-anchor=\"end\" x=\"349\" y=\"-1262.1\" font-family=\"Times,serif\" font-size=\"8.00\">of 149 (7.8%)</text>\n</g>\n<!-- N27&#45;&gt;N28 -->\n<g id=\"edge28\" class=\"edge\">\n<title>N27&#45;&gt;N28</title>\n<path fill=\"none\" stroke=\"black\" stroke-width=\"0.47\" d=\"M313.07,-1382.4C311.9,-1361.57 309.89,-1325.59 308.5,-1300.84\"/>\n<polygon fill=\"black\" stroke=\"black\" stroke-width=\"0.47\" points=\"311.99,-1300.46 307.93,-1290.67 305,-1300.85 311.99,-1300.46\"/>\n<text text-anchor=\"middle\" x=\"322.5\" y=\"-1330.3\" font-family=\"Times,serif\" font-size=\"14.00\">149</text>\n</g>\n<!-- N29 -->\n<g id=\"node30\" class=\"node\">\n<title>N29</title>\n<polygon fill=\"none\" stroke=\"black\" points=\"345.5,-1181 268.5,-1181 268.5,-1146 345.5,-1146 345.5,-1181\"/>\n<text text-anchor=\"middle\" x=\"307\" y=\"-1170.6\" font-family=\"Times,serif\" font-size=\"8.00\">KSPBuildResidual</text>\n<text text-anchor=\"end\" x=\"337.5\" y=\"-1161.6\" font-family=\"Times,serif\" font-size=\"8.00\">0 (0.0%)</text>\n<text text-anchor=\"end\" x=\"337.5\" y=\"-1152.6\" font-family=\"Times,serif\" font-size=\"8.00\">of 140 (7.3%)</text>\n</g>\n<!-- N28&#45;&gt;N29 -->\n<g id=\"edge30\" class=\"edge\">\n<title>N28&#45;&gt;N29</title>\n<path fill=\"none\" stroke=\"black\" stroke-width=\"0.44\" d=\"M307,-1255.2C307,-1238.08 307,-1211.27 307,-1191.23\"/>\n<polygon fill=\"black\" stroke=\"black\" stroke-width=\"0.44\" points=\"310.5,-1191.18 307,-1181.18 303.5,-1191.18 310.5,-1191.18\"/>\n<text text-anchor=\"middle\" x=\"317.5\" y=\"-1212.8\" font-family=\"Times,serif\" font-size=\"14.00\">140</text>\n</g>\n<!-- N28&#45;&gt;N58 -->\n<g id=\"edge92\" class=\"edge\">\n<title>N28&#45;&gt;N58</title>\n<path fill=\"none\" stroke=\"black\" stroke-width=\"0.03\" d=\"M293.56,-1255.2C279.36,-1237.45 256.83,-1209.28 240.64,-1189.04\"/>\n<polygon fill=\"black\" stroke=\"black\" stroke-width=\"0.03\" points=\"243.32,-1186.8 234.34,-1181.18 237.86,-1191.17 243.32,-1186.8\"/>\n<text text-anchor=\"middle\" x=\"278.5\" y=\"-1212.8\" font-family=\"Times,serif\" font-size=\"14.00\">9</text>\n</g>\n<!-- N30 -->\n<g id=\"node31\" class=\"node\">\n<title>N30</title>\n<polygon fill=\"none\" stroke=\"black\" points=\"361.5,-1075 260.5,-1075 260.5,-1040 361.5,-1040 361.5,-1075\"/>\n<text text-anchor=\"middle\" x=\"311\" y=\"-1064.6\" font-family=\"Times,serif\" font-size=\"8.00\">KSPBuildResidualDefault</text>\n<text text-anchor=\"end\" x=\"353.5\" y=\"-1055.6\" font-family=\"Times,serif\" font-size=\"8.00\">0 (0.0%)</text>\n<text text-anchor=\"end\" x=\"353.5\" y=\"-1046.6\" font-family=\"Times,serif\" font-size=\"8.00\">of 122 (6.4%)</text>\n</g>\n<!-- N29&#45;&gt;N30 -->\n<g id=\"edge31\" class=\"edge\">\n<title>N29&#45;&gt;N30</title>\n<path fill=\"none\" stroke=\"black\" stroke-width=\"0.38\" d=\"M307.64,-1145.79C308.27,-1129.49 309.23,-1104.43 309.97,-1085.34\"/>\n<polygon fill=\"black\" stroke=\"black\" stroke-width=\"0.38\" points=\"313.47,-1085.3 310.36,-1075.17 306.48,-1085.03 313.47,-1085.3\"/>\n<text text-anchor=\"middle\" x=\"320.5\" y=\"-1106.8\" font-family=\"Times,serif\" font-size=\"14.00\">122</text>\n</g>\n<!-- N73 -->\n<g id=\"node74\" class=\"node\">\n<title>N73</title>\n<polygon fill=\"none\" stroke=\"black\" points=\"242.5,-1075 181.5,-1075 181.5,-1040 242.5,-1040 242.5,-1075\"/>\n<text text-anchor=\"middle\" x=\"212\" y=\"-1064.6\" font-family=\"Times,serif\" font-size=\"8.00\">VecDuplicate</text>\n<text text-anchor=\"end\" x=\"234.5\" y=\"-1055.6\" font-family=\"Times,serif\" font-size=\"8.00\">0 (0.0%)</text>\n<text text-anchor=\"end\" x=\"234.5\" y=\"-1046.6\" font-family=\"Times,serif\" font-size=\"8.00\">of 19 (1.0%)</text>\n</g>\n<!-- N29&#45;&gt;N73 -->\n<g id=\"edge82\" class=\"edge\">\n<title>N29&#45;&gt;N73</title>\n<path fill=\"none\" stroke=\"black\" stroke-width=\"0.05\" d=\"M291.74,-1145.79C276.16,-1128.73 251.81,-1102.08 234.12,-1082.71\"/>\n<polygon fill=\"black\" stroke=\"black\" stroke-width=\"0.05\" points=\"236.55,-1080.19 227.23,-1075.17 231.39,-1084.91 236.55,-1080.19\"/>\n<text text-anchor=\"middle\" x=\"281\" y=\"-1106.8\" font-family=\"Times,serif\" font-size=\"14.00\">17</text>\n</g>\n<!-- N33 -->\n<g id=\"node34\" class=\"node\">\n<title>N33</title>\n<polygon fill=\"none\" stroke=\"black\" points=\"496.5,-981.5 433.5,-981.5 433.5,-937.5 496.5,-937.5 496.5,-981.5\"/>\n<text text-anchor=\"middle\" x=\"465\" y=\"-971.1\" font-family=\"Times,serif\" font-size=\"8.00\">KSP_MatMult</text>\n<text text-anchor=\"middle\" x=\"465\" y=\"-962.1\" font-family=\"Times,serif\" font-size=\"8.00\">(inline)</text>\n<text text-anchor=\"end\" x=\"488.5\" y=\"-953.1\" font-family=\"Times,serif\" font-size=\"8.00\">0 (0.0%)</text>\n<text text-anchor=\"end\" x=\"488.5\" y=\"-944.1\" font-family=\"Times,serif\" font-size=\"8.00\">of 111 (5.8%)</text>\n</g>\n<!-- N30&#45;&gt;N33 -->\n<g id=\"edge35\" class=\"edge\">\n<title>N30&#45;&gt;N33</title>\n<path fill=\"none\" stroke=\"black\" stroke-width=\"0.33\" stroke-dasharray=\"5,2\" d=\"M337.47,-1040C361.45,-1025.05 397.13,-1002.81 424.66,-985.65\"/>\n<polygon fill=\"black\" stroke=\"black\" stroke-width=\"0.33\" points=\"426.65,-988.53 433.29,-980.27 422.95,-982.59 426.65,-988.53\"/>\n<text text-anchor=\"middle\" x=\"398.5\" y=\"-1010.8\" font-family=\"Times,serif\" font-size=\"14.00\">105</text>\n</g>\n<!-- N46 -->\n<g id=\"node47\" class=\"node\">\n<title>N46</title>\n<polygon fill=\"none\" stroke=\"black\" points=\"1396.5,-621 1319.5,-621 1319.5,-579 1396.5,-579 1396.5,-621\"/>\n<text text-anchor=\"middle\" x=\"1358\" y=\"-604.44\" font-family=\"Times,serif\" font-size=\"15.70\">hypotf64</text>\n<text text-anchor=\"end\" x=\"1388.5\" y=\"-587.44\" font-family=\"Times,serif\" font-size=\"15.70\">45 (2.4%)</text>\n</g>\n<!-- N31&#45;&gt;N46 -->\n<g id=\"edge54\" class=\"edge\">\n<title>N31&#45;&gt;N46</title>\n<path fill=\"none\" stroke=\"black\" stroke-width=\"0.11\" d=\"M1133.02,-1476.73C1168.89,-1383.78 1269.89,-1112.8 1322,-879 1341.82,-790.08 1351.9,-682.57 1355.89,-631.19\"/>\n<polygon fill=\"black\" stroke=\"black\" stroke-width=\"0.11\" points=\"1359.39,-631.34 1356.65,-621.1 1352.41,-630.81 1359.39,-631.34\"/>\n<text text-anchor=\"middle\" x=\"1287\" y=\"-1053.8\" font-family=\"Times,serif\" font-size=\"14.00\">35</text>\n</g>\n<!-- N33&#45;&gt;N21 -->\n<g id=\"edge34\" class=\"edge\">\n<title>N33&#45;&gt;N21</title>\n<path fill=\"none\" stroke=\"black\" stroke-width=\"0.35\" d=\"M454.96,-937.33C444.62,-915.54 428.51,-881.57 417.39,-858.12\"/>\n<polygon fill=\"black\" stroke=\"black\" stroke-width=\"0.35\" points=\"420.41,-856.32 412.96,-848.79 414.09,-859.32 420.41,-856.32\"/>\n<text text-anchor=\"middle\" x=\"453.5\" y=\"-900.8\" font-family=\"Times,serif\" font-size=\"14.00\">111</text>\n</g>\n<!-- N34&#45;&gt;N19 -->\n<g id=\"edge36\" class=\"edge\">\n<title>N34&#45;&gt;N19</title>\n<path fill=\"none\" stroke=\"black\" stroke-width=\"0.3\" d=\"M1080,-1833.72C1080,-1821.59 1080,-1804.86 1080,-1790.3\"/>\n<polygon fill=\"black\" stroke=\"black\" stroke-width=\"0.3\" points=\"1083.5,-1790.19 1080,-1780.19 1076.5,-1790.19 1083.5,-1790.19\"/>\n<text text-anchor=\"middle\" x=\"1087\" y=\"-1801.8\" font-family=\"Times,serif\" font-size=\"14.00\">94</text>\n</g>\n<!-- N35 -->\n<g id=\"node36\" class=\"node\">\n<title>N35</title>\n<polygon fill=\"none\" stroke=\"black\" points=\"922,-1181 864,-1181 864,-1146 922,-1146 922,-1181\"/>\n<text text-anchor=\"middle\" x=\"893\" y=\"-1170.6\" font-family=\"Times,serif\" font-size=\"8.00\">KSPSetUp</text>\n<text text-anchor=\"end\" x=\"914\" y=\"-1161.6\" font-family=\"Times,serif\" font-size=\"8.00\">0 (0.0%)</text>\n<text text-anchor=\"end\" x=\"914\" y=\"-1152.6\" font-family=\"Times,serif\" font-size=\"8.00\">of 90 (4.7%)</text>\n</g>\n<!-- N37 -->\n<g id=\"node38\" class=\"node\">\n<title>N37</title>\n<polygon fill=\"none\" stroke=\"black\" points=\"1097,-1075 1039,-1075 1039,-1040 1097,-1040 1097,-1075\"/>\n<text text-anchor=\"middle\" x=\"1068\" y=\"-1064.6\" font-family=\"Times,serif\" font-size=\"8.00\">PCSetUp</text>\n<text text-anchor=\"end\" x=\"1089\" y=\"-1055.6\" font-family=\"Times,serif\" font-size=\"8.00\">0 (0.0%)</text>\n<text text-anchor=\"end\" x=\"1089\" y=\"-1046.6\" font-family=\"Times,serif\" font-size=\"8.00\">of 89 (4.7%)</text>\n</g>\n<!-- N35&#45;&gt;N37 -->\n<g id=\"edge40\" class=\"edge\">\n<title>N35&#45;&gt;N37</title>\n<path fill=\"none\" stroke=\"black\" stroke-width=\"0.28\" d=\"M921.12,-1145.79C950.97,-1128.05 998.28,-1099.94 1031.1,-1080.43\"/>\n<polygon fill=\"black\" stroke=\"black\" stroke-width=\"0.28\" points=\"1033.14,-1083.29 1039.95,-1075.17 1029.57,-1077.27 1033.14,-1083.29\"/>\n<text text-anchor=\"middle\" x=\"1014\" y=\"-1106.8\" font-family=\"Times,serif\" font-size=\"14.00\">89</text>\n</g>\n<!-- N38 -->\n<g id=\"node39\" class=\"node\">\n<title>N38</title>\n<polygon fill=\"none\" stroke=\"black\" points=\"908,-1417.5 830,-1417.5 830,-1382.5 908,-1382.5 908,-1417.5\"/>\n<text text-anchor=\"middle\" x=\"869\" y=\"-1407.1\" font-family=\"Times,serif\" font-size=\"8.00\">PCSetUpOnBlocks</text>\n<text text-anchor=\"end\" x=\"900\" y=\"-1398.1\" font-family=\"Times,serif\" font-size=\"8.00\">0 (0.0%)</text>\n<text text-anchor=\"end\" x=\"900\" y=\"-1389.1\" font-family=\"Times,serif\" font-size=\"8.00\">of 89 (4.7%)</text>\n</g>\n<!-- N36&#45;&gt;N38 -->\n<g id=\"edge43\" class=\"edge\">\n<title>N36&#45;&gt;N38</title>\n<path fill=\"none\" stroke=\"black\" stroke-width=\"0.28\" d=\"M863.91,-1493.45C864.87,-1476 866.4,-1448.25 867.53,-1427.71\"/>\n<polygon fill=\"black\" stroke=\"black\" stroke-width=\"0.28\" points=\"871.03,-1427.89 868.08,-1417.71 864.04,-1427.5 871.03,-1427.89\"/>\n<text text-anchor=\"middle\" x=\"874\" y=\"-1447.8\" font-family=\"Times,serif\" font-size=\"14.00\">89</text>\n</g>\n<!-- N40 -->\n<g id=\"node41\" class=\"node\">\n<title>N40</title>\n<polygon fill=\"none\" stroke=\"black\" points=\"1156.5,-977 1091.5,-977 1091.5,-942 1156.5,-942 1156.5,-977\"/>\n<text text-anchor=\"middle\" x=\"1124\" y=\"-966.6\" font-family=\"Times,serif\" font-size=\"8.00\">PCSetUp_ILU</text>\n<text text-anchor=\"end\" x=\"1148.5\" y=\"-957.6\" font-family=\"Times,serif\" font-size=\"8.00\">0 (0.0%)</text>\n<text text-anchor=\"end\" x=\"1148.5\" y=\"-948.6\" font-family=\"Times,serif\" font-size=\"8.00\">of 89 (4.7%)</text>\n</g>\n<!-- N37&#45;&gt;N40 -->\n<g id=\"edge39\" class=\"edge\">\n<title>N37&#45;&gt;N40</title>\n<path fill=\"none\" stroke=\"black\" stroke-width=\"0.28\" d=\"M1077.75,-1039.78C1086.43,-1024.91 1099.24,-1002.95 1109.18,-985.91\"/>\n<polygon fill=\"black\" stroke=\"black\" stroke-width=\"0.28\" points=\"1112.34,-987.43 1114.36,-977.03 1106.3,-983.9 1112.34,-987.43\"/>\n<text text-anchor=\"middle\" x=\"1103\" y=\"-1010.8\" font-family=\"Times,serif\" font-size=\"14.00\">89</text>\n</g>\n<!-- N39 -->\n<g id=\"node40\" class=\"node\">\n<title>N39</title>\n<polygon fill=\"none\" stroke=\"black\" points=\"944.5,-1290.5 795.5,-1290.5 795.5,-1255.5 944.5,-1255.5 944.5,-1290.5\"/>\n<text text-anchor=\"middle\" x=\"870\" y=\"-1280.1\" font-family=\"Times,serif\" font-size=\"8.00\">PCSetUpOnBlocks_BJacobi_Singleblock</text>\n<text text-anchor=\"end\" x=\"936.5\" y=\"-1271.1\" font-family=\"Times,serif\" font-size=\"8.00\">0 (0.0%)</text>\n<text text-anchor=\"end\" x=\"936.5\" y=\"-1262.1\" font-family=\"Times,serif\" font-size=\"8.00\">of 89 (4.7%)</text>\n</g>\n<!-- N38&#45;&gt;N39 -->\n<g id=\"edge41\" class=\"edge\">\n<title>N38&#45;&gt;N39</title>\n<path fill=\"none\" stroke=\"black\" stroke-width=\"0.28\" d=\"M869.13,-1382.4C869.3,-1361.57 869.59,-1325.59 869.79,-1300.84\"/>\n<polygon fill=\"black\" stroke=\"black\" stroke-width=\"0.28\" points=\"873.29,-1300.7 869.87,-1290.67 866.29,-1300.64 873.29,-1300.7\"/>\n<text text-anchor=\"middle\" x=\"877\" y=\"-1330.3\" font-family=\"Times,serif\" font-size=\"14.00\">89</text>\n</g>\n<!-- N39&#45;&gt;N35 -->\n<g id=\"edge38\" class=\"edge\">\n<title>N39&#45;&gt;N35</title>\n<path fill=\"none\" stroke=\"black\" stroke-width=\"0.28\" d=\"M873.59,-1255.2C877.26,-1238.08 882.99,-1211.27 887.28,-1191.23\"/>\n<polygon fill=\"black\" stroke=\"black\" stroke-width=\"0.28\" points=\"890.76,-1191.69 889.43,-1181.18 883.92,-1190.23 890.76,-1191.69\"/>\n<text text-anchor=\"middle\" x=\"893\" y=\"-1212.8\" font-family=\"Times,serif\" font-size=\"14.00\">89</text>\n</g>\n<!-- N43 -->\n<g id=\"node44\" class=\"node\">\n<title>N43</title>\n<polygon fill=\"none\" stroke=\"black\" points=\"1280,-848.5 1190,-848.5 1190,-813.5 1280,-813.5 1280,-848.5\"/>\n<text text-anchor=\"middle\" x=\"1235\" y=\"-838.1\" font-family=\"Times,serif\" font-size=\"8.00\">MatLUFactorNumeric</text>\n<text text-anchor=\"end\" x=\"1272\" y=\"-829.1\" font-family=\"Times,serif\" font-size=\"8.00\">0 (0.0%)</text>\n<text text-anchor=\"end\" x=\"1272\" y=\"-820.1\" font-family=\"Times,serif\" font-size=\"8.00\">of 59 (3.1%)</text>\n</g>\n<!-- N40&#45;&gt;N43 -->\n<g id=\"edge49\" class=\"edge\">\n<title>N40&#45;&gt;N43</title>\n<path fill=\"none\" stroke=\"black\" stroke-width=\"0.19\" d=\"M1138.51,-941.96C1157.71,-920.09 1191.68,-881.37 1213.77,-856.2\"/>\n<polygon fill=\"black\" stroke=\"black\" stroke-width=\"0.19\" points=\"1216.52,-858.37 1220.49,-848.54 1211.26,-853.75 1216.52,-858.37\"/>\n<text text-anchor=\"middle\" x=\"1184\" y=\"-900.8\" font-family=\"Times,serif\" font-size=\"14.00\">59</text>\n</g>\n<!-- N52 -->\n<g id=\"node53\" class=\"node\">\n<title>N52</title>\n<polygon fill=\"none\" stroke=\"black\" points=\"1171.5,-848.5 1076.5,-848.5 1076.5,-813.5 1171.5,-813.5 1171.5,-848.5\"/>\n<text text-anchor=\"middle\" x=\"1124\" y=\"-838.1\" font-family=\"Times,serif\" font-size=\"8.00\">MatILUFactorSymbolic</text>\n<text text-anchor=\"end\" x=\"1163.5\" y=\"-829.1\" font-family=\"Times,serif\" font-size=\"8.00\">0 (0.0%)</text>\n<text text-anchor=\"end\" x=\"1163.5\" y=\"-820.1\" font-family=\"Times,serif\" font-size=\"8.00\">of 30 (1.6%)</text>\n</g>\n<!-- N40&#45;&gt;N52 -->\n<g id=\"edge55\" class=\"edge\">\n<title>N40&#45;&gt;N52</title>\n<path fill=\"none\" stroke=\"black\" stroke-width=\"0.09\" d=\"M1124,-941.96C1124,-920.84 1124,-884.03 1124,-858.86\"/>\n<polygon fill=\"black\" stroke=\"black\" stroke-width=\"0.09\" points=\"1127.5,-858.54 1124,-848.54 1120.5,-858.54 1127.5,-858.54\"/>\n<text text-anchor=\"middle\" x=\"1131\" y=\"-900.8\" font-family=\"Times,serif\" font-size=\"14.00\">30</text>\n</g>\n<!-- N41&#45;&gt;N19 -->\n<g id=\"edge45\" class=\"edge\">\n<title>N41&#45;&gt;N19</title>\n<path fill=\"none\" stroke=\"black\" stroke-width=\"0.2\" d=\"M872.67,-1835.14C875.81,-1833.71 878.96,-1832.3 882,-1831 930.91,-1810.02 988.19,-1789.63 1028.52,-1775.94\"/>\n<polygon fill=\"black\" stroke=\"black\" stroke-width=\"0.2\" points=\"1029.78,-1779.21 1038.13,-1772.69 1027.54,-1772.57 1029.78,-1779.21\"/>\n<text text-anchor=\"middle\" x=\"970\" y=\"-1801.8\" font-family=\"Times,serif\" font-size=\"14.00\">65</text>\n</g>\n<!-- N42&#45;&gt;N19 -->\n<g id=\"edge47\" class=\"edge\">\n<title>N42&#45;&gt;N19</title>\n<path fill=\"none\" stroke=\"black\" stroke-width=\"0.19\" d=\"M948.97,-1833.93C972.68,-1820.37 1006.65,-1800.95 1034.05,-1785.28\"/>\n<polygon fill=\"black\" stroke=\"black\" stroke-width=\"0.19\" points=\"1036.13,-1788.12 1043.07,-1780.12 1032.66,-1782.04 1036.13,-1788.12\"/>\n<text text-anchor=\"middle\" x=\"1017\" y=\"-1801.8\" font-family=\"Times,serif\" font-size=\"14.00\">61</text>\n</g>\n<!-- N44 -->\n<g id=\"node45\" class=\"node\">\n<title>N44</title>\n<polygon fill=\"none\" stroke=\"black\" points=\"1267.5,-732 1054.5,-732 1054.5,-673 1267.5,-673 1267.5,-732\"/>\n<text text-anchor=\"middle\" x=\"1161\" y=\"-715.36\" font-family=\"Times,serif\" font-size=\"15.80\">MatLUFactorNumeric_SeqAIJ</text>\n<text text-anchor=\"end\" x=\"1259.5\" y=\"-698.36\" font-family=\"Times,serif\" font-size=\"15.80\">46 (2.4%)</text>\n<text text-anchor=\"end\" x=\"1259.5\" y=\"-681.36\" font-family=\"Times,serif\" font-size=\"15.80\">of 59 (3.1%)</text>\n</g>\n<!-- N43&#45;&gt;N44 -->\n<g id=\"edge48\" class=\"edge\">\n<title>N43&#45;&gt;N44</title>\n<path fill=\"none\" stroke=\"black\" stroke-width=\"0.19\" d=\"M1225.33,-813.46C1214.63,-795.17 1197.04,-765.11 1182.96,-741.03\"/>\n<polygon fill=\"black\" stroke=\"black\" stroke-width=\"0.19\" points=\"1185.82,-739 1177.75,-732.14 1179.78,-742.53 1185.82,-739\"/>\n<text text-anchor=\"middle\" x=\"1203\" y=\"-753.8\" font-family=\"Times,serif\" font-size=\"14.00\">59</text>\n</g>\n<!-- N44&#45;&gt;N46 -->\n<g id=\"edge91\" class=\"edge\">\n<title>N44&#45;&gt;N46</title>\n<path fill=\"none\" stroke=\"black\" stroke-width=\"0.03\" d=\"M1216.93,-672.97C1246.36,-657.95 1282.07,-639.73 1310.2,-625.38\"/>\n<polygon fill=\"black\" stroke=\"black\" stroke-width=\"0.03\" points=\"1312.11,-628.34 1319.43,-620.68 1308.93,-622.1 1312.11,-628.34\"/>\n<text text-anchor=\"middle\" x=\"1280.5\" y=\"-643.8\" font-family=\"Times,serif\" font-size=\"14.00\">9</text>\n</g>\n<!-- N45 -->\n<g id=\"node46\" class=\"node\">\n<title>N45</title>\n<polygon fill=\"none\" stroke=\"black\" points=\"297,-44 15,-44 15,0 297,0 297,-44\"/>\n<text text-anchor=\"middle\" x=\"156\" y=\"-26.72\" font-family=\"Times,serif\" font-size=\"16.60\">__nss_database_lookup@GLIBC_2.2.5</text>\n<text text-anchor=\"end\" x=\"289\" y=\"-8.72\" font-family=\"Times,serif\" font-size=\"16.60\">57 (3.0%)</text>\n</g>\n<!-- N47 -->\n<g id=\"node48\" class=\"node\">\n<title>N47</title>\n<polygon fill=\"none\" stroke=\"black\" points=\"127.5,-989 44.5,-989 44.5,-930 127.5,-930 127.5,-989\"/>\n<text text-anchor=\"middle\" x=\"86\" y=\"-972.6\" font-family=\"Times,serif\" font-size=\"15.50\">BLASdot_</text>\n<text text-anchor=\"middle\" x=\"86\" y=\"-955.6\" font-family=\"Times,serif\" font-size=\"15.50\">(inline)</text>\n<text text-anchor=\"end\" x=\"119.5\" y=\"-938.6\" font-family=\"Times,serif\" font-size=\"15.50\">43 (2.3%)</text>\n</g>\n<!-- N49 -->\n<g id=\"node50\" class=\"node\">\n<title>N49</title>\n<polygon fill=\"none\" stroke=\"black\" points=\"201,-1294 55,-1294 55,-1252 201,-1252 201,-1294\"/>\n<text text-anchor=\"middle\" x=\"128\" y=\"-1278\" font-family=\"Times,serif\" font-size=\"15.00\">VecAXPBYPCZ_Seq</text>\n<text text-anchor=\"end\" x=\"193\" y=\"-1261\" font-family=\"Times,serif\" font-size=\"15.00\">37 (1.9%)</text>\n</g>\n<!-- N48&#45;&gt;N49 -->\n<g id=\"edge51\" class=\"edge\">\n<title>N48&#45;&gt;N49</title>\n<path fill=\"none\" stroke=\"black\" stroke-width=\"0.12\" d=\"M147.08,-1382.4C143.58,-1362.53 137.65,-1328.85 133.33,-1304.3\"/>\n<polygon fill=\"black\" stroke=\"black\" stroke-width=\"0.12\" points=\"136.77,-1303.65 131.59,-1294.4 129.88,-1304.86 136.77,-1303.65\"/>\n<text text-anchor=\"middle\" x=\"150\" y=\"-1330.3\" font-family=\"Times,serif\" font-size=\"14.00\">37</text>\n</g>\n<!-- N50 -->\n<g id=\"node51\" class=\"node\">\n<title>N50</title>\n<polygon fill=\"none\" stroke=\"black\" points=\"188.5,-234 123.5,-234 123.5,-190 188.5,-190 188.5,-234\"/>\n<text text-anchor=\"middle\" x=\"156\" y=\"-223.6\" font-family=\"Times,serif\" font-size=\"8.00\">PetscMemzero</text>\n<text text-anchor=\"middle\" x=\"156\" y=\"-214.6\" font-family=\"Times,serif\" font-size=\"8.00\">(inline)</text>\n<text text-anchor=\"end\" x=\"180.5\" y=\"-205.6\" font-family=\"Times,serif\" font-size=\"8.00\">0 (0.0%)</text>\n<text text-anchor=\"end\" x=\"180.5\" y=\"-196.6\" font-family=\"Times,serif\" font-size=\"8.00\">of 36 (1.9%)</text>\n</g>\n<!-- N51 -->\n<g id=\"node52\" class=\"node\">\n<title>N51</title>\n<polygon fill=\"none\" stroke=\"black\" points=\"185,-139 127,-139 127,-95 185,-95 185,-139\"/>\n<text text-anchor=\"middle\" x=\"156\" y=\"-128.6\" font-family=\"Times,serif\" font-size=\"8.00\">memset</text>\n<text text-anchor=\"middle\" x=\"156\" y=\"-119.6\" font-family=\"Times,serif\" font-size=\"8.00\">(inline)</text>\n<text text-anchor=\"end\" x=\"177\" y=\"-110.6\" font-family=\"Times,serif\" font-size=\"8.00\">0 (0.0%)</text>\n<text text-anchor=\"end\" x=\"177\" y=\"-101.6\" font-family=\"Times,serif\" font-size=\"8.00\">of 36 (1.9%)</text>\n</g>\n<!-- N50&#45;&gt;N51 -->\n<g id=\"edge52\" class=\"edge\">\n<title>N50&#45;&gt;N51</title>\n<path fill=\"none\" stroke=\"black\" stroke-width=\"0.11\" stroke-dasharray=\"5,2\" d=\"M156,-189.9C156,-177.89 156,-162.62 156,-149.24\"/>\n<polygon fill=\"black\" stroke=\"black\" stroke-width=\"0.11\" points=\"159.5,-149.02 156,-139.02 152.5,-149.02 159.5,-149.02\"/>\n<text text-anchor=\"middle\" x=\"163\" y=\"-160.8\" font-family=\"Times,serif\" font-size=\"14.00\">36</text>\n</g>\n<!-- N51&#45;&gt;N45 -->\n<g id=\"edge53\" class=\"edge\">\n<title>N51&#45;&gt;N45</title>\n<path fill=\"none\" stroke=\"black\" stroke-width=\"0.11\" d=\"M156,-94.9C156,-82.89 156,-67.62 156,-54.24\"/>\n<polygon fill=\"black\" stroke=\"black\" stroke-width=\"0.11\" points=\"159.5,-54.02 156,-44.02 152.5,-54.02 159.5,-54.02\"/>\n<text text-anchor=\"middle\" x=\"163\" y=\"-65.8\" font-family=\"Times,serif\" font-size=\"14.00\">36</text>\n</g>\n<!-- N53 -->\n<g id=\"node54\" class=\"node\">\n<title>N53</title>\n<polygon fill=\"none\" stroke=\"black\" points=\"1036.5,-724.5 881.5,-724.5 881.5,-680.5 1036.5,-680.5 1036.5,-724.5\"/>\n<text text-anchor=\"middle\" x=\"959\" y=\"-712.02\" font-family=\"Times,serif\" font-size=\"10.60\">MatILUFactorSymbolic_SeqAIJ</text>\n<text text-anchor=\"end\" x=\"1028.5\" y=\"-700.02\" font-family=\"Times,serif\" font-size=\"10.60\">5 (0.3%)</text>\n<text text-anchor=\"end\" x=\"1028.5\" y=\"-688.02\" font-family=\"Times,serif\" font-size=\"10.60\">of 30 (1.6%)</text>\n</g>\n<!-- N52&#45;&gt;N53 -->\n<g id=\"edge56\" class=\"edge\">\n<title>N52&#45;&gt;N53</title>\n<path fill=\"none\" stroke=\"black\" stroke-width=\"0.09\" d=\"M1104.43,-813.42C1093.53,-804.29 1079.65,-792.86 1067,-783 1044.08,-765.14 1017.84,-745.8 996.96,-730.66\"/>\n<polygon fill=\"black\" stroke=\"black\" stroke-width=\"0.09\" points=\"998.82,-727.69 988.66,-724.66 994.72,-733.36 998.82,-727.69\"/>\n<text text-anchor=\"middle\" x=\"1048\" y=\"-753.8\" font-family=\"Times,serif\" font-size=\"14.00\">30</text>\n</g>\n<!-- N77 -->\n<g id=\"node78\" class=\"node\">\n<title>N77</title>\n<polygon fill=\"none\" stroke=\"black\" points=\"1005.5,-622 912.5,-622 912.5,-578 1005.5,-578 1005.5,-622\"/>\n<text text-anchor=\"middle\" x=\"959\" y=\"-611.6\" font-family=\"Times,serif\" font-size=\"8.00\">PetscILULLAddSorted</text>\n<text text-anchor=\"middle\" x=\"959\" y=\"-602.6\" font-family=\"Times,serif\" font-size=\"8.00\">(inline)</text>\n<text text-anchor=\"end\" x=\"997.5\" y=\"-593.6\" font-family=\"Times,serif\" font-size=\"8.00\">0 (0.0%)</text>\n<text text-anchor=\"end\" x=\"997.5\" y=\"-584.6\" font-family=\"Times,serif\" font-size=\"8.00\">of 16 (0.8%)</text>\n</g>\n<!-- N53&#45;&gt;N77 -->\n<g id=\"edge85\" class=\"edge\">\n<title>N53&#45;&gt;N77</title>\n<path fill=\"none\" stroke=\"black\" stroke-width=\"0.05\" stroke-dasharray=\"5,2\" d=\"M959,-680.19C959,-666.33 959,-648.02 959,-632.5\"/>\n<polygon fill=\"black\" stroke=\"black\" stroke-width=\"0.05\" points=\"962.5,-632.28 959,-622.28 955.5,-632.28 962.5,-632.28\"/>\n<text text-anchor=\"middle\" x=\"966\" y=\"-643.8\" font-family=\"Times,serif\" font-size=\"14.00\">16</text>\n</g>\n<!-- N54&#45;&gt;N33 -->\n<g id=\"edge93\" class=\"edge\">\n<title>N54&#45;&gt;N33</title>\n<path fill=\"none\" stroke=\"black\" stroke-width=\"0.02\" stroke-dasharray=\"5,2\" d=\"M509.15,-1382.13C497.64,-1358.59 479,-1314.24 479,-1274 479,-1274 479,-1274 479,-1056.5 479,-1034.72 475.43,-1010.44 471.89,-991.75\"/>\n<polygon fill=\"black\" stroke=\"black\" stroke-width=\"0.02\" points=\"475.28,-990.85 469.9,-981.72 468.41,-992.21 475.28,-990.85\"/>\n<text text-anchor=\"middle\" x=\"482.5\" y=\"-1159.8\" font-family=\"Times,serif\" font-size=\"14.00\">6</text>\n</g>\n<!-- N57 -->\n<g id=\"node58\" class=\"node\">\n<title>N57</title>\n<polygon fill=\"none\" stroke=\"black\" points=\"605,-1290.5 507,-1290.5 507,-1255.5 605,-1255.5 605,-1290.5\"/>\n<text text-anchor=\"middle\" x=\"556\" y=\"-1280.1\" font-family=\"Times,serif\" font-size=\"8.00\">KSP_PCApply@100f094</text>\n<text text-anchor=\"end\" x=\"597\" y=\"-1271.1\" font-family=\"Times,serif\" font-size=\"8.00\">0 (0.0%)</text>\n<text text-anchor=\"end\" x=\"597\" y=\"-1262.1\" font-family=\"Times,serif\" font-size=\"8.00\">of 22 (1.2%)</text>\n</g>\n<!-- N54&#45;&gt;N57 -->\n<g id=\"edge60\" class=\"edge\">\n<title>N54&#45;&gt;N57</title>\n<path fill=\"none\" stroke=\"black\" stroke-width=\"0.07\" d=\"M523.05,-1382.4C529.41,-1361.48 540.41,-1325.27 547.94,-1300.5\"/>\n<polygon fill=\"black\" stroke=\"black\" stroke-width=\"0.07\" points=\"551.37,-1301.25 550.93,-1290.67 544.68,-1299.22 551.37,-1301.25\"/>\n<text text-anchor=\"middle\" x=\"551\" y=\"-1330.3\" font-family=\"Times,serif\" font-size=\"14.00\">22</text>\n</g>\n<!-- N56 -->\n<g id=\"node57\" class=\"node\">\n<title>N56</title>\n<polygon fill=\"none\" stroke=\"black\" points=\"721,-1290.5 623,-1290.5 623,-1255.5 721,-1255.5 721,-1290.5\"/>\n<text text-anchor=\"middle\" x=\"672\" y=\"-1280.1\" font-family=\"Times,serif\" font-size=\"8.00\">KSP_PCApply@1006e75</text>\n<text text-anchor=\"end\" x=\"713\" y=\"-1271.1\" font-family=\"Times,serif\" font-size=\"8.00\">0 (0.0%)</text>\n<text text-anchor=\"end\" x=\"713\" y=\"-1262.1\" font-family=\"Times,serif\" font-size=\"8.00\">of 22 (1.2%)</text>\n</g>\n<!-- N55&#45;&gt;N56 -->\n<g id=\"edge62\" class=\"edge\">\n<title>N55&#45;&gt;N56</title>\n<path fill=\"none\" stroke=\"black\" stroke-width=\"0.07\" d=\"M649.45,-1382.4C653.8,-1361.48 661.34,-1325.27 666.49,-1300.5\"/>\n<polygon fill=\"black\" stroke=\"black\" stroke-width=\"0.07\" points=\"669.92,-1301.17 668.53,-1290.67 663.07,-1299.75 669.92,-1301.17\"/>\n<text text-anchor=\"middle\" x=\"671\" y=\"-1330.3\" font-family=\"Times,serif\" font-size=\"14.00\">22</text>\n</g>\n<!-- N56&#45;&gt;N12 -->\n<g id=\"edge61\" class=\"edge\">\n<title>N56&#45;&gt;N12</title>\n<path fill=\"none\" stroke=\"black\" stroke-width=\"0.07\" d=\"M684.82,-1255.4C696.31,-1240.56 713.68,-1218.25 729,-1199 731.52,-1195.83 734.19,-1192.51 736.83,-1189.24\"/>\n<polygon fill=\"black\" stroke=\"black\" stroke-width=\"0.07\" points=\"739.69,-1191.27 743.26,-1181.29 734.25,-1186.86 739.69,-1191.27\"/>\n<text text-anchor=\"middle\" x=\"736\" y=\"-1212.8\" font-family=\"Times,serif\" font-size=\"14.00\">22</text>\n</g>\n<!-- N57&#45;&gt;N12 -->\n<g id=\"edge64\" class=\"edge\">\n<title>N57&#45;&gt;N12</title>\n<path fill=\"none\" stroke=\"black\" stroke-width=\"0.07\" d=\"M583.88,-1255.49C609.81,-1240.32 649.64,-1217.45 685,-1199 694.59,-1194 705.03,-1188.84 714.9,-1184.08\"/>\n<polygon fill=\"black\" stroke=\"black\" stroke-width=\"0.07\" points=\"716.64,-1187.13 724.15,-1179.66 713.62,-1180.81 716.64,-1187.13\"/>\n<text text-anchor=\"middle\" x=\"692\" y=\"-1212.8\" font-family=\"Times,serif\" font-size=\"14.00\">22</text>\n</g>\n<!-- N59 -->\n<g id=\"node60\" class=\"node\">\n<title>N59</title>\n<polygon fill=\"none\" stroke=\"black\" points=\"158,-1075 94,-1075 94,-1040 158,-1040 158,-1075\"/>\n<text text-anchor=\"middle\" x=\"126\" y=\"-1064.6\" font-family=\"Times,serif\" font-size=\"8.00\">VecNorm_Seq</text>\n<text text-anchor=\"end\" x=\"150\" y=\"-1055.6\" font-family=\"Times,serif\" font-size=\"8.00\">0 (0.0%)</text>\n<text text-anchor=\"end\" x=\"150\" y=\"-1046.6\" font-family=\"Times,serif\" font-size=\"8.00\">of 22 (1.2%)</text>\n</g>\n<!-- N58&#45;&gt;N59 -->\n<g id=\"edge59\" class=\"edge\">\n<title>N58&#45;&gt;N59</title>\n<path fill=\"none\" stroke=\"black\" stroke-width=\"0.07\" d=\"M205.74,-1145.79C190.16,-1128.73 165.81,-1102.08 148.12,-1082.71\"/>\n<polygon fill=\"black\" stroke=\"black\" stroke-width=\"0.07\" points=\"150.55,-1080.19 141.23,-1075.17 145.39,-1084.91 150.55,-1080.19\"/>\n<text text-anchor=\"middle\" x=\"195\" y=\"-1106.8\" font-family=\"Times,serif\" font-size=\"14.00\">22</text>\n</g>\n<!-- N59&#45;&gt;N47 -->\n<g id=\"edge58\" class=\"edge\">\n<title>N59&#45;&gt;N47</title>\n<path fill=\"none\" stroke=\"black\" stroke-width=\"0.07\" stroke-dasharray=\"5,2\" d=\"M119.03,-1039.78C114.3,-1028.43 107.85,-1012.95 101.91,-998.68\"/>\n<polygon fill=\"black\" stroke=\"black\" stroke-width=\"0.07\" points=\"104.98,-996.94 97.9,-989.06 98.52,-999.64 104.98,-996.94\"/>\n<text text-anchor=\"middle\" x=\"118\" y=\"-1010.8\" font-family=\"Times,serif\" font-size=\"14.00\">22</text>\n</g>\n<!-- N61 -->\n<g id=\"node62\" class=\"node\">\n<title>N61</title>\n<polygon fill=\"none\" stroke=\"black\" points=\"58,-1128 0,-1128 0,-1093 58,-1093 58,-1128\"/>\n<text text-anchor=\"middle\" x=\"29\" y=\"-1117.6\" font-family=\"Times,serif\" font-size=\"8.00\">VecDot_Seq</text>\n<text text-anchor=\"end\" x=\"50\" y=\"-1108.6\" font-family=\"Times,serif\" font-size=\"8.00\">0 (0.0%)</text>\n<text text-anchor=\"end\" x=\"50\" y=\"-1099.6\" font-family=\"Times,serif\" font-size=\"8.00\">of 21 (1.1%)</text>\n</g>\n<!-- N60&#45;&gt;N61 -->\n<g id=\"edge67\" class=\"edge\">\n<title>N60&#45;&gt;N61</title>\n<path fill=\"none\" stroke=\"black\" stroke-width=\"0.07\" d=\"M36.83,-1382.28C35.44,-1361.57 33.15,-1325.2 32,-1294 29.96,-1238.61 29.31,-1173.72 29.1,-1138.16\"/>\n<polygon fill=\"black\" stroke=\"black\" stroke-width=\"0.07\" points=\"32.6,-1138.1 29.05,-1128.11 25.6,-1138.13 32.6,-1138.1\"/>\n<text text-anchor=\"middle\" x=\"39\" y=\"-1269.3\" font-family=\"Times,serif\" font-size=\"14.00\">21</text>\n</g>\n<!-- N61&#45;&gt;N47 -->\n<g id=\"edge66\" class=\"edge\">\n<title>N61&#45;&gt;N47</title>\n<path fill=\"none\" stroke=\"black\" stroke-width=\"0.07\" stroke-dasharray=\"5,2\" d=\"M35.32,-1092.99C43.98,-1070.35 59.78,-1029.04 71.45,-998.55\"/>\n<polygon fill=\"black\" stroke=\"black\" stroke-width=\"0.07\" points=\"74.77,-999.65 75.07,-989.06 68.23,-997.15 74.77,-999.65\"/>\n<text text-anchor=\"middle\" x=\"63\" y=\"-1053.8\" font-family=\"Times,serif\" font-size=\"14.00\">21</text>\n</g>\n<!-- N62 -->\n<g id=\"node63\" class=\"node\">\n<title>N62</title>\n<polygon fill=\"none\" stroke=\"black\" points=\"1599,-1528.5 1537,-1528.5 1537,-1493.5 1599,-1493.5 1599,-1528.5\"/>\n<text text-anchor=\"middle\" x=\"1568\" y=\"-1518.1\" font-family=\"Times,serif\" font-size=\"8.00\">MatSetValues</text>\n<text text-anchor=\"end\" x=\"1591\" y=\"-1509.1\" font-family=\"Times,serif\" font-size=\"8.00\">0 (0.0%)</text>\n<text text-anchor=\"end\" x=\"1591\" y=\"-1500.1\" font-family=\"Times,serif\" font-size=\"8.00\">of 20 (1.0%)</text>\n</g>\n<!-- N63 -->\n<g id=\"node64\" class=\"node\">\n<title>N63</title>\n<polygon fill=\"none\" stroke=\"black\" points=\"1631,-1423.5 1505,-1423.5 1505,-1376.5 1631,-1376.5 1631,-1423.5\"/>\n<text text-anchor=\"middle\" x=\"1568\" y=\"-1409.9\" font-family=\"Times,serif\" font-size=\"12.00\">MatSetValues_MPIAIJ</text>\n<text text-anchor=\"end\" x=\"1623\" y=\"-1396.9\" font-family=\"Times,serif\" font-size=\"12.00\">12 (0.6%)</text>\n<text text-anchor=\"end\" x=\"1623\" y=\"-1383.9\" font-family=\"Times,serif\" font-size=\"12.00\">of 20 (1.0%)</text>\n</g>\n<!-- N62&#45;&gt;N63 -->\n<g id=\"edge72\" class=\"edge\">\n<title>N62&#45;&gt;N63</title>\n<path fill=\"none\" stroke=\"black\" stroke-width=\"0.06\" d=\"M1568,-1493.45C1568,-1477.69 1568,-1453.55 1568,-1433.89\"/>\n<polygon fill=\"black\" stroke=\"black\" stroke-width=\"0.06\" points=\"1571.5,-1433.79 1568,-1423.79 1564.5,-1433.79 1571.5,-1433.79\"/>\n<text text-anchor=\"middle\" x=\"1575\" y=\"-1447.8\" font-family=\"Times,serif\" font-size=\"14.00\">20</text>\n</g>\n<!-- N64 -->\n<g id=\"node65\" class=\"node\">\n<title>N64</title>\n<polygon fill=\"none\" stroke=\"black\" points=\"187,-406 125,-406 125,-371 187,-371 187,-406\"/>\n<text text-anchor=\"middle\" x=\"156\" y=\"-395.6\" font-family=\"Times,serif\" font-size=\"8.00\">PetscMallocA</text>\n<text text-anchor=\"end\" x=\"179\" y=\"-386.6\" font-family=\"Times,serif\" font-size=\"8.00\">0 (0.0%)</text>\n<text text-anchor=\"end\" x=\"179\" y=\"-377.6\" font-family=\"Times,serif\" font-size=\"8.00\">of 20 (1.0%)</text>\n</g>\n<!-- N65 -->\n<g id=\"node66\" class=\"node\">\n<title>N65</title>\n<polygon fill=\"none\" stroke=\"black\" points=\"193,-320 119,-320 119,-285 193,-285 193,-320\"/>\n<text text-anchor=\"middle\" x=\"156\" y=\"-309.6\" font-family=\"Times,serif\" font-size=\"8.00\">PetscMallocAlign</text>\n<text text-anchor=\"end\" x=\"185\" y=\"-300.6\" font-family=\"Times,serif\" font-size=\"8.00\">0 (0.0%)</text>\n<text text-anchor=\"end\" x=\"185\" y=\"-291.6\" font-family=\"Times,serif\" font-size=\"8.00\">of 20 (1.0%)</text>\n</g>\n<!-- N64&#45;&gt;N65 -->\n<g id=\"edge73\" class=\"edge\">\n<title>N64&#45;&gt;N65</title>\n<path fill=\"none\" stroke=\"black\" stroke-width=\"0.06\" d=\"M156,-370.9C156,-359.28 156,-343.51 156,-330.14\"/>\n<polygon fill=\"black\" stroke=\"black\" stroke-width=\"0.06\" points=\"159.5,-330.06 156,-320.06 152.5,-330.06 159.5,-330.06\"/>\n<text text-anchor=\"middle\" x=\"163\" y=\"-341.8\" font-family=\"Times,serif\" font-size=\"14.00\">20</text>\n</g>\n<!-- N65&#45;&gt;N50 -->\n<g id=\"edge74\" class=\"edge\">\n<title>N65&#45;&gt;N50</title>\n<path fill=\"none\" stroke=\"black\" stroke-width=\"0.06\" stroke-dasharray=\"5,2\" d=\"M156,-284.85C156,-273.44 156,-257.95 156,-244.28\"/>\n<polygon fill=\"black\" stroke=\"black\" stroke-width=\"0.06\" points=\"159.5,-244.27 156,-234.27 152.5,-244.27 159.5,-244.27\"/>\n<text text-anchor=\"middle\" x=\"163\" y=\"-255.8\" font-family=\"Times,serif\" font-size=\"14.00\">20</text>\n</g>\n<!-- N66 -->\n<g id=\"node67\" class=\"node\">\n<title>N66</title>\n<polygon fill=\"none\" stroke=\"black\" points=\"189.5,-509.5 122.5,-509.5 122.5,-474.5 189.5,-474.5 189.5,-509.5\"/>\n<text text-anchor=\"middle\" x=\"156\" y=\"-499.1\" font-family=\"Times,serif\" font-size=\"8.00\">VecCreate_Seq</text>\n<text text-anchor=\"end\" x=\"181.5\" y=\"-490.1\" font-family=\"Times,serif\" font-size=\"8.00\">0 (0.0%)</text>\n<text text-anchor=\"end\" x=\"181.5\" y=\"-481.1\" font-family=\"Times,serif\" font-size=\"8.00\">of 20 (1.0%)</text>\n</g>\n<!-- N66&#45;&gt;N64 -->\n<g id=\"edge71\" class=\"edge\">\n<title>N66&#45;&gt;N64</title>\n<path fill=\"none\" stroke=\"black\" stroke-width=\"0.06\" d=\"M156,-474.24C156,-458.52 156,-434.74 156,-416.37\"/>\n<polygon fill=\"black\" stroke=\"black\" stroke-width=\"0.06\" points=\"159.5,-416.29 156,-406.29 152.5,-416.29 159.5,-416.29\"/>\n<text text-anchor=\"middle\" x=\"163\" y=\"-427.8\" font-family=\"Times,serif\" font-size=\"14.00\">20</text>\n</g>\n<!-- N67 -->\n<g id=\"node68\" class=\"node\">\n<title>N67</title>\n<polygon fill=\"none\" stroke=\"black\" points=\"241,-617.5 183,-617.5 183,-582.5 241,-582.5 241,-617.5\"/>\n<text text-anchor=\"middle\" x=\"212\" y=\"-607.1\" font-family=\"Times,serif\" font-size=\"8.00\">VecSetType</text>\n<text text-anchor=\"end\" x=\"233\" y=\"-598.1\" font-family=\"Times,serif\" font-size=\"8.00\">0 (0.0%)</text>\n<text text-anchor=\"end\" x=\"233\" y=\"-589.1\" font-family=\"Times,serif\" font-size=\"8.00\">of 20 (1.0%)</text>\n</g>\n<!-- N67&#45;&gt;N66 -->\n<g id=\"edge70\" class=\"edge\">\n<title>N67&#45;&gt;N66</title>\n<path fill=\"none\" stroke=\"black\" stroke-width=\"0.06\" d=\"M201.87,-582.46C197.76,-575.58 193.03,-567.47 189,-560 181.8,-546.68 174.31,-531.57 168.28,-519.07\"/>\n<polygon fill=\"black\" stroke=\"black\" stroke-width=\"0.06\" points=\"171.27,-517.21 163.79,-509.7 164.95,-520.23 171.27,-517.21\"/>\n<text text-anchor=\"middle\" x=\"196\" y=\"-548.8\" font-family=\"Times,serif\" font-size=\"14.00\">20</text>\n</g>\n<!-- N72 -->\n<g id=\"node73\" class=\"node\">\n<title>N72</title>\n<polygon fill=\"none\" stroke=\"black\" points=\"290.5,-509.5 207.5,-509.5 207.5,-474.5 290.5,-474.5 290.5,-509.5\"/>\n<text text-anchor=\"middle\" x=\"249\" y=\"-499.1\" font-family=\"Times,serif\" font-size=\"8.00\">VecCreate_Standard</text>\n<text text-anchor=\"end\" x=\"282.5\" y=\"-490.1\" font-family=\"Times,serif\" font-size=\"8.00\">0 (0.0%)</text>\n<text text-anchor=\"end\" x=\"282.5\" y=\"-481.1\" font-family=\"Times,serif\" font-size=\"8.00\">of 19 (1.0%)</text>\n</g>\n<!-- N67&#45;&gt;N72 -->\n<g id=\"edge77\" class=\"edge\">\n<title>N67&#45;&gt;N72</title>\n<path fill=\"none\" stroke=\"black\" stroke-width=\"0.06\" d=\"M218.61,-582.37C221.29,-575.47 224.37,-567.38 227,-560 231.75,-546.66 236.7,-531.71 240.69,-519.31\"/>\n<polygon fill=\"black\" stroke=\"black\" stroke-width=\"0.06\" points=\"244.09,-520.19 243.8,-509.6 237.42,-518.06 244.09,-520.19\"/>\n<text text-anchor=\"middle\" x=\"240\" y=\"-548.8\" font-family=\"Times,serif\" font-size=\"14.00\">19</text>\n</g>\n<!-- N68 -->\n<g id=\"node69\" class=\"node\">\n<title>N68</title>\n<polygon fill=\"none\" stroke=\"black\" points=\"1602.5,-1775.5 1533.5,-1775.5 1533.5,-1740.5 1602.5,-1740.5 1602.5,-1775.5\"/>\n<text text-anchor=\"middle\" x=\"1568\" y=\"-1765.1\" font-family=\"Times,serif\" font-size=\"8.00\">matsetvalues1n_</text>\n<text text-anchor=\"end\" x=\"1594.5\" y=\"-1756.1\" font-family=\"Times,serif\" font-size=\"8.00\">0 (0.0%)</text>\n<text text-anchor=\"end\" x=\"1594.5\" y=\"-1747.1\" font-family=\"Times,serif\" font-size=\"8.00\">of 20 (1.0%)</text>\n</g>\n<!-- N69 -->\n<g id=\"node70\" class=\"node\">\n<title>N69</title>\n<polygon fill=\"none\" stroke=\"black\" points=\"1599,-1658 1537,-1658 1537,-1623 1599,-1623 1599,-1658\"/>\n<text text-anchor=\"middle\" x=\"1568\" y=\"-1647.6\" font-family=\"Times,serif\" font-size=\"8.00\">matsetvalues_</text>\n<text text-anchor=\"end\" x=\"1591\" y=\"-1638.6\" font-family=\"Times,serif\" font-size=\"8.00\">0 (0.0%)</text>\n<text text-anchor=\"end\" x=\"1591\" y=\"-1629.6\" font-family=\"Times,serif\" font-size=\"8.00\">of 20 (1.0%)</text>\n</g>\n<!-- N68&#45;&gt;N69 -->\n<g id=\"edge69\" class=\"edge\">\n<title>N68&#45;&gt;N69</title>\n<path fill=\"none\" stroke=\"black\" stroke-width=\"0.06\" d=\"M1568,-1740.45C1568,-1721.58 1568,-1690.47 1568,-1668.17\"/>\n<polygon fill=\"black\" stroke=\"black\" stroke-width=\"0.06\" points=\"1571.5,-1668.02 1568,-1658.02 1564.5,-1668.02 1571.5,-1668.02\"/>\n<text text-anchor=\"middle\" x=\"1575\" y=\"-1706.8\" font-family=\"Times,serif\" font-size=\"14.00\">20</text>\n</g>\n<!-- N69&#45;&gt;N62 -->\n<g id=\"edge68\" class=\"edge\">\n<title>N69&#45;&gt;N62</title>\n<path fill=\"none\" stroke=\"black\" stroke-width=\"0.06\" d=\"M1568,-1622.83C1568,-1601.45 1568,-1564.11 1568,-1538.73\"/>\n<polygon fill=\"black\" stroke=\"black\" stroke-width=\"0.06\" points=\"1571.5,-1538.67 1568,-1528.67 1564.5,-1538.67 1571.5,-1538.67\"/>\n<text text-anchor=\"middle\" x=\"1575\" y=\"-1566.8\" font-family=\"Times,serif\" font-size=\"14.00\">20</text>\n</g>\n<!-- N70 -->\n<g id=\"node71\" class=\"node\">\n<title>N70</title>\n<polygon fill=\"none\" stroke=\"black\" points=\"259.5,-848.5 164.5,-848.5 164.5,-813.5 259.5,-813.5 259.5,-848.5\"/>\n<text text-anchor=\"middle\" x=\"212\" y=\"-838.1\" font-family=\"Times,serif\" font-size=\"8.00\">DMCreateGlobalVector</text>\n<text text-anchor=\"end\" x=\"251.5\" y=\"-829.1\" font-family=\"Times,serif\" font-size=\"8.00\">0 (0.0%)</text>\n<text text-anchor=\"end\" x=\"251.5\" y=\"-820.1\" font-family=\"Times,serif\" font-size=\"8.00\">of 19 (1.0%)</text>\n</g>\n<!-- N71 -->\n<g id=\"node72\" class=\"node\">\n<title>N71</title>\n<polygon fill=\"none\" stroke=\"black\" points=\"267,-720 157,-720 157,-685 267,-685 267,-720\"/>\n<text text-anchor=\"middle\" x=\"212\" y=\"-709.6\" font-family=\"Times,serif\" font-size=\"8.00\">DMCreateGlobalVector_DA</text>\n<text text-anchor=\"end\" x=\"259\" y=\"-700.6\" font-family=\"Times,serif\" font-size=\"8.00\">0 (0.0%)</text>\n<text text-anchor=\"end\" x=\"259\" y=\"-691.6\" font-family=\"Times,serif\" font-size=\"8.00\">of 19 (1.0%)</text>\n</g>\n<!-- N70&#45;&gt;N71 -->\n<g id=\"edge76\" class=\"edge\">\n<title>N70&#45;&gt;N71</title>\n<path fill=\"none\" stroke=\"black\" stroke-width=\"0.06\" d=\"M212,-813.46C212,-792.34 212,-755.53 212,-730.36\"/>\n<polygon fill=\"black\" stroke=\"black\" stroke-width=\"0.06\" points=\"215.5,-730.04 212,-720.04 208.5,-730.04 215.5,-730.04\"/>\n<text text-anchor=\"middle\" x=\"219\" y=\"-753.8\" font-family=\"Times,serif\" font-size=\"14.00\">19</text>\n</g>\n<!-- N71&#45;&gt;N67 -->\n<g id=\"edge75\" class=\"edge\">\n<title>N71&#45;&gt;N67</title>\n<path fill=\"none\" stroke=\"black\" stroke-width=\"0.06\" d=\"M212,-684.9C212,-669.41 212,-646.02 212,-627.87\"/>\n<polygon fill=\"black\" stroke=\"black\" stroke-width=\"0.06\" points=\"215.5,-627.62 212,-617.62 208.5,-627.62 215.5,-627.62\"/>\n<text text-anchor=\"middle\" x=\"219\" y=\"-643.8\" font-family=\"Times,serif\" font-size=\"14.00\">19</text>\n</g>\n<!-- N72&#45;&gt;N67 -->\n<g id=\"edge78\" class=\"edge\">\n<title>N72&#45;&gt;N67</title>\n<path fill=\"none\" stroke=\"black\" stroke-width=\"0.06\" d=\"M231.69,-509.55C223.07,-519.01 213.55,-531.63 209,-545 206.04,-553.69 205.78,-563.62 206.59,-572.57\"/>\n<polygon fill=\"black\" stroke=\"black\" stroke-width=\"0.06\" points=\"203.12,-573.06 207.93,-582.5 210.06,-572.12 203.12,-573.06\"/>\n<text text-anchor=\"middle\" x=\"216\" y=\"-548.8\" font-family=\"Times,serif\" font-size=\"14.00\">19</text>\n</g>\n<!-- N74 -->\n<g id=\"node75\" class=\"node\">\n<title>N74</title>\n<polygon fill=\"none\" stroke=\"black\" points=\"259.5,-977 164.5,-977 164.5,-942 259.5,-942 259.5,-977\"/>\n<text text-anchor=\"middle\" x=\"212\" y=\"-966.6\" font-family=\"Times,serif\" font-size=\"8.00\">VecDuplicate_MPI_DA</text>\n<text text-anchor=\"end\" x=\"251.5\" y=\"-957.6\" font-family=\"Times,serif\" font-size=\"8.00\">0 (0.0%)</text>\n<text text-anchor=\"end\" x=\"251.5\" y=\"-948.6\" font-family=\"Times,serif\" font-size=\"8.00\">of 18 (0.9%)</text>\n</g>\n<!-- N73&#45;&gt;N74 -->\n<g id=\"edge80\" class=\"edge\">\n<title>N73&#45;&gt;N74</title>\n<path fill=\"none\" stroke=\"black\" stroke-width=\"0.06\" d=\"M212,-1039.78C212,-1025.32 212,-1004.17 212,-987.35\"/>\n<polygon fill=\"black\" stroke=\"black\" stroke-width=\"0.06\" points=\"215.5,-987.03 212,-977.03 208.5,-987.03 215.5,-987.03\"/>\n<text text-anchor=\"middle\" x=\"219\" y=\"-1010.8\" font-family=\"Times,serif\" font-size=\"14.00\">18</text>\n</g>\n<!-- N74&#45;&gt;N70 -->\n<g id=\"edge81\" class=\"edge\">\n<title>N74&#45;&gt;N70</title>\n<path fill=\"none\" stroke=\"black\" stroke-width=\"0.06\" d=\"M212,-941.96C212,-920.84 212,-884.03 212,-858.86\"/>\n<polygon fill=\"black\" stroke=\"black\" stroke-width=\"0.06\" points=\"215.5,-858.54 212,-848.54 208.5,-858.54 215.5,-858.54\"/>\n<text text-anchor=\"middle\" x=\"219\" y=\"-900.8\" font-family=\"Times,serif\" font-size=\"14.00\">18</text>\n</g>\n<!-- N76&#45;&gt;N68 -->\n<g id=\"edge89\" class=\"edge\">\n<title>N76&#45;&gt;N68</title>\n<path fill=\"none\" stroke=\"black\" stroke-width=\"0.04\" d=\"M1190.75,-1843.4C1263.09,-1827.21 1440.3,-1787.57 1523.49,-1768.96\"/>\n<polygon fill=\"black\" stroke=\"black\" stroke-width=\"0.04\" points=\"1524.41,-1772.34 1533.4,-1766.74 1522.88,-1765.51 1524.41,-1772.34\"/>\n<text text-anchor=\"middle\" x=\"1394\" y=\"-1801.8\" font-family=\"Times,serif\" font-size=\"14.00\">12</text>\n</g>\n<!-- N78 -->\n<g id=\"node79\" class=\"node\">\n<title>N78</title>\n<polygon fill=\"none\" stroke=\"black\" points=\"1035.5,-520 882.5,-520 882.5,-464 1035.5,-464 1035.5,-520\"/>\n<text text-anchor=\"middle\" x=\"959\" y=\"-507.36\" font-family=\"Times,serif\" font-size=\"10.80\">PetscIncompleteLLAdd_Private</text>\n<text text-anchor=\"middle\" x=\"959\" y=\"-495.36\" font-family=\"Times,serif\" font-size=\"10.80\">(inline)</text>\n<text text-anchor=\"end\" x=\"1027.5\" y=\"-483.36\" font-family=\"Times,serif\" font-size=\"10.80\">6 (0.3%)</text>\n<text text-anchor=\"end\" x=\"1027.5\" y=\"-471.36\" font-family=\"Times,serif\" font-size=\"10.80\">of 16 (0.8%)</text>\n</g>\n<!-- N77&#45;&gt;N78 -->\n<g id=\"edge86\" class=\"edge\">\n<title>N77&#45;&gt;N78</title>\n<path fill=\"none\" stroke=\"black\" stroke-width=\"0.05\" stroke-dasharray=\"5,2\" d=\"M959,-577.8C959,-564.22 959,-546.22 959,-530.3\"/>\n<polygon fill=\"black\" stroke=\"black\" stroke-width=\"0.05\" points=\"962.5,-530.21 959,-520.21 955.5,-530.21 962.5,-530.21\"/>\n<text text-anchor=\"middle\" x=\"966\" y=\"-548.8\" font-family=\"Times,serif\" font-size=\"14.00\">16</text>\n</g>\n<!-- N80 -->\n<g id=\"node81\" class=\"node\">\n<title>N80</title>\n<polygon fill=\"none\" stroke=\"black\" points=\"995,-1234 937,-1234 937,-1199 995,-1199 995,-1234\"/>\n<text text-anchor=\"middle\" x=\"966\" y=\"-1223.6\" font-family=\"Times,serif\" font-size=\"8.00\">VecSet_Seq</text>\n<text text-anchor=\"end\" x=\"987\" y=\"-1214.6\" font-family=\"Times,serif\" font-size=\"8.00\">0 (0.0%)</text>\n<text text-anchor=\"end\" x=\"987\" y=\"-1205.6\" font-family=\"Times,serif\" font-size=\"8.00\">of 16 (0.8%)</text>\n</g>\n<!-- N79&#45;&gt;N80 -->\n<g id=\"edge84\" class=\"edge\">\n<title>N79&#45;&gt;N80</title>\n<path fill=\"none\" stroke=\"black\" stroke-width=\"0.05\" d=\"M953.74,-1493.44C955.89,-1445.08 962.16,-1303.8 964.81,-1244.35\"/>\n<polygon fill=\"black\" stroke=\"black\" stroke-width=\"0.05\" points=\"968.31,-1244.39 965.26,-1234.25 961.32,-1244.08 968.31,-1244.39\"/>\n<text text-anchor=\"middle\" x=\"966\" y=\"-1396.3\" font-family=\"Times,serif\" font-size=\"14.00\">16</text>\n</g>\n<!-- N80&#45;&gt;N50 -->\n<g id=\"edge87\" class=\"edge\">\n<title>N80&#45;&gt;N50</title>\n<path fill=\"none\" stroke=\"black\" stroke-width=\"0.05\" stroke-dasharray=\"5,2\" d=\"M992.51,-1198.8C1058.22,-1155.63 1227.71,-1032.84 1289,-879 1334.73,-764.22 1291,-724.56 1291,-601 1291,-601 1291,-601 1291,-301.5 1291,-245.65 405.89,-219.42 198.92,-214.06\"/>\n<polygon fill=\"black\" stroke=\"black\" stroke-width=\"0.05\" points=\"198.83,-210.55 188.74,-213.79 198.65,-217.55 198.83,-210.55\"/>\n<text text-anchor=\"middle\" x=\"1312\" y=\"-698.8\" font-family=\"Times,serif\" font-size=\"14.00\">16</text>\n</g>\n</g>\n</svg>\n",
            "text/plain": [
              "<graphviz.sources.Source at 0x7aad5055e440>"
            ]
          },
          "metadata": {},
          "execution_count": 65
        }
      ]
    }
  ]
}